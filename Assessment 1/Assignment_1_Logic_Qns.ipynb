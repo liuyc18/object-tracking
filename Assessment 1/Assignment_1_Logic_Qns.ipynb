{
  "cells": [
    {
      "cell_type": "markdown",
      "metadata": {},
      "source": [
        "Group Name: AG 16.\n",
        "\n",
        "| Name | Student ID |\n",
        "|----------|----------|\n",
        "| JIANG Zhuosong | A0314591E |\n",
        "| LEE Bing Cheng | A0297134Y |\n",
        "| LI Yizhe | A0304167J |\n",
        "| LIU Yichao | A0304386A |\n",
        "| MA Kuangxuan | A0304242W |"
      ]
    },
    {
      "cell_type": "markdown",
      "metadata": {},
      "source": [
        "# **Question 2** \n",
        "\n",
        "Three stooges (namely, Carly, Larry, and Moe) are going to a party. Each wears different colors of suits (blue, green, and white), and they like different types of drinks (orange juice, beer, gimlet). The dress color and drink preferences are as follows. Carly loves orange juice, but hates the white color. Larry hates beer.  All Moe’s suits are blue\n",
        "\n",
        "  \n",
        "## Q2a: Representation\n",
        "\n",
        "Convert the given problem into propositional sentences. Follow the guidelines shown below while defining propositional variables.   [6 Marks]\n",
        "\n",
        "Use three characters to represent propositional variables as 'DXX' and 'CXX'. Description of the characters in the variable is provided below:\n",
        " \n",
        "(i)   'DXX':\n",
        "    \n",
        "       First character 'D' indicates that the variable corresponds to drink\n",
        "    \n",
        "       Second character represents person. \n",
        "    \n",
        "            C: Carly\n",
        "        \n",
        "            L: Larry\n",
        "        \n",
        "            M: Mou\n",
        "    \n",
        "        Third character represents name of specific drink\n",
        "    \n",
        "            O: Orange Juice\n",
        "    \n",
        "            B: Beer\n",
        "    \n",
        "            G: Gimlet\n",
        "\n",
        "        Example:   DCB represents 'Carly likes Beer'  \n",
        "\n",
        "        \n",
        "(ii)   'CXX':\n",
        "\n",
        "            First character 'C' indicates color of the suite\n",
        "        \n",
        "            Second character represents person\n",
        "        \n",
        "                C: Carly\n",
        "        \n",
        "                L: Larry\n",
        "        \n",
        "                M: Mou\n",
        "        \n",
        "            Third character represents name of specific color\n",
        "        \n",
        "                B: Blue\n",
        "        \n",
        "                G: Green\n",
        "        \n",
        "                W: White\n",
        "\n",
        "        Example:    CCB  represents  'Carly likes Blue colored suit'\n",
        "\n",
        "\n",
        "\n",
        "## Q2b: Reasoning\n",
        "\n",
        "Deduce their preference using propositional logic. To this end, solve the following sub-problems. [4 Marks]\n",
        "\n",
        "    (i) Identify (with justification) two inference algorithms among tt_entails, resolution-refutation, forward chaining and backward chaining algorithms to solve this problem.  [1 Marks]\n",
        "    \n",
        "\n",
        "    (ii) Select the best of the two algorithms selected in part (i).  Provide the rationale behind your selection. [1 Marks]\n",
        "\n",
        "    (ii) Solve this problem using the algorithm selected in part (ii)[2 Mark]"
      ]
    },
    {
      "cell_type": "code",
      "execution_count": 1,
      "metadata": {},
      "outputs": [],
      "source": [
        "from logic_ import *\n",
        "from utils import *"
      ]
    },
    {
      "cell_type": "markdown",
      "metadata": {},
      "source": [
        "# Q2a. Representation\n",
        "\n",
        "The variables are defined below"
      ]
    },
    {
      "cell_type": "code",
      "execution_count": 2,
      "metadata": {},
      "outputs": [],
      "source": [
        "#Variables\n",
        "(DCB, DLB, DMB, DCG, DLG, DMG, DCO, DLO, DMO) = expr('DCB, DLB, DMB, DCG, DLG, DMG, DCO, DLO, DMO')\n",
        "(CCB, CLB, CMB, CCG, CLG, CMG, CCW, CLW, CMW) = expr('CCB, CLB, CMB, CCG, CLG, CMG, CCW, CLW, CMW')"
      ]
    },
    {
      "cell_type": "markdown",
      "metadata": {},
      "source": [
        "## Building the KB\n",
        "\n",
        "Convert the following five sentences into propositional sentences."
      ]
    },
    {
      "cell_type": "markdown",
      "metadata": {},
      "source": [
        "### Q2a(i). Each wears different colors of suits (green, blue,  and white) [1.5 Marks]"
      ]
    },
    {
      "cell_type": "code",
      "execution_count": 3,
      "metadata": {},
      "outputs": [],
      "source": [
        "# clause_diff_color =  [ \n",
        "#     CCB.__and__(CLG).__and__(CMW).__or__(\n",
        "#     CCB.__and__(CLW).__and__(CMG)).__or__(\n",
        "#     CCG.__and__(CLB).__and__(CMW)).__or__(\n",
        "#     CCG.__and__(CLW).__and__(CMB)).__or__(\n",
        "#     CCW.__and__(CLB).__and__(CMG)).__or__(\n",
        "#     CCW.__and__(CLG).__and__(CMB))\n",
        "# ]   #replace empty list with your answer\n",
        "clause_diff_color = [\n",
        "    ~CCB | ~CLB,\n",
        "    ~CCB | ~CMB,\n",
        "    ~CLB | ~CMB,\n",
        "    ~CCG | ~CLG,\n",
        "    ~CCG | ~CMG,\n",
        "    ~CLG | ~CMG,\n",
        "    ~CCW | ~CLW,\n",
        "    ~CCW | ~CMW,\n",
        "    ~CLW | ~CMW \n",
        "]"
      ]
    },
    {
      "cell_type": "markdown",
      "metadata": {},
      "source": [
        "### Q2a(ii). Each likes different drinks (orange juice, gin and beer)  [1.5 Marks]"
      ]
    },
    {
      "cell_type": "code",
      "execution_count": 4,
      "metadata": {},
      "outputs": [],
      "source": [
        "# clause_diff_drink =  [ \n",
        "#     DCO.__and__(DLB).__and__(DMG).__or__(\n",
        "#     DCO.__and__(DLG).__and__(DMB)).__or__(\n",
        "#     DCB.__and__(DLO).__and__(DMG)).__or__(\n",
        "#     DCB.__and__(DLG).__and__(DMO)).__or__(\n",
        "#     DCG.__and__(DLO).__and__(DMB)).__or__(\n",
        "#     DCG.__and__(DLB).__and__(DMO))\n",
        "# ]   #replace empty list with your answer\n",
        "clause_diff_drink = [\n",
        "    ~DCB | ~DLB,\n",
        "    ~DCB | ~DMB,\n",
        "    ~DLB | ~DMB,\n",
        "    ~DCO | ~DLO,\n",
        "    ~DCO | ~DMO,\n",
        "    ~DLO | ~DMO,\n",
        "    ~DCG | ~DLG,\n",
        "    ~DCG | ~DMG,\n",
        "    ~DLG | ~DMG \n",
        "]"
      ]
    },
    {
      "cell_type": "markdown",
      "metadata": {},
      "source": [
        "### Q2a(iii). Carly loves orange juice but hates white color [0.5 Marks]"
      ]
    },
    {
      "cell_type": "code",
      "execution_count": 5,
      "metadata": {},
      "outputs": [],
      "source": [
        "clause_Carly =  [\n",
        "    DCO&(~CCW)\n",
        "]   #replace empty list with your answer\n"
      ]
    },
    {
      "cell_type": "markdown",
      "metadata": {},
      "source": [
        "### Q2a(iv). Larry hates beer [0.5 Marks] "
      ]
    },
    {
      "cell_type": "code",
      "execution_count": 6,
      "metadata": {},
      "outputs": [],
      "source": [
        "clause_Larry =  [  \n",
        "    ~DLB\n",
        "]   #replace empty list with your answer\n"
      ]
    },
    {
      "cell_type": "markdown",
      "metadata": {},
      "source": [
        "### Q2a(v). All Moe’s suits are blue [0.5 Marks]"
      ]
    },
    {
      "cell_type": "code",
      "execution_count": 7,
      "metadata": {},
      "outputs": [],
      "source": [
        "clause_Moe =  [  \n",
        "    CMB\n",
        "]   #replace empty list with your answer\n"
      ]
    },
    {
      "cell_type": "markdown",
      "metadata": {},
      "source": [
        "### Q2a(vi). Adding clauses to the KB [1.5 Marks]\n",
        "\n",
        "Which KB would you select: PropKB/PropDefiniteKB? Instantiate an object with the selected KB and add the clauses to the KB. \n",
        "\n"
      ]
    },
    {
      "cell_type": "code",
      "execution_count": 8,
      "metadata": {},
      "outputs": [],
      "source": [
        "puzzle_clauses = clause_diff_color + clause_diff_drink + clause_Carly + \\\n",
        "    clause_Larry + clause_Moe \n",
        "#replace the empty list with clauses derived in the subproblems (i) - (v)\n",
        "# puzzle_clauses.__repr__()"
      ]
    },
    {
      "cell_type": "code",
      "execution_count": 18,
      "metadata": {},
      "outputs": [
        {
          "name": "stdout",
          "output_type": "stream",
          "text": [
            "(~CCB | ~CLB)\n",
            "[(~CCB | ~CLB)]\n",
            "(~CCB | ~CMB)\n",
            "[(~CCB | ~CMB)]\n",
            "(~CLB | ~CMB)\n",
            "[(~CLB | ~CMB)]\n",
            "(~CCG | ~CLG)\n",
            "[(~CCG | ~CLG)]\n",
            "(~CCG | ~CMG)\n",
            "[(~CCG | ~CMG)]\n",
            "(~CLG | ~CMG)\n",
            "[(~CLG | ~CMG)]\n",
            "(~CCW | ~CLW)\n",
            "[(~CCW | ~CLW)]\n",
            "(~CCW | ~CMW)\n",
            "[(~CCW | ~CMW)]\n",
            "(~CLW | ~CMW)\n",
            "[(~CLW | ~CMW)]\n",
            "(~DCB | ~DLB)\n",
            "[(~DCB | ~DLB)]\n",
            "(~DCB | ~DMB)\n",
            "[(~DCB | ~DMB)]\n",
            "(~DLB | ~DMB)\n",
            "[(~DLB | ~DMB)]\n",
            "(~DCO | ~DLO)\n",
            "[(~DCO | ~DLO)]\n",
            "(~DCO | ~DMO)\n",
            "[(~DCO | ~DMO)]\n",
            "(~DLO | ~DMO)\n",
            "[(~DLO | ~DMO)]\n",
            "(~DCG | ~DLG)\n",
            "[(~DCG | ~DLG)]\n",
            "(~DCG | ~DMG)\n",
            "[(~DCG | ~DMG)]\n",
            "(~DLG | ~DMG)\n",
            "[(~DLG | ~DMG)]\n",
            "(DCO & ~CCW)\n",
            "[DCO, ~CCW]\n",
            "~DLB\n",
            "[~DLB]\n",
            "CMB\n",
            "[CMB]\n",
            "[(~CCB | ~CLB), (~CCB | ~CMB), (~CLB | ~CMB), (~CCG | ~CLG), (~CCG | ~CMG), (~CLG | ~CMG), (~CCW | ~CLW), (~CCW | ~CMW), (~CLW | ~CMW), (~DCB | ~DLB), (~DCB | ~DMB), (~DLB | ~DMB), (~DCO | ~DLO), (~DCO | ~DMO), (~DLO | ~DMO), (~DCG | ~DLG), (~DCG | ~DMG), (~DLG | ~DMG), DCO, ~CCW, ~DLB, CMB]\n",
            "22\n"
          ]
        }
      ],
      "source": [
        "puzzleKB = PropKB()  # Select an appropriate class to instantiate the KB object\n",
        "for clause in puzzle_clauses:\n",
        "    puzzleKB.tell(expr(clause))\n",
        "\n",
        "print(puzzleKB.clauses)\n",
        "print(len(puzzleKB.clauses))\n"
      ]
    },
    {
      "cell_type": "markdown",
      "metadata": {},
      "source": [
        "# Q2b: Reasoning\n",
        "\n",
        "Deduce their preference using propositional logic. To this end, solve the following sub-problems. "
      ]
    },
    {
      "cell_type": "markdown",
      "metadata": {},
      "source": [
        "### Q2b(i) Identify (with justification) two inference algorithms among tt_entails, resolution-refutation, forward chaining and backward chaining algorithms to solve this problem. [1 Marks]    \n",
        "\n"
      ]
    },
    {
      "cell_type": "markdown",
      "metadata": {},
      "source": [
        "Write your answerfor Q2b(i) here.\n",
        "\n",
        "1. tt_entails: This algorithm is used to determine whether a given knowledge base entails a given sentence. It is a sound and complete algorithm, which means that it will always return the correct answer. However, it is not efficient for large knowledge bases.\n",
        "\n",
        "2. resolution-refutation: This algorithm is used to determine whether a given knowledge base entails a given sentence. It is sound and complete, and it is more efficient than the tt_entails algorithm. However, it is not as efficient as forward chaining or backward chaining."
      ]
    },
    {
      "cell_type": "markdown",
      "metadata": {},
      "source": [
        "### Q2b(ii) Select the best of these two algorithms.  Provide the rationale behind your selection. [1 Marks]\n",
        "\n",
        "Hint: Try solving the problem using both algorithms; it should give you insight in terms of time complexity; Exact time complexity analysis is not needed as it is beyond the scope of this module. \n",
        "\n"
      ]
    },
    {
      "cell_type": "code",
      "execution_count": 10,
      "metadata": {},
      "outputs": [
        {
          "name": "stdout",
          "output_type": "stream",
          "text": [
            "CLG is False\n",
            "Time taken on query CLG using TT: 0.683 s\n",
            "DLB is False\n",
            "Time taken on query DLB using TT: 0.631 s\n",
            "CLG is False\n",
            "Time taken on query CLG using PL: 0.005 s\n",
            "DLB is False\n",
            "Time taken on query DLB using PL: 0.005 s\n"
          ]
        }
      ],
      "source": [
        "from time import time\n",
        "\n",
        "TEST_NUM = 3  # Number of test repetitions\n",
        "\n",
        "# Test the time taken to query the KB using the TT method\n",
        "def test_tt(query, kb):\n",
        "    start = time()\n",
        "    for _ in range(TEST_NUM):\n",
        "        result = kb.ask_if_true(query)\n",
        "    end = time()\n",
        "    print(\"{} is {}\".format(query, result))\n",
        "    print(\"Time taken on query {} using TT: {:.3f} s\".format(query, (end-start)/TEST_NUM))\n",
        "\n",
        "# Test the time taken to query the KB using the PL method\n",
        "\n",
        "def test_pl(query, kb):\n",
        "    start = time()\n",
        "    for _ in range(TEST_NUM):\n",
        "        result = pl_resolution(kb, query)\n",
        "    end = time()\n",
        "    print(\"{} is {}\".format(query, result))\n",
        "    print(\"Time taken on query {} using PL: {:.3f} s\".format(query, (end-start)/TEST_NUM))\n",
        "\n",
        "\n",
        "test_tt(CLG, puzzleKB)\n",
        "test_tt(DLB, puzzleKB)\n",
        "test_pl(CLG, puzzleKB)\n",
        "test_pl(DLB, puzzleKB)"
      ]
    },
    {
      "cell_type": "markdown",
      "metadata": {},
      "source": [
        "Write your answer for Q2b(ii) here. \n",
        "\n",
        "Using `resolution-refutation` algorithm is much quicker than `truth table entails` algotrihtm."
      ]
    },
    {
      "cell_type": "markdown",
      "metadata": {},
      "source": [
        "### Q2b(iii) Solve this problem using the above algorithm [2 Mark]"
      ]
    },
    {
      "cell_type": "markdown",
      "metadata": {},
      "source": [
        "Identify the preferred drink and preferred colors of Carly, Larry and Mou. Use the algorithm selected in Q2b(ii)\n",
        "\n",
        "The results must be stored in the dictionaries drink_dict and color_dict. \n",
        "\n",
        "These two dictionaries are initialized with None; replace them with the correct value. \n",
        "\n",
        "For example:\n",
        "\n",
        "     if Carly likes beer, replace the value corresponding to the key DCB with True. \n",
        "\n",
        "     if Carly likes blue color suit, replace the value corresponding to the key CCB with True. \n",
        "     \n",
        "     if Carly does not like beer, replace the value corresponding to the key DCB with False. \n",
        "\n",
        "     if Carly does not like blue color suit, replace the value corresponding to the key CCB with False. "
      ]
    },
    {
      "cell_type": "code",
      "execution_count": 11,
      "metadata": {},
      "outputs": [],
      "source": [
        "\n",
        "drink_dict =   { DCB: None,\n",
        "                 DLB: None,\n",
        "                 DMB: None,\n",
        "                 DCG: None,\n",
        "                 DLG: None,\n",
        "                 DMG: None,\n",
        "                 DCO: None,\n",
        "                 DLO: None,\n",
        "                 DMO: None }\n",
        "\n",
        "\n",
        "\n",
        "color_dict=    { CCB: None,\n",
        "                 CLB: None,\n",
        "                 CMB: None,\n",
        "                 CCG: None,\n",
        "                 CLG: None,\n",
        "                 CMG: None,\n",
        "                 CCW: None,\n",
        "                 CLW: None,\n",
        "                 CMW: None }\n",
        "\n"
      ]
    },
    {
      "cell_type": "code",
      "execution_count": 14,
      "metadata": {},
      "outputs": [
        {
          "name": "stdout",
          "output_type": "stream",
          "text": [
            "{DCB: False, DLB: False, DMB: False, DCG: False, DLG: False, DMG: False, DCO: True, DLO: False, DMO: False}\n"
          ]
        }
      ],
      "source": [
        "drink_dict = {}\n",
        "for symbs in [DCB, DLB, DMB, DCG, DLG, DMG, DCO, DLO, DMO]:\n",
        "    drink_dict[symbs] = puzzleKB.ask_if_true(symbs)   # replace None with function call to determine truth value of symbs\n",
        "    \n",
        "\n",
        "print(drink_dict)"
      ]
    },
    {
      "cell_type": "code",
      "execution_count": 16,
      "metadata": {},
      "outputs": [
        {
          "name": "stdout",
          "output_type": "stream",
          "text": [
            "{CCB: False, CLB: False, CMB: True, CCG: False, CLG: False, CMG: False, CCW: False, CLW: False, CMW: False}\n"
          ]
        }
      ],
      "source": [
        "color_dict = {}\n",
        "for symbs in (CCB, CLB, CMB, CCG, CLG, CMG, CCW, CLW, CMW):\n",
        "    color_dict[symbs] =  pl_resolution(puzzleKB, symbs)  # replace None with function call to determine truth value of symbs\n",
        "    \n",
        "print(color_dict)"
      ]
    }
  ],
  "metadata": {
    "kernelspec": {
      "display_name": "base",
      "language": "python",
      "name": "python3"
    },
    "language_info": {
      "codemirror_mode": {
        "name": "ipython",
        "version": 3
      },
      "file_extension": ".py",
      "mimetype": "text/x-python",
      "name": "python",
      "nbconvert_exporter": "python",
      "pygments_lexer": "ipython3",
      "version": "3.9.13"
    }
  },
  "nbformat": 4,
  "nbformat_minor": 2
}
