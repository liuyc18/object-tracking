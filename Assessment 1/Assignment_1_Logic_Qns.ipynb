{
  "cells": [
    {
      "cell_type": "markdown",
      "metadata": {},
      "source": [
        "Group Name: AG 16.\n",
        "\n",
        "| Name | Student ID |\n",
        "|----------|----------|\n",
        "| JIANG Zhuosong | A0314591E |\n",
        "| LEE Bing Cheng | A0297134Y |\n",
        "| LI Yizhe | A0304167J |\n",
        "| LIU Yichao | A0304386A |\n",
        "| MA Kuangxuan | A0304242W |\n",
        "\n",
        "- `LIU Yichao` fulfilled the framework and tested the model.\n",
        "- `LEE Bing Cheng` modified the code and pointed out an important bug, that one person can possibly choose no drink, which is DCO = DCB = DCG = False and this should be avoided.\n"
      ]
    },
    {
      "cell_type": "markdown",
      "metadata": {},
      "source": [
        "# **Question 2** \n",
        "\n",
        "Three stooges (namely, Carly, Larry, and Moe) are going to a party. Each wears different colors of suits (blue, green, and white), and they like different types of drinks (orange juice, beer, gimlet). The dress color and drink preferences are as follows. Carly loves orange juice, but hates the white color. Larry hates beer.  All Moe’s suits are blue\n",
        "\n",
        "  \n",
        "## Q2a: Representation\n",
        "\n",
        "Convert the given problem into propositional sentences. Follow the guidelines shown below while defining propositional variables.   [6 Marks]\n",
        "\n",
        "Use three characters to represent propositional variables as 'DXX' and 'CXX'. Description of the characters in the variable is provided below:\n",
        " \n",
        "(i)   'DXX':\n",
        "    \n",
        "       First character 'D' indicates that the variable corresponds to drink\n",
        "    \n",
        "       Second character represents person. \n",
        "    \n",
        "            C: Carly\n",
        "        \n",
        "            L: Larry\n",
        "        \n",
        "            M: Mou\n",
        "    \n",
        "        Third character represents name of specific drink\n",
        "    \n",
        "            O: Orange Juice\n",
        "    \n",
        "            B: Beer\n",
        "    \n",
        "            G: Gimlet\n",
        "\n",
        "        Example:   DCB represents 'Carly likes Beer'  \n",
        "\n",
        "        \n",
        "(ii)   'CXX':\n",
        "\n",
        "            First character 'C' indicates color of the suite\n",
        "        \n",
        "            Second character represents person\n",
        "        \n",
        "                C: Carly\n",
        "        \n",
        "                L: Larry\n",
        "        \n",
        "                M: Mou\n",
        "        \n",
        "            Third character represents name of specific color\n",
        "        \n",
        "                B: Blue\n",
        "        \n",
        "                G: Green\n",
        "        \n",
        "                W: White\n",
        "\n",
        "        Example:    CCB  represents  'Carly likes Blue colored suit'\n",
        "\n",
        "\n",
        "\n",
        "## Q2b: Reasoning\n",
        "\n",
        "Deduce their preference using propositional logic. To this end, solve the following sub-problems. [4 Marks]\n",
        "\n",
        "    (i) Identify (with justification) two inference algorithms among tt_entails, resolution-refutation, forward chaining and backward chaining algorithms to solve this problem.  [1 Marks]\n",
        "    \n",
        "\n",
        "    (ii) Select the best of the two algorithms selected in part (i).  Provide the rationale behind your selection. [1 Marks]\n",
        "\n",
        "    (ii) Solve this problem using the algorithm selected in part (ii)[2 Mark]"
      ]
    },
    {
      "cell_type": "code",
      "execution_count": 1,
      "metadata": {},
      "outputs": [],
      "source": [
        "from logic_ import *\n",
        "from utils import *"
      ]
    },
    {
      "cell_type": "markdown",
      "metadata": {},
      "source": [
        "# Q2a. Representation\n",
        "\n",
        "The variables are defined below"
      ]
    },
    {
      "cell_type": "code",
      "execution_count": 2,
      "metadata": {},
      "outputs": [],
      "source": [
        "#Variables\n",
        "(DCB, DLB, DMB, DCG, DLG, DMG, DCO, DLO, DMO) = expr('DCB, DLB, DMB, DCG, DLG, DMG, DCO, DLO, DMO')\n",
        "(CCB, CLB, CMB, CCG, CLG, CMG, CCW, CLW, CMW) = expr('CCB, CLB, CMB, CCG, CLG, CMG, CCW, CLW, CMW')"
      ]
    },
    {
      "cell_type": "markdown",
      "metadata": {},
      "source": [
        "## Building the KB\n",
        "\n",
        "Convert the following five sentences into propositional sentences."
      ]
    },
    {
      "cell_type": "markdown",
      "metadata": {},
      "source": [
        "### Q2a(i). Each wears different colors of suits (green, blue,  and white) [1.5 Marks]"
      ]
    },
    {
      "cell_type": "code",
      "execution_count": 3,
      "metadata": {},
      "outputs": [],
      "source": [
        "clause_diff_color = [\n",
        "    #Each color is liked by a single person. Need horned clauses for pl_resolution\n",
        "    ((CCW|CMW|CLW)&(~CCW|~CMW)&(~CMW|~CLW)&(~CCW|~CLW)), #Working selection for tt_entail\n",
        "    ((CCG|CMG|CLG)&(~CCG|~CMG)&(~CMG|~CLG)&(~CCG|~CLG)), #Working selection for tt_entail\n",
        "    ((CCB|CMB|CLB)&(~CCB|~CMB)&(~CMB|~CLB)&(~CCB|~CLB)), #Working selection for tt_entail\n",
        "\n",
        "    #Each person likes a single colour. Need horned clauses for pl_resolution\n",
        "    ((CCW|CCB|CCG)&(~CCW|~CCB)&(~CCB|~CCG)&(~CCW|~CCG)), #Working selection for tt_entail\n",
        "    ((CLW|CLB|CLG)&(~CLW|~CLB)&(~CLB|~CLG)&(~CLW|~CLG)), #Working selection for tt_entail\n",
        "    ((CMW|CMB|CMG)&(~CMW|~CMB)&(~CMB|~CMG)&(~CMW|~CMG)), #Working selection for tt_entail\n",
        "\n",
        "    # Not working because one can possibly choose no color, which is not allowed, e.g. CCW|CCB|CCG should be True.\n",
        "    # (~CCW|~CMW)&(~CMW|~CLW)&(~CCW|~CLW),\n",
        "    # (~CCG|~CMG)&(~CMG|~CLG)&(~CCG|~CLG),\n",
        "    # (~CCB|~CMB)&(~CMB|~CLB)&(~CCB|~CLB),\n",
        "    # (~CCW|~CCB)&(~CCB|~CCG)&(~CCW|~CCG),\n",
        "    # (~CLW|~CLB)&(~CLB|~CLG)&(~CLW|~CLG),\n",
        "    # (~CMW|~CMB)&(~CMB|~CMG)&(~CMW|~CMG),\n",
        "\n",
        "] #replace empty list with your answer\n",
        "\n"
      ]
    },
    {
      "cell_type": "markdown",
      "metadata": {},
      "source": [
        "### Q2a(ii). Each likes different drinks (orange juice, gin and beer)  [1.5 Marks]"
      ]
    },
    {
      "cell_type": "code",
      "execution_count": 4,
      "metadata": {},
      "outputs": [],
      "source": [
        "clause_diff_drink = [\n",
        "    #Each drink is liked by a single person. Need horned clauses for pl_resolution\n",
        "    ((DCO|DMO|DLO)&(~DMO|~DCO)&(~DCO|~DLO)&(~DLO|~DMO)), #Working selection for tt_entail. Using CNF with resolution will be very very slow compared to horned clauses with CNF\n",
        "    ((DCB|DMB|DLB)&(~DMB|~DCB)&(~DCB|~DLB)&(~DLB|~DMB)), #Working selection for tt_entail\n",
        "    ((DCG|DMG|DLG)&(~DMG|~DCG)&(~DCG|~DLG)&(~DLG|~DMG)), #Working selection for tt_entail\n",
        "\n",
        "    #Each person only likes a single drink. Need horned clauses for pl_resolution\n",
        "    ((DCO|DCG|DCB)&(~DCO|~DCG)&(~DCG|~DCB)&(~DCB|~DCO)), #Working selection for tt_entail \n",
        "    ((DMO|DMG|DMB)&(~DMO|~DMG)&(~DMG|~DMB)&(~DMB|~DMO)), #Working selection for tt_entail\n",
        "    ((DLO|DLG|DLB)&(~DLO|~DLG)&(~DLG|~DLB)&(~DLB|~DLO)), #Working selection for tt_entail\n",
        "\n",
        "\n",
        "    # # Not working because one can possibly choose no drink, meaning for example, DCO = DCG = DCB = False, which should be avoided.\n",
        "    # (~DMO|~DCO)&(~DCO|~DLO)&(~DLO|~DMO),\n",
        "    # (~DMB|~DCB)&(~DCB|~DLB)&(~DLB|~DMB),\n",
        "    # (~DMG|~DCG)&(~DCG|~DLG)&(~DLG|~DMG),\n",
        "    # (~DCO|~DCG)&(~DCG|~DCB)&(~DCB|~DCO), \n",
        "    # (~DMO|~DMG)&(~DMG|~DMB)&(~DMB|~DMO),\n",
        "    # (~DLO|~DLG)&(~DLG|~DLB)&(~DLB|~DLO), \n",
        "] #replace empty list with your answer"
      ]
    },
    {
      "cell_type": "markdown",
      "metadata": {},
      "source": [
        "### Q2a(iii). Carly loves orange juice but hates white color [0.5 Marks]"
      ]
    },
    {
      "cell_type": "code",
      "execution_count": 5,
      "metadata": {},
      "outputs": [],
      "source": [
        "clause_Carly =  [\n",
        "    DCO,\n",
        "    ~CCW\n",
        "]   #replace empty list with your answer\n"
      ]
    },
    {
      "cell_type": "markdown",
      "metadata": {},
      "source": [
        "### Q2a(iv). Larry hates beer [0.5 Marks] "
      ]
    },
    {
      "cell_type": "code",
      "execution_count": 6,
      "metadata": {},
      "outputs": [],
      "source": [
        "clause_Larry =  [  \n",
        "    ~DLB\n",
        "]   #replace empty list with your answer\n"
      ]
    },
    {
      "cell_type": "markdown",
      "metadata": {},
      "source": [
        "### Q2a(v). All Moe’s suits are blue [0.5 Marks]"
      ]
    },
    {
      "cell_type": "code",
      "execution_count": 7,
      "metadata": {},
      "outputs": [],
      "source": [
        "clause_Moe =  [  \n",
        "    CMB\n",
        "]   #replace empty list with your answer\n"
      ]
    },
    {
      "cell_type": "markdown",
      "metadata": {},
      "source": [
        "### Q2a(vi). Adding clauses to the KB [1.5 Marks]\n",
        "\n",
        "Which KB would you select: PropKB/PropDefiniteKB? Instantiate an object with the selected KB and add the clauses to the KB. \n",
        "\n"
      ]
    },
    {
      "cell_type": "code",
      "execution_count": 8,
      "metadata": {},
      "outputs": [],
      "source": [
        "puzzle_clauses = clause_diff_color + clause_diff_drink + clause_Carly + \\\n",
        "    clause_Larry + clause_Moe \n",
        "#replace the empty list with clauses derived in the subproblems (i) - (v)\n",
        "# puzzle_clauses.__repr__()\n"
      ]
    },
    {
      "cell_type": "code",
      "execution_count": 9,
      "metadata": {},
      "outputs": [],
      "source": [
        "puzzleKB = PropKB()  # Select an appropriate class to instantiate the KB object\n",
        "for clause in puzzle_clauses:\n",
        "    puzzleKB.tell(expr(clause))"
      ]
    },
    {
      "cell_type": "markdown",
      "metadata": {},
      "source": [
        "# Q2b: Reasoning\n",
        "\n",
        "Deduce their preference using propositional logic. To this end, solve the following sub-problems. "
      ]
    },
    {
      "cell_type": "markdown",
      "metadata": {},
      "source": [
        "### Q2b(i) Identify (with justification) two inference algorithms among tt_entails, resolution-refutation, forward chaining and backward chaining algorithms to solve this problem. [1 Marks]    \n",
        "\n"
      ]
    },
    {
      "cell_type": "markdown",
      "metadata": {},
      "source": [
        "Write your answerfor Q2b(i) here.\n",
        "\n",
        "1. tt_entails: Exhausting all possible values of the truth table to determine whether a given knowledge base entails a given sentence. It is a sound and complete algorithm, which means that it will always return the correct answer. However, it is not efficient for large knowledge bases, the time complexity is exponential to the number of symbols in the knowledge base.\n",
        "\n",
        "2. resolution-refutation: This algorithm is used to determine whether a given knowledge base entails a given sentence, using the resolution tule to derive a contradiction. It is sound and complete, and it is more efficient than the tt_entails algorithm. However, the time complexity is still exponential to the number of clauses in the knowledge base, especially when the query is a False statement.\n",
        "\n",
        "Forward and backward chaining introduces additional difficulty where we need to ensure that the clauses are in definite clause / horn clause form. As that is difficult to achieve here, model checking / resolution-refutation will be easier due to them not requiring as strict of a form requirement."
      ]
    },
    {
      "cell_type": "markdown",
      "metadata": {},
      "source": [
        "### Q2b(ii) Select the best of these two algorithms.  Provide the rationale behind your selection. [1 Marks]\n",
        "\n",
        "Hint: Try solving the problem using both algorithms; it should give you insight in terms of time complexity; Exact time complexity analysis is not needed as it is beyond the scope of this module. \n",
        "\n"
      ]
    },
    {
      "cell_type": "code",
      "execution_count": 10,
      "metadata": {},
      "outputs": [
        {
          "name": "stdout",
          "output_type": "stream",
          "text": [
            "DCO is True\n",
            "Time taken on query DCO using TT: 3.829 s\n",
            "DCO is True\n",
            "Time taken on query DCO using PL: 0.015 s\n",
            "CMB is True\n",
            "Time taken on query CMB using TT: 3.854 s\n",
            "CMB is True\n",
            "Time taken on query CMB using PL: 0.023 s\n"
          ]
        }
      ],
      "source": [
        "from time import time\n",
        "\n",
        "TEST_NUM = 3  # Number of test repetitions\n",
        "\n",
        "# Test the time taken to query the KB using the TT method\n",
        "def test_tt(query, kb):\n",
        "    start = time()\n",
        "    for _ in range(TEST_NUM):\n",
        "        result = kb.ask_if_true(query)\n",
        "    end = time()\n",
        "    print(\"{} is {}\".format(query, result))\n",
        "    print(\"Time taken on query {} using TT: {:.3f} s\".format(query, (end-start)/TEST_NUM))\n",
        "\n",
        "def test_pl(query, kb):\n",
        "    start = time()\n",
        "    for _ in range(TEST_NUM):\n",
        "        result = pl_resolution(kb, query)\n",
        "    end = time()\n",
        "    print(\"{} is {}\".format(query, result))\n",
        "    print(\"Time taken on query {} using PL: {:.3f} s\".format(query, (end-start)/TEST_NUM))\n",
        "\n",
        "\n",
        "# both True clauses\n",
        "test_tt(DCO, puzzleKB)\n",
        "test_pl(DCO, puzzleKB)\n",
        "test_tt(CMB, puzzleKB)\n",
        "test_pl(CMB, puzzleKB)"
      ]
    },
    {
      "cell_type": "code",
      "execution_count": 11,
      "metadata": {},
      "outputs": [
        {
          "name": "stdout",
          "output_type": "stream",
          "text": [
            "False\n",
            "False\n",
            "True\n"
          ]
        }
      ],
      "source": [
        "#The below proves that CNF forms can be used with pl_resolution. So it must be a time complexity issue if we are not able to reach an answer.\n",
        "\n",
        "test = PropKB()\n",
        "\n",
        "pz = [\n",
        "    CCB|CMB|CLB, (~CLB|~CMB),(~CMB|~CCB),(~CCB|~CLB), CMB\n",
        "]\n",
        "\n",
        "for clause in pz:\n",
        "    test.tell(expr(clause))\n",
        "\n",
        "#CLB and CCB must be false because CMB is true.\n",
        "\n",
        "print(pl_resolution(test,expr(CLB)))\n",
        "print(pl_resolution(test,expr(CCB)))\n",
        "print(pl_resolution(test,expr(CMB)))\n"
      ]
    },
    {
      "cell_type": "code",
      "execution_count": 12,
      "metadata": {},
      "outputs": [
        {
          "name": "stdout",
          "output_type": "stream",
          "text": [
            "729\n",
            "729\n"
          ]
        }
      ],
      "source": [
        "# Using another way is also time consuming\n",
        "\n",
        "test_kb = PropKB()\n",
        "\n",
        "test_expr_C = (CCB & CLW & CMG) | (CCB & CLG & CMW) | (CCG & CLW & CMB) | (CCG & CLB & CMW) | (CCW & CLG & CMB) | (CCW & CLB & CMG)\n",
        "test_expr_D = (DCO & DMB & DLG) | (DCO & DMG & DLB) | (DCB & DMO & DLG) | (DCB & DMG & DLO) | (DCG & DMO & DLB) | (DCG & DMB & DLO)\n",
        "\n",
        "cnf_C = to_cnf(test_expr_C)\n",
        "cnf_D = to_cnf(test_expr_D)\n",
        "print(len(cnf_C.__repr__().split('&')))\n",
        "print(len(cnf_D.__repr__().split('&')))\n",
        "\n",
        "# test_kb.tell(test_expr_C)\n",
        "# test_kb.tell(test_expr_D)\n",
        "test_kb.tell(cnf_C)\n",
        "test_kb.tell(cnf_D)\n",
        "\n",
        "# time-consuming\n",
        "# print(pl_resolution(test_kb, expr(CMB))) # True \n",
        "# print(pl_resolution(test_kb, expr(CCB))) # False"
      ]
    },
    {
      "cell_type": "markdown",
      "metadata": {},
      "source": [
        "Write your answer for Q2b(ii) here. \n",
        "\n",
        "Using `resolution-refutation` algorithm is much quicker than `truth table entails` algorithm. \n",
        "\n",
        "However, `resolution-refutation` with CNF clauses is a lot slower compared to using horned clauses. \n",
        "\n",
        "This is because each step could lead to multiple intermediate clauses which would cause the number of models to increase exponentially. \n",
        "\n",
        "At the same time, ~CCW, for example, is very difficult to express in horned clause form, causing us not being able to express the models properly in horned clause form.\n",
        "\n",
        "This makes using `truth table entails` better in this case because the number of models is limited and there is no limitation on the clauses."
      ]
    },
    {
      "cell_type": "markdown",
      "metadata": {},
      "source": [
        "### Q2b(iii) Solve this problem using the above algorithm [2 Mark]"
      ]
    },
    {
      "cell_type": "markdown",
      "metadata": {},
      "source": [
        "Identify the preferred drink and preferred colors of Carly, Larry and Mou. Use the algorithm selected in Q2b(ii)\n",
        "\n",
        "The results must be stored in the dictionaries drink_dict and color_dict. \n",
        "\n",
        "These two dictionaries are initialized with False; replace them with the correct value. \n",
        "\n",
        "For example:\n",
        "\n",
        "     if Carly likes beer, replace the value corresponding to the key DCB with True. \n",
        "\n",
        "     if Carly likes blue color suit, replace the value corresponding to the key CCB with True. \n",
        "     \n",
        "     if Carly does not like beer, replace the value corresponding to the key DCB with False. \n",
        "\n",
        "     if Carly does not like blue color suit, replace the value corresponding to the key CCB with False. "
      ]
    },
    {
      "cell_type": "code",
      "execution_count": null,
      "metadata": {},
      "outputs": [],
      "source": [
        "\n",
        "drink_dict =   { DCB: False,\n",
        "                 DLB: False,\n",
        "                 DMB: True,\n",
        "                 DCG: False,\n",
        "                 DLG: True,\n",
        "                 DMG: False,\n",
        "                 DCO: True,\n",
        "                 DLO: False,\n",
        "                 DMO: False }\n",
        "\n",
        "\n",
        "\n",
        "color_dict =   { CCB: False,\n",
        "                 CLB: False,\n",
        "                 CMB: True,\n",
        "                 CCG: True,\n",
        "                 CLG: False,\n",
        "                 CMG: False,\n",
        "                 CCW: False,\n",
        "                 CLW: True,\n",
        "                 CMW: False }\n",
        "\n"
      ]
    },
    {
      "cell_type": "code",
      "execution_count": 14,
      "metadata": {},
      "outputs": [
        {
          "name": "stdout",
          "output_type": "stream",
          "text": [
            "{DCB: False, DLB: False, DMB: True, DCG: False, DLG: True, DMG: False, DCO: True, DLO: False, DMO: False}\n"
          ]
        }
      ],
      "source": [
        "drink_dict = {}\n",
        "for symbs in [DCB, DLB, DMB, DCG, DLG, DMG, DCO, DLO, DMO]:\n",
        "    drink_dict[symbs] = puzzleKB.ask_if_true(symbs)   # replace False with function call to determine truth value of symbs\n",
        "    \n",
        "print(drink_dict)"
      ]
    },
    {
      "cell_type": "code",
      "execution_count": 15,
      "metadata": {},
      "outputs": [
        {
          "name": "stdout",
          "output_type": "stream",
          "text": [
            "{CCB: False, CLB: False, CMB: True, CCG: True, CLG: False, CMG: False, CCW: False, CLW: True, CMW: False}\n"
          ]
        }
      ],
      "source": [
        "color_dict = {}\n",
        "for symbs in (CCB, CLB, CMB, CCG, CLG, CMG, CCW, CLW, CMW):\n",
        "    color_dict[symbs] = puzzleKB.ask_if_true(symbs)  \n",
        "    \n",
        "print(color_dict)"
      ]
    }
  ],
  "metadata": {
    "kernelspec": {
      "display_name": "base",
      "language": "python",
      "name": "python3"
    },
    "language_info": {
      "codemirror_mode": {
        "name": "ipython",
        "version": 3
      },
      "file_extension": ".py",
      "mimetype": "text/x-python",
      "name": "python",
      "nbconvert_exporter": "python",
      "pygments_lexer": "ipython3",
      "version": "3.9.13"
    }
  },
  "nbformat": 4,
  "nbformat_minor": 2
}
