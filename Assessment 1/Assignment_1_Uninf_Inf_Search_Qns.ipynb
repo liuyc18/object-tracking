{
 "cells": [
  {
   "cell_type": "markdown",
   "metadata": {
    "id": "1a_O3hT0JDXf"
   },
   "source": [
    "Group Name: AG 16.\n",
    "\n",
    "| Name | Student ID |\n",
    "|----------|----------|\n",
    "| LIU Yichao | A0304386A |\n",
    "| LI Yizhe | A0304167J |\n",
    "| LEE Bing Cheng | A0297134Y |\n",
    "| #YOUR ANSWER GOES HERE | #YOUR ANSWER GOES HERE |\n",
    "| #YOUR ANSWER GOES HERE | #YOUR ANSWER GOES HERE |"
   ]
  },
  {
   "cell_type": "markdown",
   "metadata": {
    "id": "Ho8XMSP2JDXq"
   },
   "source": [
    "# Question 1\n",
    "\n",
    "Consider the maze shown below. The Maze has 16 rows and 24 columns The objective is to find a shortest path from cell $S$ to cell $G$.\n",
    "\n",
    "\n",
    "![Maze](Maze.jpg)\n",
    "\n",
    "\n",
    "The agent can take four actions in each cell: 'RIGHT', 'DOWN', 'UP', 'LEFT'.  \n",
    "\n",
    "Each cell is represented as $(x,y)$, where $x$ indicates row number and $y$ indicates column number. Action 'UP' takes the agent from cell $(x,y)$ to $(x+1,y)$. Action 'DOWN' takes the agent from cell $(x,y)$ to $(x-1,y)$. Action 'RIGHT' takes the agent from cell $(x,y)$ to $(x,y+1)$. Action 'LEFT' takes the agent from cell $(x,y)$ to $(x,y-1)$. The triplet $(s,a,s')$  indicates that taking action $a$ at state $s$ leads to state $s'$. Actions 'LEFT' or 'RIGHT' cost 10 units for all $(s,a,s')$. Actions 'UP' or 'DOWN' cost 1 unit for all  $(s,a,s')$.  The agent cannot move into cells that are shaded. Assume that the agent knows the boundaries of the maze and has full observability. Consequently, at the bottom (row 0) and top (row 15), the agent will not take actions 'DOWN' and 'UP', respectively; at left (column 0) and right (column 23) columns, the agent will not take 'LEFT' and 'RIGHT' actions, respectively. Similalry, the agent will not take actions that lead to shaded region in the maze."
   ]
  },
  {
   "cell_type": "markdown",
   "metadata": {},
   "source": [
    "## **Q1.a: Class Maze(Problem)** [5 Marks]\n",
    "\n",
    "Write a Maze class to create a model for this problem. You should not use an explicit state space model. The modelling should inherit the abstract class 'Problem' (given below). With the problem formulation, find the shortest path from S to G cell. Propose and implement multiple heuristics (at least two heuristics) for informed search algorithms."
   ]
  },
  {
   "cell_type": "markdown",
   "metadata": {
    "id": "IQJTwtm6JDXs"
   },
   "source": [
    "## **Q1.b: Analysis of the Algorithms** [5 Marks]\n",
    "\n",
    "1. Solve the above Maze problem using the following algorithms\n",
    "\n",
    "    a. Breadth-First Search\n",
    "\n",
    "    b. Depth-First Search with Cycle-Check\n",
    "\n",
    "    c. Iterative-Deepening Search with Cycle-Check\n",
    "\n",
    "    d. Uniform-Cost Search\n",
    "\n",
    "    e. A* Search \n",
    "\n",
    "    f. Greedy Best-first Search\n",
    "\n",
    "2. Identify the number of number of expanded nodes, maximum frontier size, and path-cost for the above algorithms.  Summarize the statistics in the form of a table.\n",
    " \n",
    "3. Compare the performance of informed search algorithms with proposed heuristics. Identify the best performing heuristic and explain.\n",
    " \n",
    "\n",
    "Note 1: You must follow the problem formulation discussed in the class. A abstract class for Problem amd Node definition is presented below. The search tree generation should follow the template discussed in the class (i.e., Node class, expand methods, etc.). \n",
    "\n",
    "Note 2: The code should be written in a single jupyter notebook file."
   ]
  },
  {
   "cell_type": "code",
   "execution_count": 19,
   "metadata": {
    "id": "uG30krXtJDXv"
   },
   "outputs": [],
   "source": [
    "class Problem:\n",
    "    \"\"\"The abstract class for a formal problem. A new domain subclasses this,\n",
    "    overriding `actions` and `results`, and perhaps other methods.\n",
    "    The default heuristic is 0 and the default action cost is 1 for all states.\n",
    "    When you create an instance of a subclass, specify `initial`, and `goal` states \n",
    "    (or give an `is_goal` method) and perhaps other keyword args for the subclass.\"\"\"\n",
    "\n",
    "    def __init__(self, initial=None, goal=None, **kwds): \n",
    "        self.__dict__.update(initial=initial, goal=goal, **kwds) \n",
    "        \n",
    "    def actions(self, state):        raise NotImplementedError\n",
    "    def result(self, state, action): raise NotImplementedError\n",
    "    def is_goal(self, state):        return state == self.goal\n",
    "    def action_cost(self, s, a, s1): return 1\n",
    "    def h(self, node):               return 0\n",
    "    \n",
    "    def __str__(self):\n",
    "        return '{}({!r}, {!r})'.format(\n",
    "            type(self).__name__, self.initial, self.goal)"
   ]
  },
  {
   "cell_type": "code",
   "execution_count": 20,
   "metadata": {
    "id": "F1qsU3yzJDXy"
   },
   "outputs": [],
   "source": [
    "# Use the following Node class to generate search tree\n",
    "import math\n",
    "class Node:\n",
    "    \"A Node in a search tree.\"\n",
    "    def __init__(self, state, parent=None, action=None, path_cost=0):\n",
    "        self.__dict__.update(state=state, parent=parent, action=action, path_cost=path_cost)\n",
    "\n",
    "    def __repr__(self): return '<{}>'.format(self.state)\n",
    "    def __len__(self): return 0 if self.parent is None else (1 + len(self.parent))\n",
    "    def __lt__(self, other): return self.path_cost < other.path_cost \n"
   ]
  },
  {
   "cell_type": "code",
   "execution_count": 21,
   "metadata": {},
   "outputs": [],
   "source": [
    "failure = Node('failure', path_cost=math.inf) # Indicates an algorithm couldn't find a solution.\n",
    "cutoff  = Node('cutoff',  path_cost=math.inf) # Indicates iterative deepening search was cut off.\n",
    "  \n",
    "def expand(problem, node):\n",
    "    \"Expand a node, generating the children nodes.\"\n",
    "    s = node.state\n",
    "    for action in problem.actions(s):\n",
    "        s1 = problem.result(s, action)\n",
    "        cost = node.path_cost + problem.action_cost(s, action, s1)\n",
    "        yield Node(s1, node, action, cost)\n",
    "        \n",
    "\n",
    "def path_actions(node):\n",
    "    \"The sequence of actions to get to this node.\"\n",
    "    if node.parent is None:\n",
    "        return []  \n",
    "    return path_actions(node.parent) + [node.action]\n",
    "\n",
    "\n",
    "def path_states(node):\n",
    "    \"The sequence of states to get to this node.\"\n",
    "    if node in (cutoff, failure, None): \n",
    "        return []\n",
    "    return path_states(node.parent) + [node.state]"
   ]
  },
  {
   "cell_type": "code",
   "execution_count": 22,
   "metadata": {},
   "outputs": [],
   "source": [
    "FIFOQueue = deque\n",
    "\n",
    "LIFOQueue = list\n",
    "\n",
    "class PriorityQueue:\n",
    "    \"\"\"A queue in which the item with minimum f(item) is always popped first.\"\"\"\n",
    "\n",
    "    def __init__(self, items=(), key=lambda x: x): \n",
    "        self.key = key\n",
    "        self.items = [] # a heap of (score, item) pairs\n",
    "        for item in items:\n",
    "            self.add(item)\n",
    "         \n",
    "    def add(self, item):\n",
    "        \"\"\"Add item to the queuez.\"\"\"\n",
    "        pair = (self.key(item), item)\n",
    "        heapq.heappush(self.items, pair)\n",
    "\n",
    "    def pop(self):\n",
    "        \"\"\"Pop and return the item with min f(item) value.\"\"\"\n",
    "        return heapq.heappop(self.items)[1]\n",
    "    \n",
    "    def top(self): return self.items[0][1]\n",
    "\n",
    "    def __len__(self): return len(self.items)"
   ]
  },
  {
   "cell_type": "markdown",
   "metadata": {},
   "source": [
    "## **Q1.a: Class Maze(Problem)** [5 Marks]\n",
    "\n",
    "Write a Maze class to create a model for this problem. You should not use an explicit state space model. The modelling should inherit the abstract class 'Problem' (given below). With the problem formulation, find the shortest path from S to G cell. Propose and implement multiple heuristics (at least two heuristics) for informed search algorithms."
   ]
  },
  {
   "cell_type": "code",
   "execution_count": 23,
   "metadata": {
    "id": "uvB_5QSvJDXz"
   },
   "outputs": [],
   "source": [
    "MAZE_ROWS = 16\n",
    "MAZE_COLUMNS = 24\n",
    "ACTIONS = {'UP', 'LEFT', 'RIGHT', 'DOWN'}\n",
    "SHADED = {(14,9),(10,9),(9,9),(8,9),(7,9),(6,9),(13,10),(12,10),(11,10),(10,10),(11,12),(10,12),(11,13),(10,13)}\n",
    "\n",
    "class Maze(Problem):\n",
    "    \n",
    "    def __init__(self, initial=None, goal=None):\n",
    "        Problem.__init__(self, initial=initial, goal=goal)\n",
    "        #self.actions=('UP','DOWN','LEFT','RIGHT')                   \n",
    "        #directions = ((1,0),(-1,0),(0,-1),(0,1))\n",
    "\n",
    "    def h1(self, node): #Euclidean distance\n",
    "        #Your Code goes here\n",
    "        gx,gy = self.goal \n",
    "        x,y = node\n",
    "        return math.sqrt((gx-x)**2+(gy-y)**2)\n",
    "\n",
    "\n",
    "    def h2(self, node): #manhattan\n",
    "        #Your Code goes here\n",
    "        gx,gy = self.goal \n",
    "        x,y = node\n",
    "        return abs(gx-x)+abs(gy-y)\n",
    "\n",
    "    def action_cost(self, s, a, s1): \n",
    "        #Your Code goes here\n",
    "        if self.result(s,a) == s1:\n",
    "            if a in {'UP','DOWN'}:\n",
    "                return 1\n",
    "            else:\n",
    "                return 10\n",
    "        return False\n",
    "        \n",
    "                  \n",
    "    def result(self, state, action):        \n",
    "        #Your Code goes here  \n",
    "        if action not in ACTIONS:\n",
    "            return False\n",
    "        if action == 'UP':\n",
    "            dx,dy = 1,0\n",
    "        elif action == 'DOWN':\n",
    "            dx,dy = -1,0\n",
    "        elif action == 'LEFT':\n",
    "            dx,dy = 0,-1\n",
    "        elif action == 'RIGHT':\n",
    "            dx,dy = 0,1\n",
    "        x,y = state\n",
    "        result_x,result_y = dx+x,dy+y\n",
    "        if 0 <= result_x < MAZE_ROWS and 0 <= result_y < MAZE_COLUMNS and (result_x,result_y) not in SHADED:\n",
    "            return (result_x,result_y)\n",
    "        return False\n",
    "\n",
    "\n",
    "    def actions(self, state):       \n",
    "        #Your Code goes here   \n",
    "        available_actions = set()\n",
    "        for action in ACTIONS:\n",
    "            if self.result(state,action):\n",
    "                available_actions.add(action)\n",
    "        return available_actions\n",
    "\n",
    "    \n"
   ]
  },
  {
   "cell_type": "markdown",
   "metadata": {},
   "source": [
    "### Testing the model"
   ]
  },
  {
   "cell_type": "code",
   "execution_count": 24,
   "metadata": {},
   "outputs": [],
   "source": [
    "#Testing Maze class\n",
    "#Note that we perform additional tests to validate the modeling\n",
    "\n",
    "#An instance of Maze problem; initialize the Maze class with appropriate values\n",
    "m1 = Maze(initial = None, goal = None)\n",
    "\n",
    "# Testing the methods in Maze class\n",
    "assert m1.result((4,12),'UP') == (5,12)\n",
    "assert m1.action_cost((4,12),'UP',(5,12)) == 1\n",
    "assert m1.actions((4,12)) == {'UP', 'LEFT', 'RIGHT', 'DOWN'}"
   ]
  },
  {
   "cell_type": "markdown",
   "metadata": {},
   "source": [
    "## **Q1.b: Analysis of the Algorithms** [5 Marks]\n",
    "\n",
    "1. Solve the above Maze problem using the following algorithms\n",
    "\n",
    "    a. Breadth-First Search\n",
    "\n",
    "    b. Depth-First Search with Cycle-Check\n",
    "\n",
    "    c. Iterative-Deepening Search with Cycle-Check\n",
    "\n",
    "    d. Uniform-Cost Search\n",
    "\n",
    "    e. A* Search \n",
    "\n",
    "    f. Greedy Best-first Search"
   ]
  },
  {
   "cell_type": "code",
   "execution_count": 25,
   "metadata": {},
   "outputs": [
    {
     "name": "stdout",
     "output_type": "stream",
     "text": [
      "Path cost:  39\n",
      "Max frontier:  32\n",
      "Expanded nodes:  176\n"
     ]
    }
   ],
   "source": [
    "#Your code for breadth-first search\n",
    "from collections import deque\n",
    "\n",
    "maze = Maze(initial=(8,10),goal=(11,9))\n",
    "\n",
    "\n",
    "def breadth_first_search(maze):\n",
    "    max_frontier = 0\n",
    "    expanded_nodes = 0\n",
    "    node = Node(maze.initial)\n",
    "    if maze.goal == node.state:\n",
    "        return node\n",
    "    frontier = FIFOQueue([node])\n",
    "    reached = {maze.initial}\n",
    "    while len(frontier) != 0:\n",
    "        node = frontier.popleft()\n",
    "        expanded_nodes += 1\n",
    "        for child in expand(maze, node):\n",
    "            s = child.state\n",
    "            if maze.goal == s:\n",
    "                return child,max_frontier,expanded_nodes\n",
    "            if s not in reached:\n",
    "                reached.add(s)\n",
    "                frontier.append(child)\n",
    "                if len(frontier) > max_frontier:\n",
    "                    max_frontier = len(frontier)\n",
    "    return False\n",
    "\n",
    "node,mf,en = breadth_first_search(maze)\n",
    "print(f\"Path cost: \",node.path_cost)\n",
    "print(f\"Max frontier: \",mf)\n",
    "print(f\"Expanded nodes: \",en)"
   ]
  },
  {
   "cell_type": "code",
   "execution_count": null,
   "metadata": {},
   "outputs": [],
   "source": [
    "#Your code for  depth-first search with cycle-check"
   ]
  },
  {
   "cell_type": "code",
   "execution_count": null,
   "metadata": {},
   "outputs": [],
   "source": [
    "#Your code for  iterative Deepening search with cycle-check"
   ]
  },
  {
   "cell_type": "code",
   "execution_count": null,
   "metadata": {},
   "outputs": [],
   "source": [
    "#Your code for uniform-cost search"
   ]
  },
  {
   "cell_type": "code",
   "execution_count": null,
   "metadata": {},
   "outputs": [],
   "source": [
    "#Your code for A* Search"
   ]
  },
  {
   "cell_type": "code",
   "execution_count": null,
   "metadata": {},
   "outputs": [],
   "source": [
    "#Your code for greedy-best first search"
   ]
  },
  {
   "cell_type": "markdown",
   "metadata": {},
   "source": [
    "2. Identify the number of number of expanded nodes, maximum frontier size, and path-cost for the above algorithms.  Summarize the statistics in the following table."
   ]
  },
  {
   "cell_type": "markdown",
   "metadata": {},
   "source": [
    "\n",
    " Algorithm             |Number of expanded nodes  | Maximum Frontier Size  |  Path Cost                  |\n",
    "|:---------------------|:-------------------------|:-----------------------|:----------\n",
    "| Breadth-First Search |            176              |       32                 | 39\n",
    "| DFS with cycle check |                          |                        |\n",
    "| IDS with cycle check |                          |                        |\n",
    "| UCS                  |                          |                        |\n",
    "| A* Search            |                          |                        |\n",
    "| GBFS                 |                          |                        |"
   ]
  },
  {
   "cell_type": "markdown",
   "metadata": {},
   "source": [
    "3. Compare the performance of informed search algorithms with proposed heuristics. Identify the best performing heuristic and explain.\n",
    "\n"
   ]
  }
 ],
 "metadata": {
  "colab": {
   "provenance": []
  },
  "kernelspec": {
   "display_name": "Python 3",
   "language": "python",
   "name": "python3"
  },
  "language_info": {
   "codemirror_mode": {
    "name": "ipython",
    "version": 3
   },
   "file_extension": ".py",
   "mimetype": "text/x-python",
   "name": "python",
   "nbconvert_exporter": "python",
   "pygments_lexer": "ipython3",
   "version": "3.11.9"
  },
  "orig_nbformat": 4
 },
 "nbformat": 4,
 "nbformat_minor": 0
}
