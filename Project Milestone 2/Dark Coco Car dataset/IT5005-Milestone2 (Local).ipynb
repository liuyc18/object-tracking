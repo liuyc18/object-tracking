{
 "cells": [
  {
   "cell_type": "markdown",
   "metadata": {},
   "source": [
    "Group Name: AG 16.\n",
    "\n",
    "| Name | Student ID | Contributions |\n",
    "|----------|----------|----------|\n",
    "| JIANG Zhuosong | A0314591E ||\n",
    "| LEE Bing Cheng | A0297134Y | |\n",
    "| LI Yizhe | A0304167J | |\n",
    "| LIU Yichao | A0304386A | |\n",
    "| MA Kuangxuan | A0304242W ||"
   ]
  },
  {
   "cell_type": "code",
   "execution_count": null,
   "metadata": {},
   "outputs": [
    {
     "name": "stdout",
     "output_type": "stream",
     "text": [
      "Ultralytics 8.3.98  Python-3.11.9 torch-2.6.0+cu126 CUDA:0 (NVIDIA GeForce RTX 4070, 12282MiB)\n",
      "Setup complete  (12 CPUs, 31.9 GB RAM, 691.9/952.8 GB disk)\n"
     ]
    }
   ],
   "source": [
    "import ultralytics\n",
    "ultralytics.checks()\n",
    "\n",
    "from ultralytics import YOLO"
   ]
  },
  {
   "cell_type": "code",
   "execution_count": 14,
   "metadata": {},
   "outputs": [
    {
     "name": "stdout",
     "output_type": "stream",
     "text": [
      "New https://pypi.org/project/ultralytics/8.3.99 available  Update with 'pip install -U ultralytics'\n",
      "Ultralytics 8.3.98  Python-3.11.9 torch-2.6.0+cu126 CUDA:0 (NVIDIA GeForce RTX 4070, 12282MiB)\n",
      "\u001b[34m\u001b[1mengine\\trainer: \u001b[0mtask=detect, mode=train, model=yolo11n.pt, data=data.yaml, epochs=50, time=None, patience=100, batch=16, imgsz=640, save=True, save_period=-1, cache=False, device=None, workers=8, project=None, name=train2, exist_ok=False, pretrained=True, optimizer=auto, verbose=True, seed=0, deterministic=True, single_cls=False, rect=False, cos_lr=False, close_mosaic=10, resume=False, amp=True, fraction=1.0, profile=False, freeze=None, multi_scale=False, overlap_mask=True, mask_ratio=4, dropout=0.0, val=True, split=val, save_json=False, save_hybrid=False, conf=None, iou=0.7, max_det=300, half=False, dnn=False, plots=True, source=None, vid_stride=1, stream_buffer=False, visualize=False, augment=False, agnostic_nms=False, classes=None, retina_masks=False, embed=None, show=False, save_frames=False, save_txt=False, save_conf=False, save_crop=False, show_labels=True, show_conf=True, show_boxes=True, line_width=None, format=torchscript, keras=False, optimize=False, int8=False, dynamic=False, simplify=True, opset=None, workspace=None, nms=False, lr0=0.01, lrf=0.01, momentum=0.937, weight_decay=0.0005, warmup_epochs=3.0, warmup_momentum=0.8, warmup_bias_lr=0.1, box=7.5, cls=0.5, dfl=1.5, pose=12.0, kobj=1.0, nbs=64, hsv_h=0.015, hsv_s=0.7, hsv_v=0.4, degrees=0.0, translate=0.1, scale=0.5, shear=0.0, perspective=0.0, flipud=0.0, fliplr=0.5, bgr=0.0, mosaic=1.0, mixup=0.0, copy_paste=0.0, copy_paste_mode=flip, auto_augment=randaugment, erasing=0.4, crop_fraction=1.0, cfg=None, tracker=botsort.yaml, save_dir=runs\\detect\\train2\n",
      "Overriding model.yaml nc=80 with nc=1\n",
      "\n",
      "                   from  n    params  module                                       arguments                     \n",
      "  0                  -1  1       464  ultralytics.nn.modules.conv.Conv             [3, 16, 3, 2]                 \n",
      "  1                  -1  1      4672  ultralytics.nn.modules.conv.Conv             [16, 32, 3, 2]                \n",
      "  2                  -1  1      6640  ultralytics.nn.modules.block.C3k2            [32, 64, 1, False, 0.25]      \n",
      "  3                  -1  1     36992  ultralytics.nn.modules.conv.Conv             [64, 64, 3, 2]                \n",
      "  4                  -1  1     26080  ultralytics.nn.modules.block.C3k2            [64, 128, 1, False, 0.25]     \n",
      "  5                  -1  1    147712  ultralytics.nn.modules.conv.Conv             [128, 128, 3, 2]              \n",
      "  6                  -1  1     87040  ultralytics.nn.modules.block.C3k2            [128, 128, 1, True]           \n",
      "  7                  -1  1    295424  ultralytics.nn.modules.conv.Conv             [128, 256, 3, 2]              \n",
      "  8                  -1  1    346112  ultralytics.nn.modules.block.C3k2            [256, 256, 1, True]           \n",
      "  9                  -1  1    164608  ultralytics.nn.modules.block.SPPF            [256, 256, 5]                 \n",
      " 10                  -1  1    249728  ultralytics.nn.modules.block.C2PSA           [256, 256, 1]                 \n",
      " 11                  -1  1         0  torch.nn.modules.upsampling.Upsample         [None, 2, 'nearest']          \n",
      " 12             [-1, 6]  1         0  ultralytics.nn.modules.conv.Concat           [1]                           \n",
      " 13                  -1  1    111296  ultralytics.nn.modules.block.C3k2            [384, 128, 1, False]          \n",
      " 14                  -1  1         0  torch.nn.modules.upsampling.Upsample         [None, 2, 'nearest']          \n",
      " 15             [-1, 4]  1         0  ultralytics.nn.modules.conv.Concat           [1]                           \n",
      " 16                  -1  1     32096  ultralytics.nn.modules.block.C3k2            [256, 64, 1, False]           \n",
      " 17                  -1  1     36992  ultralytics.nn.modules.conv.Conv             [64, 64, 3, 2]                \n",
      " 18            [-1, 13]  1         0  ultralytics.nn.modules.conv.Concat           [1]                           \n",
      " 19                  -1  1     86720  ultralytics.nn.modules.block.C3k2            [192, 128, 1, False]          \n",
      " 20                  -1  1    147712  ultralytics.nn.modules.conv.Conv             [128, 128, 3, 2]              \n",
      " 21            [-1, 10]  1         0  ultralytics.nn.modules.conv.Concat           [1]                           \n",
      " 22                  -1  1    378880  ultralytics.nn.modules.block.C3k2            [384, 256, 1, True]           \n",
      " 23        [16, 19, 22]  1    430867  ultralytics.nn.modules.head.Detect           [1, [64, 128, 256]]           \n",
      "YOLO11n summary: 181 layers, 2,590,035 parameters, 2,590,019 gradients, 6.4 GFLOPs\n",
      "\n",
      "Transferred 448/499 items from pretrained weights\n",
      "Freezing layer 'model.23.dfl.conv.weight'\n",
      "\u001b[34m\u001b[1mAMP: \u001b[0mrunning Automatic Mixed Precision (AMP) checks...\n",
      "\u001b[34m\u001b[1mAMP: \u001b[0mchecks passed \n"
     ]
    },
    {
     "name": "stderr",
     "output_type": "stream",
     "text": [
      "\u001b[34m\u001b[1mtrain: \u001b[0mScanning C:\\Users\\bc\\Dropbox\\NUS\\IT5005\\Project_Assignment\\Milestone2\\training\\labels\\train... 1461 images, 300 backgrounds, 0 corrupt: 100%|██████████| 1461/1461 [00:02<00:00, 642.41it/s]\n"
     ]
    },
    {
     "name": "stdout",
     "output_type": "stream",
     "text": [
      "\u001b[34m\u001b[1mtrain: \u001b[0mNew cache created: C:\\Users\\bc\\Dropbox\\NUS\\IT5005\\Project_Assignment\\Milestone2\\training\\labels\\train.cache\n"
     ]
    },
    {
     "name": "stderr",
     "output_type": "stream",
     "text": [
      "\u001b[34m\u001b[1mval: \u001b[0mScanning C:\\Users\\bc\\Dropbox\\NUS\\IT5005\\Project_Assignment\\Milestone2\\training\\labels\\train.cache... 1461 images, 300 backgrounds, 0 corrupt: 100%|██████████| 1461/1461 [00:00<?, ?it/s]\n"
     ]
    },
    {
     "name": "stdout",
     "output_type": "stream",
     "text": [
      "Plotting labels to runs\\detect\\train2\\labels.jpg... \n",
      "\u001b[34m\u001b[1moptimizer:\u001b[0m 'optimizer=auto' found, ignoring 'lr0=0.01' and 'momentum=0.937' and determining best 'optimizer', 'lr0' and 'momentum' automatically... \n",
      "\u001b[34m\u001b[1moptimizer:\u001b[0m AdamW(lr=0.002, momentum=0.9) with parameter groups 81 weight(decay=0.0), 88 weight(decay=0.0005), 87 bias(decay=0.0)\n",
      "Image sizes 640 train, 640 val\n",
      "Using 8 dataloader workers\n",
      "Logging results to \u001b[1mruns\\detect\\train2\u001b[0m\n",
      "Starting training for 50 epochs...\n",
      "\n",
      "      Epoch    GPU_mem   box_loss   cls_loss   dfl_loss  Instances       Size\n"
     ]
    },
    {
     "name": "stderr",
     "output_type": "stream",
     "text": [
      "       1/50      2.31G      1.585       2.51      1.313         46        640: 100%|██████████| 92/92 [00:17<00:00,  5.29it/s]\n",
      "                 Class     Images  Instances      Box(P          R      mAP50  mAP50-95): 100%|██████████| 46/46 [00:10<00:00,  4.56it/s]"
     ]
    },
    {
     "name": "stdout",
     "output_type": "stream",
     "text": [
      "                   all       1461       4062      0.464      0.254      0.237      0.123\n"
     ]
    },
    {
     "name": "stderr",
     "output_type": "stream",
     "text": [
      "\n"
     ]
    },
    {
     "name": "stdout",
     "output_type": "stream",
     "text": [
      "\n",
      "      Epoch    GPU_mem   box_loss   cls_loss   dfl_loss  Instances       Size\n"
     ]
    },
    {
     "name": "stderr",
     "output_type": "stream",
     "text": [
      "       2/50      2.97G      1.796      2.304       1.47         26        640: 100%|██████████| 92/92 [00:13<00:00,  6.61it/s]\n",
      "                 Class     Images  Instances      Box(P          R      mAP50  mAP50-95): 100%|██████████| 46/46 [00:09<00:00,  4.72it/s]\n"
     ]
    },
    {
     "name": "stdout",
     "output_type": "stream",
     "text": [
      "                   all       1461       4062      0.305      0.219      0.187     0.0945\n",
      "\n",
      "      Epoch    GPU_mem   box_loss   cls_loss   dfl_loss  Instances       Size\n"
     ]
    },
    {
     "name": "stderr",
     "output_type": "stream",
     "text": [
      "       3/50         3G       1.87      2.208      1.533         28        640: 100%|██████████| 92/92 [00:15<00:00,  6.07it/s]\n",
      "                 Class     Images  Instances      Box(P          R      mAP50  mAP50-95): 100%|██████████| 46/46 [00:09<00:00,  4.63it/s]\n"
     ]
    },
    {
     "name": "stdout",
     "output_type": "stream",
     "text": [
      "                   all       1461       4062      0.418      0.272      0.256       0.12\n",
      "\n",
      "      Epoch    GPU_mem   box_loss   cls_loss   dfl_loss  Instances       Size\n"
     ]
    },
    {
     "name": "stderr",
     "output_type": "stream",
     "text": [
      "       4/50      3.01G      1.854      2.076      1.542         27        640: 100%|██████████| 92/92 [00:14<00:00,  6.25it/s]\n",
      "                 Class     Images  Instances      Box(P          R      mAP50  mAP50-95): 100%|██████████| 46/46 [00:07<00:00,  6.21it/s]\n"
     ]
    },
    {
     "name": "stdout",
     "output_type": "stream",
     "text": [
      "                   all       1461       4062      0.456      0.306      0.304      0.148\n",
      "\n",
      "      Epoch    GPU_mem   box_loss   cls_loss   dfl_loss  Instances       Size\n"
     ]
    },
    {
     "name": "stderr",
     "output_type": "stream",
     "text": [
      "       5/50      3.01G      1.814      2.009      1.514         33        640: 100%|██████████| 92/92 [00:12<00:00,  7.47it/s]\n",
      "                 Class     Images  Instances      Box(P          R      mAP50  mAP50-95): 100%|██████████| 46/46 [00:07<00:00,  5.99it/s]\n"
     ]
    },
    {
     "name": "stdout",
     "output_type": "stream",
     "text": [
      "                   all       1461       4062       0.44      0.345      0.331       0.17\n",
      "\n",
      "      Epoch    GPU_mem   box_loss   cls_loss   dfl_loss  Instances       Size\n"
     ]
    },
    {
     "name": "stderr",
     "output_type": "stream",
     "text": [
      "       6/50      3.03G      1.772      1.902      1.483         16        640: 100%|██████████| 92/92 [00:13<00:00,  6.99it/s]\n",
      "                 Class     Images  Instances      Box(P          R      mAP50  mAP50-95): 100%|██████████| 46/46 [00:07<00:00,  5.98it/s]"
     ]
    },
    {
     "name": "stdout",
     "output_type": "stream",
     "text": [
      "                   all       1461       4062      0.404      0.221      0.219      0.109\n"
     ]
    },
    {
     "name": "stderr",
     "output_type": "stream",
     "text": [
      "\n"
     ]
    },
    {
     "name": "stdout",
     "output_type": "stream",
     "text": [
      "\n",
      "      Epoch    GPU_mem   box_loss   cls_loss   dfl_loss  Instances       Size\n"
     ]
    },
    {
     "name": "stderr",
     "output_type": "stream",
     "text": [
      "       7/50      3.03G      1.725       1.89      1.461         19        640: 100%|██████████| 92/92 [00:12<00:00,  7.26it/s]\n",
      "                 Class     Images  Instances      Box(P          R      mAP50  mAP50-95): 100%|██████████| 46/46 [00:07<00:00,  6.04it/s]\n"
     ]
    },
    {
     "name": "stdout",
     "output_type": "stream",
     "text": [
      "                   all       1461       4062      0.464      0.337      0.348      0.186\n",
      "\n",
      "      Epoch    GPU_mem   box_loss   cls_loss   dfl_loss  Instances       Size\n"
     ]
    },
    {
     "name": "stderr",
     "output_type": "stream",
     "text": [
      "       8/50      3.04G      1.689      1.816      1.447         20        640: 100%|██████████| 92/92 [00:12<00:00,  7.13it/s]\n",
      "                 Class     Images  Instances      Box(P          R      mAP50  mAP50-95): 100%|██████████| 46/46 [00:07<00:00,  6.14it/s]\n"
     ]
    },
    {
     "name": "stdout",
     "output_type": "stream",
     "text": [
      "                   all       1461       4062      0.539        0.4       0.43      0.233\n",
      "\n",
      "      Epoch    GPU_mem   box_loss   cls_loss   dfl_loss  Instances       Size\n"
     ]
    },
    {
     "name": "stderr",
     "output_type": "stream",
     "text": [
      "       9/50      3.05G      1.693      1.792      1.458         13        640: 100%|██████████| 92/92 [00:12<00:00,  7.41it/s]\n",
      "                 Class     Images  Instances      Box(P          R      mAP50  mAP50-95): 100%|██████████| 46/46 [00:07<00:00,  6.23it/s]\n"
     ]
    },
    {
     "name": "stdout",
     "output_type": "stream",
     "text": [
      "                   all       1461       4062      0.501      0.393        0.4      0.219\n",
      "\n",
      "      Epoch    GPU_mem   box_loss   cls_loss   dfl_loss  Instances       Size\n"
     ]
    },
    {
     "name": "stderr",
     "output_type": "stream",
     "text": [
      "      10/50      3.05G      1.669      1.791       1.43         14        640: 100%|██████████| 92/92 [00:12<00:00,  7.46it/s]\n",
      "                 Class     Images  Instances      Box(P          R      mAP50  mAP50-95): 100%|██████████| 46/46 [00:07<00:00,  6.14it/s]\n"
     ]
    },
    {
     "name": "stdout",
     "output_type": "stream",
     "text": [
      "                   all       1461       4062      0.509      0.371      0.396      0.221\n",
      "\n",
      "      Epoch    GPU_mem   box_loss   cls_loss   dfl_loss  Instances       Size\n"
     ]
    },
    {
     "name": "stderr",
     "output_type": "stream",
     "text": [
      "      11/50      3.07G      1.623      1.675      1.402         28        640: 100%|██████████| 92/92 [00:12<00:00,  7.38it/s]\n",
      "                 Class     Images  Instances      Box(P          R      mAP50  mAP50-95): 100%|██████████| 46/46 [00:07<00:00,  6.14it/s]\n"
     ]
    },
    {
     "name": "stdout",
     "output_type": "stream",
     "text": [
      "                   all       1461       4062      0.574      0.421      0.459       0.26\n",
      "\n",
      "      Epoch    GPU_mem   box_loss   cls_loss   dfl_loss  Instances       Size\n"
     ]
    },
    {
     "name": "stderr",
     "output_type": "stream",
     "text": [
      "      12/50      3.07G      1.672      1.724      1.413         13        640: 100%|██████████| 92/92 [00:12<00:00,  7.10it/s]\n",
      "                 Class     Images  Instances      Box(P          R      mAP50  mAP50-95): 100%|██████████| 46/46 [00:07<00:00,  6.10it/s]\n"
     ]
    },
    {
     "name": "stdout",
     "output_type": "stream",
     "text": [
      "                   all       1461       4062      0.602      0.407      0.461      0.258\n",
      "\n",
      "      Epoch    GPU_mem   box_loss   cls_loss   dfl_loss  Instances       Size\n"
     ]
    },
    {
     "name": "stderr",
     "output_type": "stream",
     "text": [
      "      13/50      3.08G       1.61      1.649      1.384         21        640: 100%|██████████| 92/92 [00:12<00:00,  7.23it/s]\n",
      "                 Class     Images  Instances      Box(P          R      mAP50  mAP50-95): 100%|██████████| 46/46 [00:08<00:00,  5.56it/s]\n"
     ]
    },
    {
     "name": "stdout",
     "output_type": "stream",
     "text": [
      "                   all       1461       4062      0.592      0.445      0.483      0.268\n",
      "\n",
      "      Epoch    GPU_mem   box_loss   cls_loss   dfl_loss  Instances       Size\n"
     ]
    },
    {
     "name": "stderr",
     "output_type": "stream",
     "text": [
      "      14/50      3.08G      1.596      1.626      1.363         22        640: 100%|██████████| 92/92 [00:13<00:00,  6.89it/s]\n",
      "                 Class     Images  Instances      Box(P          R      mAP50  mAP50-95): 100%|██████████| 46/46 [00:08<00:00,  5.62it/s]\n"
     ]
    },
    {
     "name": "stdout",
     "output_type": "stream",
     "text": [
      "                   all       1461       4062      0.606      0.443      0.486      0.278\n",
      "\n",
      "      Epoch    GPU_mem   box_loss   cls_loss   dfl_loss  Instances       Size\n"
     ]
    },
    {
     "name": "stderr",
     "output_type": "stream",
     "text": [
      "      15/50      3.08G      1.561      1.584      1.351         18        640: 100%|██████████| 92/92 [00:13<00:00,  6.98it/s]\n",
      "                 Class     Images  Instances      Box(P          R      mAP50  mAP50-95): 100%|██████████| 46/46 [00:08<00:00,  5.40it/s]\n"
     ]
    },
    {
     "name": "stdout",
     "output_type": "stream",
     "text": [
      "                   all       1461       4062      0.631      0.459      0.517      0.301\n",
      "\n",
      "      Epoch    GPU_mem   box_loss   cls_loss   dfl_loss  Instances       Size\n"
     ]
    },
    {
     "name": "stderr",
     "output_type": "stream",
     "text": [
      "      16/50      3.09G      1.533      1.568      1.346         24        640: 100%|██████████| 92/92 [00:13<00:00,  6.99it/s]\n",
      "                 Class     Images  Instances      Box(P          R      mAP50  mAP50-95): 100%|██████████| 46/46 [00:08<00:00,  5.38it/s]\n"
     ]
    },
    {
     "name": "stdout",
     "output_type": "stream",
     "text": [
      "                   all       1461       4062      0.635       0.46      0.512       0.29\n",
      "\n",
      "      Epoch    GPU_mem   box_loss   cls_loss   dfl_loss  Instances       Size\n"
     ]
    },
    {
     "name": "stderr",
     "output_type": "stream",
     "text": [
      "      17/50      3.09G      1.549       1.53       1.35         41        640: 100%|██████████| 92/92 [00:14<00:00,  6.50it/s]\n",
      "                 Class     Images  Instances      Box(P          R      mAP50  mAP50-95): 100%|██████████| 46/46 [00:08<00:00,  5.48it/s]\n"
     ]
    },
    {
     "name": "stdout",
     "output_type": "stream",
     "text": [
      "                   all       1461       4062      0.653      0.456      0.528      0.312\n",
      "\n",
      "      Epoch    GPU_mem   box_loss   cls_loss   dfl_loss  Instances       Size\n"
     ]
    },
    {
     "name": "stderr",
     "output_type": "stream",
     "text": [
      "      18/50      3.11G      1.527      1.527      1.323         17        640: 100%|██████████| 92/92 [00:12<00:00,  7.29it/s]\n",
      "                 Class     Images  Instances      Box(P          R      mAP50  mAP50-95): 100%|██████████| 46/46 [00:07<00:00,  5.98it/s]\n"
     ]
    },
    {
     "name": "stdout",
     "output_type": "stream",
     "text": [
      "                   all       1461       4062      0.623      0.479      0.531      0.314\n",
      "\n",
      "      Epoch    GPU_mem   box_loss   cls_loss   dfl_loss  Instances       Size\n"
     ]
    },
    {
     "name": "stderr",
     "output_type": "stream",
     "text": [
      "      19/50      3.11G      1.488      1.477      1.317         18        640: 100%|██████████| 92/92 [00:12<00:00,  7.55it/s]\n",
      "                 Class     Images  Instances      Box(P          R      mAP50  mAP50-95): 100%|██████████| 46/46 [00:07<00:00,  6.37it/s]"
     ]
    },
    {
     "name": "stdout",
     "output_type": "stream",
     "text": [
      "                   all       1461       4062      0.662        0.5      0.561      0.332\n"
     ]
    },
    {
     "name": "stderr",
     "output_type": "stream",
     "text": [
      "\n"
     ]
    },
    {
     "name": "stdout",
     "output_type": "stream",
     "text": [
      "\n",
      "      Epoch    GPU_mem   box_loss   cls_loss   dfl_loss  Instances       Size\n"
     ]
    },
    {
     "name": "stderr",
     "output_type": "stream",
     "text": [
      "      20/50      3.12G      1.507      1.452      1.317         36        640: 100%|██████████| 92/92 [00:13<00:00,  6.93it/s]\n",
      "                 Class     Images  Instances      Box(P          R      mAP50  mAP50-95): 100%|██████████| 46/46 [00:08<00:00,  5.30it/s]\n"
     ]
    },
    {
     "name": "stdout",
     "output_type": "stream",
     "text": [
      "                   all       1461       4062      0.609      0.463      0.513      0.309\n",
      "\n",
      "      Epoch    GPU_mem   box_loss   cls_loss   dfl_loss  Instances       Size\n"
     ]
    },
    {
     "name": "stderr",
     "output_type": "stream",
     "text": [
      "      21/50      3.13G      1.472      1.449      1.293          3        640: 100%|██████████| 92/92 [00:13<00:00,  6.82it/s]\n",
      "                 Class     Images  Instances      Box(P          R      mAP50  mAP50-95): 100%|██████████| 46/46 [00:08<00:00,  5.35it/s]\n"
     ]
    },
    {
     "name": "stdout",
     "output_type": "stream",
     "text": [
      "                   all       1461       4062      0.669      0.491      0.561      0.333\n",
      "\n",
      "      Epoch    GPU_mem   box_loss   cls_loss   dfl_loss  Instances       Size\n"
     ]
    },
    {
     "name": "stderr",
     "output_type": "stream",
     "text": [
      "      22/50      3.14G      1.491      1.454      1.302         21        640: 100%|██████████| 92/92 [00:13<00:00,  6.86it/s]\n",
      "                 Class     Images  Instances      Box(P          R      mAP50  mAP50-95): 100%|██████████| 46/46 [00:08<00:00,  5.48it/s]\n"
     ]
    },
    {
     "name": "stdout",
     "output_type": "stream",
     "text": [
      "                   all       1461       4062      0.667      0.505      0.576      0.345\n",
      "\n",
      "      Epoch    GPU_mem   box_loss   cls_loss   dfl_loss  Instances       Size\n"
     ]
    },
    {
     "name": "stderr",
     "output_type": "stream",
     "text": [
      "      23/50      3.15G      1.457      1.407      1.284         48        640: 100%|██████████| 92/92 [00:13<00:00,  6.85it/s]\n",
      "                 Class     Images  Instances      Box(P          R      mAP50  mAP50-95): 100%|██████████| 46/46 [00:08<00:00,  5.45it/s]\n"
     ]
    },
    {
     "name": "stdout",
     "output_type": "stream",
     "text": [
      "                   all       1461       4062      0.666      0.537      0.602      0.367\n",
      "\n",
      "      Epoch    GPU_mem   box_loss   cls_loss   dfl_loss  Instances       Size\n"
     ]
    },
    {
     "name": "stderr",
     "output_type": "stream",
     "text": [
      "      24/50      3.15G      1.467      1.404      1.279         23        640: 100%|██████████| 92/92 [00:13<00:00,  6.81it/s]\n",
      "                 Class     Images  Instances      Box(P          R      mAP50  mAP50-95): 100%|██████████| 46/46 [00:08<00:00,  5.29it/s]\n"
     ]
    },
    {
     "name": "stdout",
     "output_type": "stream",
     "text": [
      "                   all       1461       4062      0.677      0.545      0.603      0.366\n",
      "\n",
      "      Epoch    GPU_mem   box_loss   cls_loss   dfl_loss  Instances       Size\n"
     ]
    },
    {
     "name": "stderr",
     "output_type": "stream",
     "text": [
      "      25/50      3.17G      1.431      1.352      1.267         14        640: 100%|██████████| 92/92 [00:13<00:00,  6.88it/s]\n",
      "                 Class     Images  Instances      Box(P          R      mAP50  mAP50-95): 100%|██████████| 46/46 [00:08<00:00,  5.42it/s]\n"
     ]
    },
    {
     "name": "stdout",
     "output_type": "stream",
     "text": [
      "                   all       1461       4062      0.673      0.515      0.593      0.353\n",
      "\n",
      "      Epoch    GPU_mem   box_loss   cls_loss   dfl_loss  Instances       Size\n"
     ]
    },
    {
     "name": "stderr",
     "output_type": "stream",
     "text": [
      "      26/50      3.17G      1.446      1.345      1.274         17        640: 100%|██████████| 92/92 [00:13<00:00,  6.85it/s]\n",
      "                 Class     Images  Instances      Box(P          R      mAP50  mAP50-95): 100%|██████████| 46/46 [00:08<00:00,  5.43it/s]"
     ]
    },
    {
     "name": "stdout",
     "output_type": "stream",
     "text": [
      "                   all       1461       4062      0.633      0.487      0.552      0.338\n"
     ]
    },
    {
     "name": "stderr",
     "output_type": "stream",
     "text": [
      "\n"
     ]
    },
    {
     "name": "stdout",
     "output_type": "stream",
     "text": [
      "\n",
      "      Epoch    GPU_mem   box_loss   cls_loss   dfl_loss  Instances       Size\n"
     ]
    },
    {
     "name": "stderr",
     "output_type": "stream",
     "text": [
      "      27/50      3.17G      1.418       1.33      1.253         31        640: 100%|██████████| 92/92 [00:13<00:00,  6.74it/s]\n",
      "                 Class     Images  Instances      Box(P          R      mAP50  mAP50-95): 100%|██████████| 46/46 [00:08<00:00,  5.32it/s]\n"
     ]
    },
    {
     "name": "stdout",
     "output_type": "stream",
     "text": [
      "                   all       1461       4062      0.672      0.542       0.61      0.375\n",
      "\n",
      "      Epoch    GPU_mem   box_loss   cls_loss   dfl_loss  Instances       Size\n"
     ]
    },
    {
     "name": "stderr",
     "output_type": "stream",
     "text": [
      "      28/50      3.18G      1.421      1.328      1.263         12        640: 100%|██████████| 92/92 [00:13<00:00,  6.82it/s]\n",
      "                 Class     Images  Instances      Box(P          R      mAP50  mAP50-95): 100%|██████████| 46/46 [00:08<00:00,  5.42it/s]\n"
     ]
    },
    {
     "name": "stdout",
     "output_type": "stream",
     "text": [
      "                   all       1461       4062      0.688      0.556      0.622      0.384\n",
      "\n",
      "      Epoch    GPU_mem   box_loss   cls_loss   dfl_loss  Instances       Size\n"
     ]
    },
    {
     "name": "stderr",
     "output_type": "stream",
     "text": [
      "      29/50      3.18G      1.394      1.343      1.252         53        640: 100%|██████████| 92/92 [00:13<00:00,  6.77it/s]\n",
      "                 Class     Images  Instances      Box(P          R      mAP50  mAP50-95): 100%|██████████| 46/46 [00:08<00:00,  5.57it/s]\n"
     ]
    },
    {
     "name": "stdout",
     "output_type": "stream",
     "text": [
      "                   all       1461       4062      0.702      0.561      0.633       0.39\n",
      "\n",
      "      Epoch    GPU_mem   box_loss   cls_loss   dfl_loss  Instances       Size\n"
     ]
    },
    {
     "name": "stderr",
     "output_type": "stream",
     "text": [
      "      30/50      3.19G      1.423      1.292      1.242         31        640: 100%|██████████| 92/92 [00:13<00:00,  6.80it/s]\n",
      "                 Class     Images  Instances      Box(P          R      mAP50  mAP50-95): 100%|██████████| 46/46 [00:08<00:00,  5.56it/s]\n"
     ]
    },
    {
     "name": "stdout",
     "output_type": "stream",
     "text": [
      "                   all       1461       4062       0.69       0.56      0.627      0.388\n",
      "\n",
      "      Epoch    GPU_mem   box_loss   cls_loss   dfl_loss  Instances       Size\n"
     ]
    },
    {
     "name": "stderr",
     "output_type": "stream",
     "text": [
      "      31/50      3.19G      1.362      1.257      1.222         23        640: 100%|██████████| 92/92 [00:13<00:00,  6.99it/s]\n",
      "                 Class     Images  Instances      Box(P          R      mAP50  mAP50-95): 100%|██████████| 46/46 [00:08<00:00,  5.51it/s]\n"
     ]
    },
    {
     "name": "stdout",
     "output_type": "stream",
     "text": [
      "                   all       1461       4062       0.74      0.569      0.656      0.405\n",
      "\n",
      "      Epoch    GPU_mem   box_loss   cls_loss   dfl_loss  Instances       Size\n"
     ]
    },
    {
     "name": "stderr",
     "output_type": "stream",
     "text": [
      "      32/50      3.21G       1.38      1.251      1.227         25        640: 100%|██████████| 92/92 [00:13<00:00,  6.79it/s]\n",
      "                 Class     Images  Instances      Box(P          R      mAP50  mAP50-95): 100%|██████████| 46/46 [00:08<00:00,  5.36it/s]\n"
     ]
    },
    {
     "name": "stdout",
     "output_type": "stream",
     "text": [
      "                   all       1461       4062      0.723      0.573      0.652      0.405\n",
      "\n",
      "      Epoch    GPU_mem   box_loss   cls_loss   dfl_loss  Instances       Size\n"
     ]
    },
    {
     "name": "stderr",
     "output_type": "stream",
     "text": [
      "      33/50      3.22G      1.376      1.254      1.226         32        640: 100%|██████████| 92/92 [00:13<00:00,  6.67it/s]\n",
      "                 Class     Images  Instances      Box(P          R      mAP50  mAP50-95): 100%|██████████| 46/46 [00:08<00:00,  5.40it/s]\n"
     ]
    },
    {
     "name": "stdout",
     "output_type": "stream",
     "text": [
      "                   all       1461       4062      0.753      0.564      0.663      0.418\n",
      "\n",
      "      Epoch    GPU_mem   box_loss   cls_loss   dfl_loss  Instances       Size\n"
     ]
    },
    {
     "name": "stderr",
     "output_type": "stream",
     "text": [
      "      34/50      3.23G      1.342       1.21      1.203          8        640: 100%|██████████| 92/92 [00:13<00:00,  6.73it/s]\n",
      "                 Class     Images  Instances      Box(P          R      mAP50  mAP50-95): 100%|██████████| 46/46 [00:08<00:00,  5.37it/s]\n"
     ]
    },
    {
     "name": "stdout",
     "output_type": "stream",
     "text": [
      "                   all       1461       4062      0.731      0.589      0.668      0.416\n",
      "\n",
      "      Epoch    GPU_mem   box_loss   cls_loss   dfl_loss  Instances       Size\n"
     ]
    },
    {
     "name": "stderr",
     "output_type": "stream",
     "text": [
      "      35/50      3.24G      1.341      1.209      1.208         50        640: 100%|██████████| 92/92 [00:13<00:00,  6.73it/s]\n",
      "                 Class     Images  Instances      Box(P          R      mAP50  mAP50-95): 100%|██████████| 46/46 [00:08<00:00,  5.37it/s]\n"
     ]
    },
    {
     "name": "stdout",
     "output_type": "stream",
     "text": [
      "                   all       1461       4062      0.747      0.589       0.68      0.423\n",
      "\n",
      "      Epoch    GPU_mem   box_loss   cls_loss   dfl_loss  Instances       Size\n"
     ]
    },
    {
     "name": "stderr",
     "output_type": "stream",
     "text": [
      "      36/50      3.24G      1.338      1.188      1.193         37        640: 100%|██████████| 92/92 [00:13<00:00,  6.78it/s]\n",
      "                 Class     Images  Instances      Box(P          R      mAP50  mAP50-95): 100%|██████████| 46/46 [00:08<00:00,  5.28it/s]\n"
     ]
    },
    {
     "name": "stdout",
     "output_type": "stream",
     "text": [
      "                   all       1461       4062      0.746      0.574      0.665      0.428\n",
      "\n",
      "      Epoch    GPU_mem   box_loss   cls_loss   dfl_loss  Instances       Size\n"
     ]
    },
    {
     "name": "stderr",
     "output_type": "stream",
     "text": [
      "      37/50      3.24G        1.3      1.143      1.177         52        640: 100%|██████████| 92/92 [00:13<00:00,  6.76it/s]\n",
      "                 Class     Images  Instances      Box(P          R      mAP50  mAP50-95): 100%|██████████| 46/46 [00:08<00:00,  5.41it/s]\n"
     ]
    },
    {
     "name": "stdout",
     "output_type": "stream",
     "text": [
      "                   all       1461       4062      0.748        0.6      0.693       0.44\n",
      "\n",
      "      Epoch    GPU_mem   box_loss   cls_loss   dfl_loss  Instances       Size\n"
     ]
    },
    {
     "name": "stderr",
     "output_type": "stream",
     "text": [
      "      38/50      3.24G      1.315      1.157      1.187         21        640: 100%|██████████| 92/92 [00:13<00:00,  6.75it/s]\n",
      "                 Class     Images  Instances      Box(P          R      mAP50  mAP50-95): 100%|██████████| 46/46 [00:08<00:00,  5.45it/s]\n"
     ]
    },
    {
     "name": "stdout",
     "output_type": "stream",
     "text": [
      "                   all       1461       4062      0.756      0.599      0.693      0.444\n",
      "\n",
      "      Epoch    GPU_mem   box_loss   cls_loss   dfl_loss  Instances       Size\n"
     ]
    },
    {
     "name": "stderr",
     "output_type": "stream",
     "text": [
      "      39/50      3.24G      1.279      1.136      1.178         26        640: 100%|██████████| 92/92 [00:13<00:00,  6.67it/s]\n",
      "                 Class     Images  Instances      Box(P          R      mAP50  mAP50-95): 100%|██████████| 46/46 [00:08<00:00,  5.32it/s]\n"
     ]
    },
    {
     "name": "stdout",
     "output_type": "stream",
     "text": [
      "                   all       1461       4062      0.738      0.613      0.699      0.447\n",
      "\n",
      "      Epoch    GPU_mem   box_loss   cls_loss   dfl_loss  Instances       Size\n"
     ]
    },
    {
     "name": "stderr",
     "output_type": "stream",
     "text": [
      "      40/50      3.24G      1.304      1.131      1.179         33        640: 100%|██████████| 92/92 [00:13<00:00,  6.79it/s]\n",
      "                 Class     Images  Instances      Box(P          R      mAP50  mAP50-95): 100%|██████████| 46/46 [00:08<00:00,  5.34it/s]"
     ]
    },
    {
     "name": "stdout",
     "output_type": "stream",
     "text": [
      "                   all       1461       4062      0.742      0.624      0.703      0.459\n"
     ]
    },
    {
     "name": "stderr",
     "output_type": "stream",
     "text": [
      "\n"
     ]
    },
    {
     "name": "stdout",
     "output_type": "stream",
     "text": [
      "Closing dataloader mosaic\n",
      "\n",
      "      Epoch    GPU_mem   box_loss   cls_loss   dfl_loss  Instances       Size\n"
     ]
    },
    {
     "name": "stderr",
     "output_type": "stream",
     "text": [
      "      41/50      3.24G      1.314      1.154      1.194         11        640: 100%|██████████| 92/92 [00:13<00:00,  6.57it/s]\n",
      "                 Class     Images  Instances      Box(P          R      mAP50  mAP50-95): 100%|██████████| 46/46 [00:08<00:00,  5.40it/s]"
     ]
    },
    {
     "name": "stdout",
     "output_type": "stream",
     "text": [
      "                   all       1461       4062      0.756      0.592       0.69      0.447\n"
     ]
    },
    {
     "name": "stderr",
     "output_type": "stream",
     "text": [
      "\n"
     ]
    },
    {
     "name": "stdout",
     "output_type": "stream",
     "text": [
      "\n",
      "      Epoch    GPU_mem   box_loss   cls_loss   dfl_loss  Instances       Size\n"
     ]
    },
    {
     "name": "stderr",
     "output_type": "stream",
     "text": [
      "      42/50      3.24G      1.283      1.073       1.17         14        640: 100%|██████████| 92/92 [00:12<00:00,  7.11it/s]\n",
      "                 Class     Images  Instances      Box(P          R      mAP50  mAP50-95): 100%|██████████| 46/46 [00:07<00:00,  6.14it/s]"
     ]
    },
    {
     "name": "stdout",
     "output_type": "stream",
     "text": [
      "                   all       1461       4062       0.75      0.619      0.707      0.459\n"
     ]
    },
    {
     "name": "stderr",
     "output_type": "stream",
     "text": [
      "\n"
     ]
    },
    {
     "name": "stdout",
     "output_type": "stream",
     "text": [
      "\n",
      "      Epoch    GPU_mem   box_loss   cls_loss   dfl_loss  Instances       Size\n"
     ]
    },
    {
     "name": "stderr",
     "output_type": "stream",
     "text": [
      "      43/50      3.24G      1.264       1.04      1.162         18        640: 100%|██████████| 92/92 [00:11<00:00,  7.68it/s]\n",
      "                 Class     Images  Instances      Box(P          R      mAP50  mAP50-95): 100%|██████████| 46/46 [00:07<00:00,  6.20it/s]"
     ]
    },
    {
     "name": "stdout",
     "output_type": "stream",
     "text": [
      "                   all       1461       4062      0.784      0.617       0.72      0.471\n"
     ]
    },
    {
     "name": "stderr",
     "output_type": "stream",
     "text": [
      "\n"
     ]
    },
    {
     "name": "stdout",
     "output_type": "stream",
     "text": [
      "\n",
      "      Epoch    GPU_mem   box_loss   cls_loss   dfl_loss  Instances       Size\n"
     ]
    },
    {
     "name": "stderr",
     "output_type": "stream",
     "text": [
      "      44/50      3.24G      1.258       1.04      1.155          6        640: 100%|██████████| 92/92 [00:11<00:00,  7.74it/s]\n",
      "                 Class     Images  Instances      Box(P          R      mAP50  mAP50-95): 100%|██████████| 46/46 [00:07<00:00,  6.15it/s]"
     ]
    },
    {
     "name": "stdout",
     "output_type": "stream",
     "text": [
      "                   all       1461       4062      0.772      0.623      0.717      0.473\n"
     ]
    },
    {
     "name": "stderr",
     "output_type": "stream",
     "text": [
      "\n"
     ]
    },
    {
     "name": "stdout",
     "output_type": "stream",
     "text": [
      "\n",
      "      Epoch    GPU_mem   box_loss   cls_loss   dfl_loss  Instances       Size\n"
     ]
    },
    {
     "name": "stderr",
     "output_type": "stream",
     "text": [
      "      45/50      3.24G      1.249      1.025      1.156          5        640: 100%|██████████| 92/92 [00:12<00:00,  7.67it/s]\n",
      "                 Class     Images  Instances      Box(P          R      mAP50  mAP50-95): 100%|██████████| 46/46 [00:07<00:00,  6.26it/s]"
     ]
    },
    {
     "name": "stdout",
     "output_type": "stream",
     "text": [
      "                   all       1461       4062      0.796      0.637      0.735      0.482\n"
     ]
    },
    {
     "name": "stderr",
     "output_type": "stream",
     "text": [
      "\n"
     ]
    },
    {
     "name": "stdout",
     "output_type": "stream",
     "text": [
      "\n",
      "      Epoch    GPU_mem   box_loss   cls_loss   dfl_loss  Instances       Size\n"
     ]
    },
    {
     "name": "stderr",
     "output_type": "stream",
     "text": [
      "      46/50      3.24G       1.24     0.9907       1.14          9        640: 100%|██████████| 92/92 [00:12<00:00,  7.67it/s]\n",
      "                 Class     Images  Instances      Box(P          R      mAP50  mAP50-95): 100%|██████████| 46/46 [00:07<00:00,  6.10it/s]"
     ]
    },
    {
     "name": "stdout",
     "output_type": "stream",
     "text": [
      "                   all       1461       4062      0.782       0.64      0.734      0.484\n"
     ]
    },
    {
     "name": "stderr",
     "output_type": "stream",
     "text": [
      "\n"
     ]
    },
    {
     "name": "stdout",
     "output_type": "stream",
     "text": [
      "\n",
      "      Epoch    GPU_mem   box_loss   cls_loss   dfl_loss  Instances       Size\n"
     ]
    },
    {
     "name": "stderr",
     "output_type": "stream",
     "text": [
      "      47/50      3.24G      1.226     0.9829      1.136         26        640: 100%|██████████| 92/92 [00:11<00:00,  7.71it/s]\n",
      "                 Class     Images  Instances      Box(P          R      mAP50  mAP50-95): 100%|██████████| 46/46 [00:07<00:00,  6.25it/s]"
     ]
    },
    {
     "name": "stdout",
     "output_type": "stream",
     "text": [
      "                   all       1461       4062      0.786       0.65       0.74      0.494\n"
     ]
    },
    {
     "name": "stderr",
     "output_type": "stream",
     "text": [
      "\n"
     ]
    },
    {
     "name": "stdout",
     "output_type": "stream",
     "text": [
      "\n",
      "      Epoch    GPU_mem   box_loss   cls_loss   dfl_loss  Instances       Size\n"
     ]
    },
    {
     "name": "stderr",
     "output_type": "stream",
     "text": [
      "      48/50      3.24G      1.228     0.9775       1.14          5        640: 100%|██████████| 92/92 [00:11<00:00,  7.71it/s]\n",
      "                 Class     Images  Instances      Box(P          R      mAP50  mAP50-95): 100%|██████████| 46/46 [00:07<00:00,  6.26it/s]"
     ]
    },
    {
     "name": "stdout",
     "output_type": "stream",
     "text": [
      "                   all       1461       4062      0.789      0.653      0.747      0.498\n"
     ]
    },
    {
     "name": "stderr",
     "output_type": "stream",
     "text": [
      "\n"
     ]
    },
    {
     "name": "stdout",
     "output_type": "stream",
     "text": [
      "\n",
      "      Epoch    GPU_mem   box_loss   cls_loss   dfl_loss  Instances       Size\n"
     ]
    },
    {
     "name": "stderr",
     "output_type": "stream",
     "text": [
      "      49/50      3.24G      1.203     0.9547      1.124         24        640: 100%|██████████| 92/92 [00:12<00:00,  7.62it/s]\n",
      "                 Class     Images  Instances      Box(P          R      mAP50  mAP50-95): 100%|██████████| 46/46 [00:07<00:00,  6.09it/s]"
     ]
    },
    {
     "name": "stdout",
     "output_type": "stream",
     "text": [
      "                   all       1461       4062      0.798       0.66      0.753      0.502\n"
     ]
    },
    {
     "name": "stderr",
     "output_type": "stream",
     "text": [
      "\n"
     ]
    },
    {
     "name": "stdout",
     "output_type": "stream",
     "text": [
      "\n",
      "      Epoch    GPU_mem   box_loss   cls_loss   dfl_loss  Instances       Size\n"
     ]
    },
    {
     "name": "stderr",
     "output_type": "stream",
     "text": [
      "      50/50      3.24G      1.205     0.9507      1.132          5        640: 100%|██████████| 92/92 [00:12<00:00,  7.56it/s]\n",
      "                 Class     Images  Instances      Box(P          R      mAP50  mAP50-95): 100%|██████████| 46/46 [00:07<00:00,  6.19it/s]"
     ]
    },
    {
     "name": "stdout",
     "output_type": "stream",
     "text": [
      "                   all       1461       4062      0.796      0.665      0.755      0.506\n"
     ]
    },
    {
     "name": "stderr",
     "output_type": "stream",
     "text": [
      "\n"
     ]
    },
    {
     "name": "stdout",
     "output_type": "stream",
     "text": [
      "\n",
      "50 epochs completed in 0.311 hours.\n",
      "Optimizer stripped from runs\\detect\\train2\\weights\\last.pt, 5.5MB\n",
      "Optimizer stripped from runs\\detect\\train2\\weights\\best.pt, 5.5MB\n",
      "\n",
      "Validating runs\\detect\\train2\\weights\\best.pt...\n",
      "Ultralytics 8.3.98  Python-3.11.9 torch-2.6.0+cu126 CUDA:0 (NVIDIA GeForce RTX 4070, 12282MiB)\n",
      "YOLO11n summary (fused): 100 layers, 2,582,347 parameters, 0 gradients, 6.3 GFLOPs\n"
     ]
    },
    {
     "name": "stderr",
     "output_type": "stream",
     "text": [
      "                 Class     Images  Instances      Box(P          R      mAP50  mAP50-95): 100%|██████████| 46/46 [00:08<00:00,  5.20it/s]\n"
     ]
    },
    {
     "name": "stdout",
     "output_type": "stream",
     "text": [
      "                   all       1461       4062      0.796      0.665      0.755      0.506\n",
      "Speed: 0.1ms preprocess, 1.2ms inference, 0.0ms loss, 1.1ms postprocess per image\n",
      "Results saved to \u001b[1mruns\\detect\\train2\u001b[0m\n"
     ]
    },
    {
     "data": {
      "text/plain": [
       "ultralytics.utils.metrics.DetMetrics object with attributes:\n",
       "\n",
       "ap_class_index: array([0])\n",
       "box: ultralytics.utils.metrics.Metric object\n",
       "confusion_matrix: <ultralytics.utils.metrics.ConfusionMatrix object at 0x00000265C81E1CD0>\n",
       "curves: ['Precision-Recall(B)', 'F1-Confidence(B)', 'Precision-Confidence(B)', 'Recall-Confidence(B)']\n",
       "curves_results: [[array([          0,    0.001001,    0.002002,    0.003003,    0.004004,    0.005005,    0.006006,    0.007007,    0.008008,    0.009009,     0.01001,    0.011011,    0.012012,    0.013013,    0.014014,    0.015015,    0.016016,    0.017017,    0.018018,    0.019019,     0.02002,    0.021021,    0.022022,    0.023023,\n",
       "          0.024024,    0.025025,    0.026026,    0.027027,    0.028028,    0.029029,     0.03003,    0.031031,    0.032032,    0.033033,    0.034034,    0.035035,    0.036036,    0.037037,    0.038038,    0.039039,     0.04004,    0.041041,    0.042042,    0.043043,    0.044044,    0.045045,    0.046046,    0.047047,\n",
       "          0.048048,    0.049049,     0.05005,    0.051051,    0.052052,    0.053053,    0.054054,    0.055055,    0.056056,    0.057057,    0.058058,    0.059059,     0.06006,    0.061061,    0.062062,    0.063063,    0.064064,    0.065065,    0.066066,    0.067067,    0.068068,    0.069069,     0.07007,    0.071071,\n",
       "          0.072072,    0.073073,    0.074074,    0.075075,    0.076076,    0.077077,    0.078078,    0.079079,     0.08008,    0.081081,    0.082082,    0.083083,    0.084084,    0.085085,    0.086086,    0.087087,    0.088088,    0.089089,     0.09009,    0.091091,    0.092092,    0.093093,    0.094094,    0.095095,\n",
       "          0.096096,    0.097097,    0.098098,    0.099099,      0.1001,      0.1011,      0.1021,      0.1031,      0.1041,     0.10511,     0.10611,     0.10711,     0.10811,     0.10911,     0.11011,     0.11111,     0.11211,     0.11311,     0.11411,     0.11512,     0.11612,     0.11712,     0.11812,     0.11912,\n",
       "           0.12012,     0.12112,     0.12212,     0.12312,     0.12412,     0.12513,     0.12613,     0.12713,     0.12813,     0.12913,     0.13013,     0.13113,     0.13213,     0.13313,     0.13413,     0.13514,     0.13614,     0.13714,     0.13814,     0.13914,     0.14014,     0.14114,     0.14214,     0.14314,\n",
       "           0.14414,     0.14515,     0.14615,     0.14715,     0.14815,     0.14915,     0.15015,     0.15115,     0.15215,     0.15315,     0.15415,     0.15516,     0.15616,     0.15716,     0.15816,     0.15916,     0.16016,     0.16116,     0.16216,     0.16316,     0.16416,     0.16517,     0.16617,     0.16717,\n",
       "           0.16817,     0.16917,     0.17017,     0.17117,     0.17217,     0.17317,     0.17417,     0.17518,     0.17618,     0.17718,     0.17818,     0.17918,     0.18018,     0.18118,     0.18218,     0.18318,     0.18418,     0.18519,     0.18619,     0.18719,     0.18819,     0.18919,     0.19019,     0.19119,\n",
       "           0.19219,     0.19319,     0.19419,      0.1952,      0.1962,      0.1972,      0.1982,      0.1992,      0.2002,      0.2012,      0.2022,      0.2032,      0.2042,     0.20521,     0.20621,     0.20721,     0.20821,     0.20921,     0.21021,     0.21121,     0.21221,     0.21321,     0.21421,     0.21522,\n",
       "           0.21622,     0.21722,     0.21822,     0.21922,     0.22022,     0.22122,     0.22222,     0.22322,     0.22422,     0.22523,     0.22623,     0.22723,     0.22823,     0.22923,     0.23023,     0.23123,     0.23223,     0.23323,     0.23423,     0.23524,     0.23624,     0.23724,     0.23824,     0.23924,\n",
       "           0.24024,     0.24124,     0.24224,     0.24324,     0.24424,     0.24525,     0.24625,     0.24725,     0.24825,     0.24925,     0.25025,     0.25125,     0.25225,     0.25325,     0.25425,     0.25526,     0.25626,     0.25726,     0.25826,     0.25926,     0.26026,     0.26126,     0.26226,     0.26326,\n",
       "           0.26426,     0.26527,     0.26627,     0.26727,     0.26827,     0.26927,     0.27027,     0.27127,     0.27227,     0.27327,     0.27427,     0.27528,     0.27628,     0.27728,     0.27828,     0.27928,     0.28028,     0.28128,     0.28228,     0.28328,     0.28428,     0.28529,     0.28629,     0.28729,\n",
       "           0.28829,     0.28929,     0.29029,     0.29129,     0.29229,     0.29329,     0.29429,      0.2953,      0.2963,      0.2973,      0.2983,      0.2993,      0.3003,      0.3013,      0.3023,      0.3033,      0.3043,     0.30531,     0.30631,     0.30731,     0.30831,     0.30931,     0.31031,     0.31131,\n",
       "           0.31231,     0.31331,     0.31431,     0.31532,     0.31632,     0.31732,     0.31832,     0.31932,     0.32032,     0.32132,     0.32232,     0.32332,     0.32432,     0.32533,     0.32633,     0.32733,     0.32833,     0.32933,     0.33033,     0.33133,     0.33233,     0.33333,     0.33433,     0.33534,\n",
       "           0.33634,     0.33734,     0.33834,     0.33934,     0.34034,     0.34134,     0.34234,     0.34334,     0.34434,     0.34535,     0.34635,     0.34735,     0.34835,     0.34935,     0.35035,     0.35135,     0.35235,     0.35335,     0.35435,     0.35536,     0.35636,     0.35736,     0.35836,     0.35936,\n",
       "           0.36036,     0.36136,     0.36236,     0.36336,     0.36436,     0.36537,     0.36637,     0.36737,     0.36837,     0.36937,     0.37037,     0.37137,     0.37237,     0.37337,     0.37437,     0.37538,     0.37638,     0.37738,     0.37838,     0.37938,     0.38038,     0.38138,     0.38238,     0.38338,\n",
       "           0.38438,     0.38539,     0.38639,     0.38739,     0.38839,     0.38939,     0.39039,     0.39139,     0.39239,     0.39339,     0.39439,      0.3954,      0.3964,      0.3974,      0.3984,      0.3994,      0.4004,      0.4014,      0.4024,      0.4034,      0.4044,     0.40541,     0.40641,     0.40741,\n",
       "           0.40841,     0.40941,     0.41041,     0.41141,     0.41241,     0.41341,     0.41441,     0.41542,     0.41642,     0.41742,     0.41842,     0.41942,     0.42042,     0.42142,     0.42242,     0.42342,     0.42442,     0.42543,     0.42643,     0.42743,     0.42843,     0.42943,     0.43043,     0.43143,\n",
       "           0.43243,     0.43343,     0.43443,     0.43544,     0.43644,     0.43744,     0.43844,     0.43944,     0.44044,     0.44144,     0.44244,     0.44344,     0.44444,     0.44545,     0.44645,     0.44745,     0.44845,     0.44945,     0.45045,     0.45145,     0.45245,     0.45345,     0.45445,     0.45546,\n",
       "           0.45646,     0.45746,     0.45846,     0.45946,     0.46046,     0.46146,     0.46246,     0.46346,     0.46446,     0.46547,     0.46647,     0.46747,     0.46847,     0.46947,     0.47047,     0.47147,     0.47247,     0.47347,     0.47447,     0.47548,     0.47648,     0.47748,     0.47848,     0.47948,\n",
       "           0.48048,     0.48148,     0.48248,     0.48348,     0.48448,     0.48549,     0.48649,     0.48749,     0.48849,     0.48949,     0.49049,     0.49149,     0.49249,     0.49349,     0.49449,      0.4955,      0.4965,      0.4975,      0.4985,      0.4995,      0.5005,      0.5015,      0.5025,      0.5035,\n",
       "            0.5045,     0.50551,     0.50651,     0.50751,     0.50851,     0.50951,     0.51051,     0.51151,     0.51251,     0.51351,     0.51451,     0.51552,     0.51652,     0.51752,     0.51852,     0.51952,     0.52052,     0.52152,     0.52252,     0.52352,     0.52452,     0.52553,     0.52653,     0.52753,\n",
       "           0.52853,     0.52953,     0.53053,     0.53153,     0.53253,     0.53353,     0.53453,     0.53554,     0.53654,     0.53754,     0.53854,     0.53954,     0.54054,     0.54154,     0.54254,     0.54354,     0.54454,     0.54555,     0.54655,     0.54755,     0.54855,     0.54955,     0.55055,     0.55155,\n",
       "           0.55255,     0.55355,     0.55455,     0.55556,     0.55656,     0.55756,     0.55856,     0.55956,     0.56056,     0.56156,     0.56256,     0.56356,     0.56456,     0.56557,     0.56657,     0.56757,     0.56857,     0.56957,     0.57057,     0.57157,     0.57257,     0.57357,     0.57457,     0.57558,\n",
       "           0.57658,     0.57758,     0.57858,     0.57958,     0.58058,     0.58158,     0.58258,     0.58358,     0.58458,     0.58559,     0.58659,     0.58759,     0.58859,     0.58959,     0.59059,     0.59159,     0.59259,     0.59359,     0.59459,      0.5956,      0.5966,      0.5976,      0.5986,      0.5996,\n",
       "            0.6006,      0.6016,      0.6026,      0.6036,      0.6046,     0.60561,     0.60661,     0.60761,     0.60861,     0.60961,     0.61061,     0.61161,     0.61261,     0.61361,     0.61461,     0.61562,     0.61662,     0.61762,     0.61862,     0.61962,     0.62062,     0.62162,     0.62262,     0.62362,\n",
       "           0.62462,     0.62563,     0.62663,     0.62763,     0.62863,     0.62963,     0.63063,     0.63163,     0.63263,     0.63363,     0.63463,     0.63564,     0.63664,     0.63764,     0.63864,     0.63964,     0.64064,     0.64164,     0.64264,     0.64364,     0.64464,     0.64565,     0.64665,     0.64765,\n",
       "           0.64865,     0.64965,     0.65065,     0.65165,     0.65265,     0.65365,     0.65465,     0.65566,     0.65666,     0.65766,     0.65866,     0.65966,     0.66066,     0.66166,     0.66266,     0.66366,     0.66466,     0.66567,     0.66667,     0.66767,     0.66867,     0.66967,     0.67067,     0.67167,\n",
       "           0.67267,     0.67367,     0.67467,     0.67568,     0.67668,     0.67768,     0.67868,     0.67968,     0.68068,     0.68168,     0.68268,     0.68368,     0.68468,     0.68569,     0.68669,     0.68769,     0.68869,     0.68969,     0.69069,     0.69169,     0.69269,     0.69369,     0.69469,      0.6957,\n",
       "            0.6967,      0.6977,      0.6987,      0.6997,      0.7007,      0.7017,      0.7027,      0.7037,      0.7047,     0.70571,     0.70671,     0.70771,     0.70871,     0.70971,     0.71071,     0.71171,     0.71271,     0.71371,     0.71471,     0.71572,     0.71672,     0.71772,     0.71872,     0.71972,\n",
       "           0.72072,     0.72172,     0.72272,     0.72372,     0.72472,     0.72573,     0.72673,     0.72773,     0.72873,     0.72973,     0.73073,     0.73173,     0.73273,     0.73373,     0.73473,     0.73574,     0.73674,     0.73774,     0.73874,     0.73974,     0.74074,     0.74174,     0.74274,     0.74374,\n",
       "           0.74474,     0.74575,     0.74675,     0.74775,     0.74875,     0.74975,     0.75075,     0.75175,     0.75275,     0.75375,     0.75475,     0.75576,     0.75676,     0.75776,     0.75876,     0.75976,     0.76076,     0.76176,     0.76276,     0.76376,     0.76476,     0.76577,     0.76677,     0.76777,\n",
       "           0.76877,     0.76977,     0.77077,     0.77177,     0.77277,     0.77377,     0.77477,     0.77578,     0.77678,     0.77778,     0.77878,     0.77978,     0.78078,     0.78178,     0.78278,     0.78378,     0.78478,     0.78579,     0.78679,     0.78779,     0.78879,     0.78979,     0.79079,     0.79179,\n",
       "           0.79279,     0.79379,     0.79479,      0.7958,      0.7968,      0.7978,      0.7988,      0.7998,      0.8008,      0.8018,      0.8028,      0.8038,      0.8048,     0.80581,     0.80681,     0.80781,     0.80881,     0.80981,     0.81081,     0.81181,     0.81281,     0.81381,     0.81481,     0.81582,\n",
       "           0.81682,     0.81782,     0.81882,     0.81982,     0.82082,     0.82182,     0.82282,     0.82382,     0.82482,     0.82583,     0.82683,     0.82783,     0.82883,     0.82983,     0.83083,     0.83183,     0.83283,     0.83383,     0.83483,     0.83584,     0.83684,     0.83784,     0.83884,     0.83984,\n",
       "           0.84084,     0.84184,     0.84284,     0.84384,     0.84484,     0.84585,     0.84685,     0.84785,     0.84885,     0.84985,     0.85085,     0.85185,     0.85285,     0.85385,     0.85485,     0.85586,     0.85686,     0.85786,     0.85886,     0.85986,     0.86086,     0.86186,     0.86286,     0.86386,\n",
       "           0.86486,     0.86587,     0.86687,     0.86787,     0.86887,     0.86987,     0.87087,     0.87187,     0.87287,     0.87387,     0.87487,     0.87588,     0.87688,     0.87788,     0.87888,     0.87988,     0.88088,     0.88188,     0.88288,     0.88388,     0.88488,     0.88589,     0.88689,     0.88789,\n",
       "           0.88889,     0.88989,     0.89089,     0.89189,     0.89289,     0.89389,     0.89489,      0.8959,      0.8969,      0.8979,      0.8989,      0.8999,      0.9009,      0.9019,      0.9029,      0.9039,      0.9049,     0.90591,     0.90691,     0.90791,     0.90891,     0.90991,     0.91091,     0.91191,\n",
       "           0.91291,     0.91391,     0.91491,     0.91592,     0.91692,     0.91792,     0.91892,     0.91992,     0.92092,     0.92192,     0.92292,     0.92392,     0.92492,     0.92593,     0.92693,     0.92793,     0.92893,     0.92993,     0.93093,     0.93193,     0.93293,     0.93393,     0.93493,     0.93594,\n",
       "           0.93694,     0.93794,     0.93894,     0.93994,     0.94094,     0.94194,     0.94294,     0.94394,     0.94494,     0.94595,     0.94695,     0.94795,     0.94895,     0.94995,     0.95095,     0.95195,     0.95295,     0.95395,     0.95495,     0.95596,     0.95696,     0.95796,     0.95896,     0.95996,\n",
       "           0.96096,     0.96196,     0.96296,     0.96396,     0.96496,     0.96597,     0.96697,     0.96797,     0.96897,     0.96997,     0.97097,     0.97197,     0.97297,     0.97397,     0.97497,     0.97598,     0.97698,     0.97798,     0.97898,     0.97998,     0.98098,     0.98198,     0.98298,     0.98398,\n",
       "           0.98498,     0.98599,     0.98699,     0.98799,     0.98899,     0.98999,     0.99099,     0.99199,     0.99299,     0.99399,     0.99499,       0.996,       0.997,       0.998,       0.999,           1]), array([[          1,           1,           1,           1,           1,           1,           1,           1,           1,           1,           1,           1,           1,           1,           1,           1,           1,           1,           1,           1,           1,           1,           1,\n",
       "                  1,           1,           1,           1,           1,           1,           1,           1,           1,           1,           1,           1,           1,           1,           1,           1,           1,           1,           1,           1,           1,           1,           1,\n",
       "                  1,           1,           1,           1,           1,           1,           1,           1,     0.99624,     0.99624,     0.99624,     0.99624,     0.99624,     0.99624,     0.99624,     0.99624,     0.99624,     0.99624,     0.99624,     0.99624,     0.99461,     0.99461,     0.99461,\n",
       "            0.99461,     0.99461,     0.99461,     0.99461,     0.99461,     0.99461,     0.99461,     0.99461,     0.99461,     0.99461,     0.99461,     0.99461,     0.99461,     0.99461,     0.99461,     0.99461,     0.99461,     0.99461,     0.99461,     0.99461,     0.99461,     0.99461,     0.99328,\n",
       "            0.99328,     0.99328,     0.99328,     0.99328,     0.99328,     0.99328,     0.99328,     0.99328,     0.99328,     0.99328,     0.99328,     0.99328,     0.99328,     0.99328,     0.99328,     0.99328,     0.99328,     0.99328,     0.99328,     0.99328,     0.99328,     0.99328,     0.99328,\n",
       "            0.99328,     0.99328,     0.99328,     0.99328,     0.99328,     0.99328,     0.99328,     0.99328,     0.99328,     0.99328,     0.99328,     0.99328,     0.99328,     0.99328,     0.99328,     0.99328,     0.99328,     0.99328,     0.99328,     0.99328,     0.99328,     0.99328,     0.99328,\n",
       "            0.99328,     0.99328,     0.99328,     0.99328,     0.99328,     0.99328,     0.99328,     0.99328,     0.99194,     0.99194,     0.99194,     0.99194,     0.99194,     0.99194,     0.99111,     0.99111,     0.99111,     0.99111,     0.99111,     0.99111,     0.99111,     0.99111,     0.99111,\n",
       "            0.99111,     0.99111,     0.99111,     0.99111,     0.99001,     0.99001,     0.99001,     0.99001,     0.99001,     0.99001,     0.98865,     0.98769,     0.98769,     0.98769,     0.98769,     0.98769,     0.98769,     0.98675,     0.98675,     0.98675,     0.98675,     0.98675,     0.98675,\n",
       "             0.9864,      0.9864,      0.9864,      0.9864,      0.9864,      0.9864,      0.9864,      0.9864,      0.9864,      0.9864,      0.9864,      0.9864,      0.9864,     0.98559,     0.98559,     0.98559,     0.98559,     0.98559,     0.98447,     0.98349,     0.98349,     0.98349,     0.98244,\n",
       "            0.98218,     0.98218,     0.98218,     0.98218,     0.98218,     0.98218,     0.98218,     0.98218,     0.98218,     0.98218,     0.98174,     0.98174,     0.98174,     0.98174,     0.98174,     0.98174,     0.98174,     0.98174,     0.98158,     0.98158,     0.98158,     0.98158,     0.98158,\n",
       "            0.98158,     0.98158,     0.98158,     0.98158,     0.98158,     0.98158,     0.98158,     0.98158,     0.98158,     0.98158,     0.98158,     0.98158,     0.98158,     0.98158,     0.98158,     0.98158,     0.98158,     0.98158,     0.98158,     0.98158,     0.98158,     0.98158,     0.98158,\n",
       "            0.98158,     0.98158,     0.98158,     0.98158,     0.98158,     0.98158,     0.98158,     0.98158,     0.98158,     0.98158,     0.98008,     0.98008,     0.98008,     0.98008,     0.98008,     0.98008,     0.98008,     0.98008,     0.98008,     0.98008,     0.98008,     0.98008,     0.98008,\n",
       "            0.98008,     0.98008,     0.98008,     0.98008,     0.98008,     0.98008,     0.98008,     0.98008,     0.98008,     0.98008,     0.98008,     0.98008,     0.98008,     0.98008,     0.98008,     0.97959,     0.97959,     0.97959,     0.97959,     0.97959,     0.97847,     0.97847,     0.97847,\n",
       "            0.97847,     0.97847,     0.97847,     0.97799,     0.97799,     0.97799,     0.97799,     0.97731,     0.97731,     0.97662,     0.97639,     0.97639,     0.97639,     0.97639,     0.97639,     0.97639,     0.97639,     0.97578,     0.97578,     0.97559,     0.97559,     0.97559,     0.97559,\n",
       "            0.97559,     0.97559,     0.97559,     0.97498,     0.97361,     0.97348,     0.97348,     0.97348,     0.97348,     0.97348,     0.97348,     0.97348,     0.97341,     0.97341,     0.97341,     0.97341,     0.97341,     0.97341,     0.97341,     0.97341,     0.97341,     0.97292,     0.97292,\n",
       "            0.97292,     0.97292,     0.97292,     0.97292,     0.97292,     0.97292,     0.97292,     0.97292,     0.97292,     0.97193,     0.97193,     0.97193,     0.97193,     0.97167,     0.97167,     0.97167,     0.97167,     0.97167,     0.97122,     0.97122,     0.97122,     0.97081,     0.97081,\n",
       "            0.97081,     0.97081,     0.97081,     0.97081,     0.97081,     0.97081,     0.97081,     0.97081,     0.97081,     0.97046,     0.97046,     0.97046,     0.96936,     0.96936,     0.96906,     0.96906,     0.96906,     0.96906,     0.96854,      0.9685,      0.9685,      0.9685,      0.9685,\n",
       "             0.9685,      0.9685,      0.9685,     0.96809,     0.96809,     0.96761,     0.96736,     0.96736,     0.96736,     0.96736,     0.96723,     0.96723,     0.96723,     0.96723,     0.96723,     0.96723,     0.96678,     0.96678,     0.96647,     0.96647,     0.96647,     0.96632,     0.96632,\n",
       "            0.96632,     0.96632,     0.96632,      0.9661,      0.9661,      0.9661,      0.9661,      0.9656,     0.96521,     0.96521,     0.96425,     0.96379,     0.96284,     0.96243,     0.96243,       0.962,     0.96114,     0.96114,     0.96035,     0.96035,     0.96035,        0.96,        0.96,\n",
       "            0.95983,     0.95983,     0.95983,     0.95983,     0.95906,     0.95906,     0.95906,     0.95816,     0.95657,     0.95657,     0.95657,     0.95657,     0.95657,     0.95561,     0.95431,     0.95431,     0.95403,     0.95403,     0.95387,     0.95387,     0.95387,     0.95355,     0.95355,\n",
       "            0.95298,     0.95298,     0.95298,     0.95298,     0.95221,     0.95221,     0.95131,     0.95098,     0.95065,     0.95065,     0.95002,     0.95002,     0.95002,     0.94973,     0.94931,     0.94902,     0.94902,     0.94729,     0.94691,     0.94655,     0.94533,     0.94455,     0.94426,\n",
       "            0.94426,     0.94388,      0.9428,      0.9428,      0.9426,      0.9426,     0.94132,     0.93894,     0.93894,     0.93867,     0.93867,     0.93835,     0.93802,     0.93695,     0.93695,     0.93663,     0.93557,     0.93474,     0.93458,     0.93458,     0.93342,     0.93276,     0.93194,\n",
       "            0.93189,     0.93189,     0.93189,     0.93082,     0.93011,      0.9294,     0.92908,     0.92879,     0.92788,     0.92788,     0.92734,     0.92734,     0.92707,     0.92682,     0.92682,     0.92583,     0.92505,     0.92441,     0.92414,     0.92314,     0.92278,     0.92275,     0.92275,\n",
       "            0.92202,     0.92108,     0.92078,     0.91971,     0.91946,     0.91821,     0.91821,     0.91796,     0.91726,     0.91719,     0.91719,     0.91618,     0.91594,     0.91587,     0.91587,      0.9156,     0.91201,     0.91144,     0.91117,     0.91031,     0.91031,     0.90872,     0.90846,\n",
       "            0.90817,     0.90656,     0.90595,     0.90579,     0.90579,     0.90579,     0.90579,     0.90342,     0.90293,     0.90273,     0.90213,     0.90122,     0.90008,     0.90008,     0.90008,     0.90008,     0.89883,     0.89779,     0.89779,     0.89518,     0.89409,     0.89409,     0.89331,\n",
       "            0.89305,     0.89261,     0.89142,     0.89112,     0.89112,     0.88956,     0.88901,     0.88818,      0.8864,     0.88591,     0.88439,     0.88325,     0.88081,     0.87974,      0.8789,     0.87783,     0.87564,     0.87564,     0.87391,     0.87315,     0.87311,     0.87293,     0.87088,\n",
       "            0.86929,     0.86859,     0.86802,     0.86712,     0.86686,     0.86551,     0.86519,     0.86416,     0.86249,     0.86188,     0.86057,     0.85952,     0.85685,     0.85665,     0.85479,     0.85435,     0.85402,     0.85392,     0.85233,     0.85171,     0.85105,     0.85034,     0.84973,\n",
       "            0.84595,     0.84536,     0.84523,     0.84333,     0.84333,     0.84333,     0.84303,     0.84212,       0.842,     0.84043,     0.83993,      0.8386,     0.83827,     0.83783,     0.83625,     0.83592,     0.83591,     0.83414,     0.83307,     0.83057,      0.8282,     0.82705,     0.82576,\n",
       "             0.8254,     0.82386,     0.82222,      0.8221,      0.8217,     0.82141,     0.82106,     0.82032,     0.81852,     0.81773,     0.81645,     0.81565,     0.81565,     0.81463,     0.80998,     0.80602,     0.80576,     0.80503,     0.80167,     0.79976,     0.79717,     0.79576,     0.79234,\n",
       "            0.79027,     0.78708,     0.78664,     0.78621,     0.78532,     0.78178,     0.78178,     0.78069,     0.77917,     0.77831,     0.77615,     0.77466,      0.7741,     0.77343,     0.77217,     0.76885,     0.76719,     0.76639,     0.76629,     0.76564,     0.76339,     0.76157,     0.76127,\n",
       "            0.75899,     0.75721,     0.75544,     0.75448,       0.752,        0.75,     0.74808,     0.74664,     0.74463,     0.74366,     0.73986,     0.73593,     0.73488,     0.73146,     0.72906,     0.72582,     0.72409,     0.72037,     0.71724,     0.71368,     0.71302,     0.70726,     0.70223,\n",
       "            0.70082,     0.69707,     0.69586,     0.69284,     0.69001,     0.68674,     0.68189,     0.68014,     0.67636,     0.67324,       0.672,     0.66985,     0.66795,     0.66472,     0.66308,     0.66057,     0.66036,     0.65773,     0.65413,     0.65043,     0.64566,     0.64431,     0.64335,\n",
       "            0.64227,     0.64032,     0.63995,     0.63882,     0.63521,     0.63139,     0.63006,     0.62438,     0.62182,     0.62072,     0.61982,     0.61773,     0.61616,     0.61172,     0.60951,     0.60752,     0.60268,     0.59816,     0.59476,     0.59061,      0.5872,     0.58083,     0.57918,\n",
       "            0.57766,     0.57093,     0.57009,     0.56852,     0.56748,     0.56429,     0.56247,     0.55784,     0.55321,     0.55048,      0.5484,     0.54452,      0.5394,     0.53648,      0.5346,     0.53355,     0.53216,     0.53069,      0.5264,     0.52488,     0.51849,     0.51653,     0.51425,\n",
       "            0.51232,     0.51091,     0.50853,     0.50771,     0.50586,     0.50457,     0.49984,     0.49721,     0.49378,     0.49288,     0.48766,     0.48474,     0.47795,     0.47426,     0.47318,     0.46998,     0.46758,     0.46381,     0.46188,     0.45676,     0.45538,     0.45399,     0.45203,\n",
       "            0.45096,       0.448,     0.44441,     0.44155,     0.43943,     0.43554,     0.43145,     0.42744,     0.42066,     0.41978,      0.4156,     0.41392,     0.41277,     0.41069,     0.40597,     0.40273,     0.40166,     0.40082,     0.39955,     0.39671,     0.39215,     0.39104,     0.38597,\n",
       "            0.38335,     0.37753,     0.37596,     0.37453,     0.36569,     0.36313,     0.35875,     0.35534,     0.34983,     0.34551,      0.3382,     0.33533,     0.33281,     0.32837,     0.32641,     0.32392,     0.31146,     0.30794,     0.30146,     0.29738,     0.29126,     0.29088,     0.28792,\n",
       "            0.28362,     0.27948,      0.2721,     0.26779,     0.26524,     0.26439,     0.26205,     0.25619,     0.24991,     0.24723,     0.24455,      0.2429,     0.24013,     0.23608,     0.23151,     0.22683,     0.22331,     0.22147,     0.21749,      0.2155,     0.21269,     0.20764,     0.20685,\n",
       "            0.20612,     0.20132,     0.19439,     0.18889,     0.18521,      0.1798,     0.17518,     0.17219,     0.16907,     0.15911,     0.15778,     0.15536,     0.15307,     0.14821,     0.14707,     0.14173,     0.13924,     0.13895,     0.13657,     0.13273,     0.13029,     0.12664,     0.12491,\n",
       "            0.12328,     0.12127,     0.11747,     0.11414,     0.11036,     0.10663,     0.10334,    0.097865,    0.095059,    0.091845,    0.087759,    0.086141,    0.082405,    0.078677,    0.078033,    0.072754,    0.069871,    0.065566,     0.06319,    0.059394,      0.0554,    0.054471,    0.052916,\n",
       "           0.051805,    0.049653,    0.044164,    0.041667,    0.038889,     0.03613,    0.035642,    0.035154,    0.034665,    0.034177,    0.033689,    0.033201,    0.032712,    0.032224,    0.031736,    0.031248,    0.030759,    0.030271,    0.029783,    0.029295,    0.028806,    0.028318,     0.02783,\n",
       "           0.027342,    0.026853,    0.026365,    0.025877,    0.025389,      0.0249,    0.024412,    0.023924,    0.023436,    0.022947,    0.022459,    0.021971,    0.021483,    0.020994,    0.020506,    0.020018,     0.01953,    0.019041,    0.018553,    0.018065,    0.017577,    0.017089,      0.0166,\n",
       "           0.016112,    0.015624,    0.015136,    0.014647,    0.014159,    0.013671,    0.013183,    0.012694,    0.012206,    0.011718,     0.01123,    0.010741,    0.010253,   0.0097649,   0.0092766,   0.0087884,   0.0083001,   0.0078119,   0.0073237,   0.0068354,   0.0063472,   0.0058589,   0.0053707,\n",
       "          0.0048824,   0.0043942,   0.0039059,   0.0034177,   0.0029295,   0.0024412,    0.001953,   0.0014647,  0.00097649,  0.00048824,           0]]), 'Recall', 'Precision'], [array([          0,    0.001001,    0.002002,    0.003003,    0.004004,    0.005005,    0.006006,    0.007007,    0.008008,    0.009009,     0.01001,    0.011011,    0.012012,    0.013013,    0.014014,    0.015015,    0.016016,    0.017017,    0.018018,    0.019019,     0.02002,    0.021021,    0.022022,    0.023023,\n",
       "          0.024024,    0.025025,    0.026026,    0.027027,    0.028028,    0.029029,     0.03003,    0.031031,    0.032032,    0.033033,    0.034034,    0.035035,    0.036036,    0.037037,    0.038038,    0.039039,     0.04004,    0.041041,    0.042042,    0.043043,    0.044044,    0.045045,    0.046046,    0.047047,\n",
       "          0.048048,    0.049049,     0.05005,    0.051051,    0.052052,    0.053053,    0.054054,    0.055055,    0.056056,    0.057057,    0.058058,    0.059059,     0.06006,    0.061061,    0.062062,    0.063063,    0.064064,    0.065065,    0.066066,    0.067067,    0.068068,    0.069069,     0.07007,    0.071071,\n",
       "          0.072072,    0.073073,    0.074074,    0.075075,    0.076076,    0.077077,    0.078078,    0.079079,     0.08008,    0.081081,    0.082082,    0.083083,    0.084084,    0.085085,    0.086086,    0.087087,    0.088088,    0.089089,     0.09009,    0.091091,    0.092092,    0.093093,    0.094094,    0.095095,\n",
       "          0.096096,    0.097097,    0.098098,    0.099099,      0.1001,      0.1011,      0.1021,      0.1031,      0.1041,     0.10511,     0.10611,     0.10711,     0.10811,     0.10911,     0.11011,     0.11111,     0.11211,     0.11311,     0.11411,     0.11512,     0.11612,     0.11712,     0.11812,     0.11912,\n",
       "           0.12012,     0.12112,     0.12212,     0.12312,     0.12412,     0.12513,     0.12613,     0.12713,     0.12813,     0.12913,     0.13013,     0.13113,     0.13213,     0.13313,     0.13413,     0.13514,     0.13614,     0.13714,     0.13814,     0.13914,     0.14014,     0.14114,     0.14214,     0.14314,\n",
       "           0.14414,     0.14515,     0.14615,     0.14715,     0.14815,     0.14915,     0.15015,     0.15115,     0.15215,     0.15315,     0.15415,     0.15516,     0.15616,     0.15716,     0.15816,     0.15916,     0.16016,     0.16116,     0.16216,     0.16316,     0.16416,     0.16517,     0.16617,     0.16717,\n",
       "           0.16817,     0.16917,     0.17017,     0.17117,     0.17217,     0.17317,     0.17417,     0.17518,     0.17618,     0.17718,     0.17818,     0.17918,     0.18018,     0.18118,     0.18218,     0.18318,     0.18418,     0.18519,     0.18619,     0.18719,     0.18819,     0.18919,     0.19019,     0.19119,\n",
       "           0.19219,     0.19319,     0.19419,      0.1952,      0.1962,      0.1972,      0.1982,      0.1992,      0.2002,      0.2012,      0.2022,      0.2032,      0.2042,     0.20521,     0.20621,     0.20721,     0.20821,     0.20921,     0.21021,     0.21121,     0.21221,     0.21321,     0.21421,     0.21522,\n",
       "           0.21622,     0.21722,     0.21822,     0.21922,     0.22022,     0.22122,     0.22222,     0.22322,     0.22422,     0.22523,     0.22623,     0.22723,     0.22823,     0.22923,     0.23023,     0.23123,     0.23223,     0.23323,     0.23423,     0.23524,     0.23624,     0.23724,     0.23824,     0.23924,\n",
       "           0.24024,     0.24124,     0.24224,     0.24324,     0.24424,     0.24525,     0.24625,     0.24725,     0.24825,     0.24925,     0.25025,     0.25125,     0.25225,     0.25325,     0.25425,     0.25526,     0.25626,     0.25726,     0.25826,     0.25926,     0.26026,     0.26126,     0.26226,     0.26326,\n",
       "           0.26426,     0.26527,     0.26627,     0.26727,     0.26827,     0.26927,     0.27027,     0.27127,     0.27227,     0.27327,     0.27427,     0.27528,     0.27628,     0.27728,     0.27828,     0.27928,     0.28028,     0.28128,     0.28228,     0.28328,     0.28428,     0.28529,     0.28629,     0.28729,\n",
       "           0.28829,     0.28929,     0.29029,     0.29129,     0.29229,     0.29329,     0.29429,      0.2953,      0.2963,      0.2973,      0.2983,      0.2993,      0.3003,      0.3013,      0.3023,      0.3033,      0.3043,     0.30531,     0.30631,     0.30731,     0.30831,     0.30931,     0.31031,     0.31131,\n",
       "           0.31231,     0.31331,     0.31431,     0.31532,     0.31632,     0.31732,     0.31832,     0.31932,     0.32032,     0.32132,     0.32232,     0.32332,     0.32432,     0.32533,     0.32633,     0.32733,     0.32833,     0.32933,     0.33033,     0.33133,     0.33233,     0.33333,     0.33433,     0.33534,\n",
       "           0.33634,     0.33734,     0.33834,     0.33934,     0.34034,     0.34134,     0.34234,     0.34334,     0.34434,     0.34535,     0.34635,     0.34735,     0.34835,     0.34935,     0.35035,     0.35135,     0.35235,     0.35335,     0.35435,     0.35536,     0.35636,     0.35736,     0.35836,     0.35936,\n",
       "           0.36036,     0.36136,     0.36236,     0.36336,     0.36436,     0.36537,     0.36637,     0.36737,     0.36837,     0.36937,     0.37037,     0.37137,     0.37237,     0.37337,     0.37437,     0.37538,     0.37638,     0.37738,     0.37838,     0.37938,     0.38038,     0.38138,     0.38238,     0.38338,\n",
       "           0.38438,     0.38539,     0.38639,     0.38739,     0.38839,     0.38939,     0.39039,     0.39139,     0.39239,     0.39339,     0.39439,      0.3954,      0.3964,      0.3974,      0.3984,      0.3994,      0.4004,      0.4014,      0.4024,      0.4034,      0.4044,     0.40541,     0.40641,     0.40741,\n",
       "           0.40841,     0.40941,     0.41041,     0.41141,     0.41241,     0.41341,     0.41441,     0.41542,     0.41642,     0.41742,     0.41842,     0.41942,     0.42042,     0.42142,     0.42242,     0.42342,     0.42442,     0.42543,     0.42643,     0.42743,     0.42843,     0.42943,     0.43043,     0.43143,\n",
       "           0.43243,     0.43343,     0.43443,     0.43544,     0.43644,     0.43744,     0.43844,     0.43944,     0.44044,     0.44144,     0.44244,     0.44344,     0.44444,     0.44545,     0.44645,     0.44745,     0.44845,     0.44945,     0.45045,     0.45145,     0.45245,     0.45345,     0.45445,     0.45546,\n",
       "           0.45646,     0.45746,     0.45846,     0.45946,     0.46046,     0.46146,     0.46246,     0.46346,     0.46446,     0.46547,     0.46647,     0.46747,     0.46847,     0.46947,     0.47047,     0.47147,     0.47247,     0.47347,     0.47447,     0.47548,     0.47648,     0.47748,     0.47848,     0.47948,\n",
       "           0.48048,     0.48148,     0.48248,     0.48348,     0.48448,     0.48549,     0.48649,     0.48749,     0.48849,     0.48949,     0.49049,     0.49149,     0.49249,     0.49349,     0.49449,      0.4955,      0.4965,      0.4975,      0.4985,      0.4995,      0.5005,      0.5015,      0.5025,      0.5035,\n",
       "            0.5045,     0.50551,     0.50651,     0.50751,     0.50851,     0.50951,     0.51051,     0.51151,     0.51251,     0.51351,     0.51451,     0.51552,     0.51652,     0.51752,     0.51852,     0.51952,     0.52052,     0.52152,     0.52252,     0.52352,     0.52452,     0.52553,     0.52653,     0.52753,\n",
       "           0.52853,     0.52953,     0.53053,     0.53153,     0.53253,     0.53353,     0.53453,     0.53554,     0.53654,     0.53754,     0.53854,     0.53954,     0.54054,     0.54154,     0.54254,     0.54354,     0.54454,     0.54555,     0.54655,     0.54755,     0.54855,     0.54955,     0.55055,     0.55155,\n",
       "           0.55255,     0.55355,     0.55455,     0.55556,     0.55656,     0.55756,     0.55856,     0.55956,     0.56056,     0.56156,     0.56256,     0.56356,     0.56456,     0.56557,     0.56657,     0.56757,     0.56857,     0.56957,     0.57057,     0.57157,     0.57257,     0.57357,     0.57457,     0.57558,\n",
       "           0.57658,     0.57758,     0.57858,     0.57958,     0.58058,     0.58158,     0.58258,     0.58358,     0.58458,     0.58559,     0.58659,     0.58759,     0.58859,     0.58959,     0.59059,     0.59159,     0.59259,     0.59359,     0.59459,      0.5956,      0.5966,      0.5976,      0.5986,      0.5996,\n",
       "            0.6006,      0.6016,      0.6026,      0.6036,      0.6046,     0.60561,     0.60661,     0.60761,     0.60861,     0.60961,     0.61061,     0.61161,     0.61261,     0.61361,     0.61461,     0.61562,     0.61662,     0.61762,     0.61862,     0.61962,     0.62062,     0.62162,     0.62262,     0.62362,\n",
       "           0.62462,     0.62563,     0.62663,     0.62763,     0.62863,     0.62963,     0.63063,     0.63163,     0.63263,     0.63363,     0.63463,     0.63564,     0.63664,     0.63764,     0.63864,     0.63964,     0.64064,     0.64164,     0.64264,     0.64364,     0.64464,     0.64565,     0.64665,     0.64765,\n",
       "           0.64865,     0.64965,     0.65065,     0.65165,     0.65265,     0.65365,     0.65465,     0.65566,     0.65666,     0.65766,     0.65866,     0.65966,     0.66066,     0.66166,     0.66266,     0.66366,     0.66466,     0.66567,     0.66667,     0.66767,     0.66867,     0.66967,     0.67067,     0.67167,\n",
       "           0.67267,     0.67367,     0.67467,     0.67568,     0.67668,     0.67768,     0.67868,     0.67968,     0.68068,     0.68168,     0.68268,     0.68368,     0.68468,     0.68569,     0.68669,     0.68769,     0.68869,     0.68969,     0.69069,     0.69169,     0.69269,     0.69369,     0.69469,      0.6957,\n",
       "            0.6967,      0.6977,      0.6987,      0.6997,      0.7007,      0.7017,      0.7027,      0.7037,      0.7047,     0.70571,     0.70671,     0.70771,     0.70871,     0.70971,     0.71071,     0.71171,     0.71271,     0.71371,     0.71471,     0.71572,     0.71672,     0.71772,     0.71872,     0.71972,\n",
       "           0.72072,     0.72172,     0.72272,     0.72372,     0.72472,     0.72573,     0.72673,     0.72773,     0.72873,     0.72973,     0.73073,     0.73173,     0.73273,     0.73373,     0.73473,     0.73574,     0.73674,     0.73774,     0.73874,     0.73974,     0.74074,     0.74174,     0.74274,     0.74374,\n",
       "           0.74474,     0.74575,     0.74675,     0.74775,     0.74875,     0.74975,     0.75075,     0.75175,     0.75275,     0.75375,     0.75475,     0.75576,     0.75676,     0.75776,     0.75876,     0.75976,     0.76076,     0.76176,     0.76276,     0.76376,     0.76476,     0.76577,     0.76677,     0.76777,\n",
       "           0.76877,     0.76977,     0.77077,     0.77177,     0.77277,     0.77377,     0.77477,     0.77578,     0.77678,     0.77778,     0.77878,     0.77978,     0.78078,     0.78178,     0.78278,     0.78378,     0.78478,     0.78579,     0.78679,     0.78779,     0.78879,     0.78979,     0.79079,     0.79179,\n",
       "           0.79279,     0.79379,     0.79479,      0.7958,      0.7968,      0.7978,      0.7988,      0.7998,      0.8008,      0.8018,      0.8028,      0.8038,      0.8048,     0.80581,     0.80681,     0.80781,     0.80881,     0.80981,     0.81081,     0.81181,     0.81281,     0.81381,     0.81481,     0.81582,\n",
       "           0.81682,     0.81782,     0.81882,     0.81982,     0.82082,     0.82182,     0.82282,     0.82382,     0.82482,     0.82583,     0.82683,     0.82783,     0.82883,     0.82983,     0.83083,     0.83183,     0.83283,     0.83383,     0.83483,     0.83584,     0.83684,     0.83784,     0.83884,     0.83984,\n",
       "           0.84084,     0.84184,     0.84284,     0.84384,     0.84484,     0.84585,     0.84685,     0.84785,     0.84885,     0.84985,     0.85085,     0.85185,     0.85285,     0.85385,     0.85485,     0.85586,     0.85686,     0.85786,     0.85886,     0.85986,     0.86086,     0.86186,     0.86286,     0.86386,\n",
       "           0.86486,     0.86587,     0.86687,     0.86787,     0.86887,     0.86987,     0.87087,     0.87187,     0.87287,     0.87387,     0.87487,     0.87588,     0.87688,     0.87788,     0.87888,     0.87988,     0.88088,     0.88188,     0.88288,     0.88388,     0.88488,     0.88589,     0.88689,     0.88789,\n",
       "           0.88889,     0.88989,     0.89089,     0.89189,     0.89289,     0.89389,     0.89489,      0.8959,      0.8969,      0.8979,      0.8989,      0.8999,      0.9009,      0.9019,      0.9029,      0.9039,      0.9049,     0.90591,     0.90691,     0.90791,     0.90891,     0.90991,     0.91091,     0.91191,\n",
       "           0.91291,     0.91391,     0.91491,     0.91592,     0.91692,     0.91792,     0.91892,     0.91992,     0.92092,     0.92192,     0.92292,     0.92392,     0.92492,     0.92593,     0.92693,     0.92793,     0.92893,     0.92993,     0.93093,     0.93193,     0.93293,     0.93393,     0.93493,     0.93594,\n",
       "           0.93694,     0.93794,     0.93894,     0.93994,     0.94094,     0.94194,     0.94294,     0.94394,     0.94494,     0.94595,     0.94695,     0.94795,     0.94895,     0.94995,     0.95095,     0.95195,     0.95295,     0.95395,     0.95495,     0.95596,     0.95696,     0.95796,     0.95896,     0.95996,\n",
       "           0.96096,     0.96196,     0.96296,     0.96396,     0.96496,     0.96597,     0.96697,     0.96797,     0.96897,     0.96997,     0.97097,     0.97197,     0.97297,     0.97397,     0.97497,     0.97598,     0.97698,     0.97798,     0.97898,     0.97998,     0.98098,     0.98198,     0.98298,     0.98398,\n",
       "           0.98498,     0.98599,     0.98699,     0.98799,     0.98899,     0.98999,     0.99099,     0.99199,     0.99299,     0.99399,     0.99499,       0.996,       0.997,       0.998,       0.999,           1]), array([[   0.070014,    0.070014,    0.098339,     0.12025,     0.13794,     0.15433,     0.16886,     0.18181,     0.19438,     0.20577,     0.21679,      0.2262,     0.23542,      0.2439,     0.25281,      0.2611,     0.26842,     0.27626,     0.28378,      0.2918,     0.29888,     0.30561,     0.31283,\n",
       "             0.3194,     0.32585,     0.33151,     0.33682,     0.34274,     0.34764,     0.35318,     0.35854,     0.36395,     0.36859,     0.37352,     0.37842,     0.38235,     0.38692,     0.39138,     0.39596,      0.4005,      0.4049,      0.4088,     0.41286,     0.41765,     0.42194,     0.42545,\n",
       "            0.42924,     0.43267,     0.43651,     0.44057,     0.44386,     0.44744,     0.45174,     0.45566,     0.45963,     0.46305,     0.46692,     0.47024,     0.47281,     0.47675,     0.47937,     0.48277,       0.486,     0.48993,     0.49234,     0.49525,      0.4983,     0.50137,     0.50511,\n",
       "            0.50781,     0.50984,      0.5131,      0.5156,     0.51797,     0.52002,     0.52263,     0.52503,     0.52702,     0.53031,     0.53181,     0.53556,     0.53745,     0.53907,     0.54149,     0.54392,     0.54698,     0.54854,      0.5502,     0.55187,     0.55413,     0.55712,     0.55927,\n",
       "            0.56193,     0.56356,     0.56586,     0.56816,     0.56999,     0.57159,     0.57361,     0.57511,      0.5772,     0.57885,     0.58079,     0.58233,     0.58393,     0.58602,     0.58726,     0.58985,     0.59072,     0.59246,      0.5938,     0.59477,     0.59689,      0.5983,     0.60061,\n",
       "            0.60177,     0.60325,     0.60466,     0.60689,     0.60793,     0.61022,     0.61202,     0.61331,     0.61512,     0.61567,     0.61686,      0.6174,     0.61849,     0.61979,     0.62054,     0.62179,     0.62308,     0.62457,     0.62613,     0.62747,     0.62824,     0.63035,     0.63153,\n",
       "            0.63226,     0.63289,     0.63404,     0.63497,     0.63621,     0.63723,     0.63831,     0.63986,     0.64135,     0.64227,     0.64329,     0.64456,     0.64616,     0.64696,     0.64802,     0.64902,     0.65028,     0.65108,     0.65152,      0.6524,     0.65286,     0.65417,     0.65491,\n",
       "            0.65636,      0.6569,     0.65744,     0.65863,     0.65987,     0.66129,     0.66219,     0.66345,     0.66471,     0.66581,      0.6667,     0.66799,     0.66876,     0.66934,     0.67028,     0.67121,     0.67194,     0.67275,     0.67392,     0.67459,     0.67539,     0.67613,     0.67657,\n",
       "            0.67693,     0.67758,     0.67808,     0.67904,     0.67962,     0.68052,     0.68174,     0.68173,     0.68223,     0.68391,     0.68399,     0.68559,     0.68557,      0.6855,     0.68608,     0.68623,     0.68664,     0.68711,     0.68748,     0.68824,     0.68908,     0.69029,     0.69073,\n",
       "            0.69156,     0.69233,     0.69279,     0.69276,     0.69369,      0.6943,     0.69475,     0.69551,     0.69602,     0.69587,     0.69625,     0.69689,       0.697,     0.69745,     0.69799,     0.69838,     0.69893,     0.69949,     0.70013,     0.70035,     0.70026,     0.70108,     0.70196,\n",
       "            0.70269,     0.70304,     0.70353,     0.70406,     0.70461,      0.7054,      0.7057,     0.70592,     0.70657,       0.707,     0.70731,     0.70745,     0.70844,     0.70903,     0.70972,        0.71,     0.71092,     0.71158,     0.71192,     0.71168,     0.71268,     0.71257,     0.71315,\n",
       "            0.71383,     0.71408,     0.71459,     0.71514,     0.71575,     0.71591,     0.71714,      0.7173,     0.71775,     0.71834,     0.71834,     0.71837,     0.71994,     0.71983,     0.72004,     0.72086,     0.72075,     0.72101,     0.72138,     0.72155,     0.72133,     0.72134,      0.7219,\n",
       "            0.72228,     0.72219,     0.72239,     0.72262,     0.72287,      0.7229,     0.72311,     0.72361,     0.72382,     0.72329,     0.72347,     0.72394,     0.72394,     0.72398,      0.7232,      0.7231,     0.72326,     0.72318,     0.72346,     0.72405,     0.72395,     0.72398,     0.72368,\n",
       "            0.72369,     0.72364,      0.7238,     0.72395,     0.72347,     0.72375,     0.72364,     0.72297,     0.72384,     0.72386,     0.72341,      0.7231,      0.7231,     0.72372,     0.72393,     0.72384,     0.72407,      0.7242,     0.72436,     0.72469,     0.72478,     0.72475,     0.72469,\n",
       "            0.72492,     0.72498,      0.7253,     0.72553,     0.72618,      0.7264,     0.72636,     0.72616,      0.7255,     0.72565,      0.7263,     0.72672,     0.72688,     0.72687,     0.72726,     0.72746,     0.72762,     0.72698,     0.72669,     0.72652,     0.72658,     0.72621,     0.72619,\n",
       "            0.72597,     0.72543,     0.72503,     0.72489,     0.72401,     0.72383,     0.72405,     0.72371,     0.72324,     0.72332,     0.72329,     0.72318,     0.72322,      0.7235,     0.72373,     0.72345,     0.72382,     0.72313,     0.72249,     0.72213,     0.72237,     0.72204,     0.72122,\n",
       "            0.72105,     0.72109,     0.72061,     0.72066,     0.72077,     0.72056,     0.71983,     0.71951,     0.71907,     0.71811,     0.71741,     0.71793,     0.71704,     0.71701,      0.7171,     0.71741,     0.71699,      0.7168,     0.71661,     0.71573,     0.71558,      0.7156,     0.71494,\n",
       "            0.71423,     0.71397,     0.71382,     0.71375,     0.71343,     0.71299,     0.71351,     0.71345,     0.71331,     0.71298,     0.71321,     0.71271,     0.71241,     0.71206,     0.71237,     0.71184,     0.71107,     0.71122,      0.7111,     0.71088,     0.70995,      0.7098,     0.70935,\n",
       "            0.70883,     0.70876,     0.70851,     0.70903,     0.70809,     0.70754,     0.70707,     0.70705,     0.70645,     0.70638,     0.70645,     0.70621,     0.70566,     0.70568,     0.70559,     0.70499,     0.70478,     0.70463,     0.70454,     0.70486,     0.70489,     0.70449,     0.70459,\n",
       "            0.70375,     0.70387,     0.70341,     0.70304,     0.70256,     0.70283,     0.70211,     0.70102,      0.7004,     0.69999,     0.69914,     0.69896,     0.69808,     0.69752,     0.69794,     0.69805,     0.69795,     0.69788,      0.6975,     0.69682,     0.69656,     0.69653,     0.69577,\n",
       "            0.69478,     0.69428,     0.69386,      0.6938,     0.69358,      0.6931,     0.69302,     0.69262,     0.69193,     0.69088,      0.6908,     0.69067,     0.68907,     0.68808,     0.68796,     0.68785,     0.68767,     0.68717,     0.68697,     0.68628,     0.68577,     0.68528,      0.6854,\n",
       "            0.68487,     0.68466,     0.68437,     0.68386,     0.68345,     0.68315,     0.68261,     0.68232,     0.68263,     0.68274,     0.68306,     0.68255,     0.68112,     0.68081,      0.6802,     0.67968,     0.67958,     0.67876,     0.67793,     0.67773,     0.67701,     0.67699,     0.67607,\n",
       "            0.67556,     0.67483,     0.67485,     0.67444,      0.6739,     0.67307,     0.67275,     0.67213,     0.67087,     0.67052,     0.67034,      0.6694,     0.66919,     0.66949,     0.66866,     0.66802,     0.66791,     0.66728,     0.66706,     0.66632,     0.66574,     0.66515,     0.66441,\n",
       "            0.66342,     0.66313,     0.66185,     0.66163,     0.66163,     0.66153,     0.66109,     0.66087,      0.6598,     0.65969,     0.65893,     0.65871,     0.65802,     0.65773,     0.65687,     0.65601,     0.65545,     0.65502,     0.65448,     0.65436,     0.65416,     0.65394,      0.6538,\n",
       "            0.65293,     0.65212,     0.65172,     0.65107,     0.65062,     0.65039,     0.64963,     0.64891,     0.64863,     0.64847,     0.64763,     0.64694,     0.64663,     0.64574,     0.64519,     0.64483,     0.64471,     0.64441,     0.64419,     0.64392,     0.64406,     0.64346,     0.64279,\n",
       "            0.64213,     0.64112,      0.6409,     0.64022,     0.63965,     0.63886,      0.6383,     0.63815,     0.63795,     0.63702,     0.63658,     0.63657,       0.636,     0.63577,     0.63464,     0.63443,     0.63437,     0.63369,     0.63307,     0.63272,     0.63186,     0.63072,     0.63027,\n",
       "            0.62959,     0.62896,     0.62884,     0.62797,     0.62671,     0.62625,     0.62575,      0.6245,     0.62415,      0.6223,     0.62116,     0.62042,      0.6202,     0.61997,     0.61905,     0.61892,     0.61822,     0.61729,     0.61627,     0.61565,     0.61473,     0.61367,      0.6126,\n",
       "            0.61234,     0.61207,     0.61137,     0.61041,     0.60891,     0.60783,      0.6072,     0.60707,     0.60622,     0.60481,     0.60406,     0.60253,     0.60205,     0.60133,     0.60072,         0.6,     0.59932,     0.59916,     0.59878,     0.59842,     0.59782,      0.5977,     0.59731,\n",
       "            0.59623,      0.5955,      0.5943,     0.59425,     0.59353,     0.59231,     0.59096,     0.59066,     0.59071,     0.58972,     0.58871,     0.58863,     0.58769,     0.58619,     0.58436,     0.58387,     0.58265,     0.58226,     0.58132,     0.57992,     0.57967,     0.57747,      0.5773,\n",
       "            0.57669,     0.57619,     0.57446,     0.57319,     0.57279,     0.56907,     0.56823,      0.5673,     0.56717,     0.56585,     0.56464,     0.56414,     0.56252,     0.56185,     0.56168,     0.55991,     0.55973,     0.55886,     0.55835,     0.55784,      0.5567,     0.55618,      0.5551,\n",
       "            0.55427,     0.55324,     0.55206,       0.551,     0.54898,     0.54881,     0.54737,     0.54685,      0.5462,     0.54484,     0.54316,     0.54273,     0.54116,     0.54052,     0.53948,     0.53806,     0.53793,     0.53615,     0.53555,     0.53423,     0.53288,     0.53235,     0.53078,\n",
       "             0.5302,     0.52888,     0.52834,     0.52816,     0.52711,     0.52683,     0.52378,     0.52227,        0.52,     0.51944,     0.51871,     0.51843,     0.51669,     0.51556,     0.51493,      0.5129,     0.51128,     0.51093,     0.50958,     0.50839,     0.50746,     0.50614,     0.50586,\n",
       "            0.50326,     0.50204,     0.50147,     0.49913,     0.49715,     0.49493,     0.49424,      0.4923,     0.48993,     0.48943,     0.48865,     0.48692,     0.48657,     0.48572,     0.48382,     0.48345,     0.48198,     0.47958,     0.47889,     0.47696,     0.47594,     0.47562,     0.47291,\n",
       "            0.47077,     0.46884,     0.46775,     0.46642,     0.46325,     0.46155,     0.46096,     0.45911,     0.45692,      0.4554,     0.45388,      0.4532,     0.45283,     0.45004,     0.44905,     0.44687,     0.44645,     0.44493,     0.44376,     0.44284,     0.44046,     0.43806,     0.43731,\n",
       "            0.43474,      0.4343,     0.43159,     0.43068,     0.42745,     0.42674,      0.4256,     0.42369,     0.42061,     0.41949,     0.41825,     0.41618,     0.41445,     0.41413,     0.41172,     0.40968,     0.40874,     0.40718,     0.40452,     0.40202,     0.40105,     0.39884,     0.39745,\n",
       "            0.39713,     0.39578,     0.39445,     0.39063,     0.38927,     0.38806,     0.38559,     0.38388,     0.38162,     0.38044,     0.37901,     0.37674,     0.37364,      0.3725,     0.37061,     0.36701,     0.36576,     0.36443,     0.36277,     0.36033,     0.35846,     0.35645,     0.35492,\n",
       "            0.35351,     0.35116,      0.3478,     0.34477,     0.34301,     0.33948,     0.33543,     0.33347,     0.33107,     0.32881,     0.32761,     0.32559,     0.32005,     0.31691,      0.3148,     0.31234,     0.30987,     0.30716,     0.30604,     0.30556,     0.30318,     0.30074,     0.29931,\n",
       "            0.29501,     0.29279,     0.28973,     0.28611,      0.2832,      0.2807,     0.27558,     0.27373,     0.26894,     0.26375,     0.26082,     0.25782,     0.25631,     0.25377,     0.25145,     0.24804,     0.24613,     0.24118,     0.23888,     0.23503,     0.23195,     0.22885,     0.22612,\n",
       "            0.22378,     0.22221,     0.21829,     0.21553,     0.21395,     0.20723,     0.20325,     0.19965,     0.19804,     0.19706,     0.19284,     0.19161,     0.18823,     0.18458,      0.1794,     0.17693,     0.17363,     0.16909,     0.16647,     0.16323,     0.16161,       0.157,     0.15279,\n",
       "            0.15044,     0.14812,     0.14683,     0.14258,     0.13875,     0.13657,     0.13188,      0.1301,     0.12533,     0.12358,     0.12129,     0.11835,     0.11538,     0.11231,     0.11129,     0.10995,     0.10729,     0.10506,     0.10231,    0.099461,     0.09747,    0.093877,    0.092735,\n",
       "           0.089798,    0.084371,    0.081181,     0.07798,    0.075225,    0.073315,    0.071524,    0.067832,    0.065048,    0.064103,     0.06177,    0.058505,    0.057088,    0.055205,    0.053317,    0.050023,    0.045778,    0.043683,    0.043361,    0.041939,    0.039553,    0.037161,    0.035511,\n",
       "           0.033835,    0.031441,     0.02897,    0.026552,    0.025536,    0.024692,    0.023759,     0.02343,    0.021626,    0.021035,    0.019576,    0.018356,    0.017667,    0.016675,    0.015546,    0.015347,    0.015148,    0.013437,    0.012672,    0.011955,     0.01075,      0.0105,   0.0092823,\n",
       "          0.0090823,   0.0088822,     0.00847,   0.0079695,   0.0063133,   0.0060625,    0.005322,    0.005071,   0.0045447,   0.0039805,   0.0036289,   0.0029995,   0.0019926,   0.0009845,  0.00073225,           0,           0,           0,           0,           0,           0,           0,           0,\n",
       "                  0,           0,           0,           0,           0,           0,           0,           0,           0,           0,           0]]), 'Confidence', 'F1'], [array([          0,    0.001001,    0.002002,    0.003003,    0.004004,    0.005005,    0.006006,    0.007007,    0.008008,    0.009009,     0.01001,    0.011011,    0.012012,    0.013013,    0.014014,    0.015015,    0.016016,    0.017017,    0.018018,    0.019019,     0.02002,    0.021021,    0.022022,    0.023023,\n",
       "          0.024024,    0.025025,    0.026026,    0.027027,    0.028028,    0.029029,     0.03003,    0.031031,    0.032032,    0.033033,    0.034034,    0.035035,    0.036036,    0.037037,    0.038038,    0.039039,     0.04004,    0.041041,    0.042042,    0.043043,    0.044044,    0.045045,    0.046046,    0.047047,\n",
       "          0.048048,    0.049049,     0.05005,    0.051051,    0.052052,    0.053053,    0.054054,    0.055055,    0.056056,    0.057057,    0.058058,    0.059059,     0.06006,    0.061061,    0.062062,    0.063063,    0.064064,    0.065065,    0.066066,    0.067067,    0.068068,    0.069069,     0.07007,    0.071071,\n",
       "          0.072072,    0.073073,    0.074074,    0.075075,    0.076076,    0.077077,    0.078078,    0.079079,     0.08008,    0.081081,    0.082082,    0.083083,    0.084084,    0.085085,    0.086086,    0.087087,    0.088088,    0.089089,     0.09009,    0.091091,    0.092092,    0.093093,    0.094094,    0.095095,\n",
       "          0.096096,    0.097097,    0.098098,    0.099099,      0.1001,      0.1011,      0.1021,      0.1031,      0.1041,     0.10511,     0.10611,     0.10711,     0.10811,     0.10911,     0.11011,     0.11111,     0.11211,     0.11311,     0.11411,     0.11512,     0.11612,     0.11712,     0.11812,     0.11912,\n",
       "           0.12012,     0.12112,     0.12212,     0.12312,     0.12412,     0.12513,     0.12613,     0.12713,     0.12813,     0.12913,     0.13013,     0.13113,     0.13213,     0.13313,     0.13413,     0.13514,     0.13614,     0.13714,     0.13814,     0.13914,     0.14014,     0.14114,     0.14214,     0.14314,\n",
       "           0.14414,     0.14515,     0.14615,     0.14715,     0.14815,     0.14915,     0.15015,     0.15115,     0.15215,     0.15315,     0.15415,     0.15516,     0.15616,     0.15716,     0.15816,     0.15916,     0.16016,     0.16116,     0.16216,     0.16316,     0.16416,     0.16517,     0.16617,     0.16717,\n",
       "           0.16817,     0.16917,     0.17017,     0.17117,     0.17217,     0.17317,     0.17417,     0.17518,     0.17618,     0.17718,     0.17818,     0.17918,     0.18018,     0.18118,     0.18218,     0.18318,     0.18418,     0.18519,     0.18619,     0.18719,     0.18819,     0.18919,     0.19019,     0.19119,\n",
       "           0.19219,     0.19319,     0.19419,      0.1952,      0.1962,      0.1972,      0.1982,      0.1992,      0.2002,      0.2012,      0.2022,      0.2032,      0.2042,     0.20521,     0.20621,     0.20721,     0.20821,     0.20921,     0.21021,     0.21121,     0.21221,     0.21321,     0.21421,     0.21522,\n",
       "           0.21622,     0.21722,     0.21822,     0.21922,     0.22022,     0.22122,     0.22222,     0.22322,     0.22422,     0.22523,     0.22623,     0.22723,     0.22823,     0.22923,     0.23023,     0.23123,     0.23223,     0.23323,     0.23423,     0.23524,     0.23624,     0.23724,     0.23824,     0.23924,\n",
       "           0.24024,     0.24124,     0.24224,     0.24324,     0.24424,     0.24525,     0.24625,     0.24725,     0.24825,     0.24925,     0.25025,     0.25125,     0.25225,     0.25325,     0.25425,     0.25526,     0.25626,     0.25726,     0.25826,     0.25926,     0.26026,     0.26126,     0.26226,     0.26326,\n",
       "           0.26426,     0.26527,     0.26627,     0.26727,     0.26827,     0.26927,     0.27027,     0.27127,     0.27227,     0.27327,     0.27427,     0.27528,     0.27628,     0.27728,     0.27828,     0.27928,     0.28028,     0.28128,     0.28228,     0.28328,     0.28428,     0.28529,     0.28629,     0.28729,\n",
       "           0.28829,     0.28929,     0.29029,     0.29129,     0.29229,     0.29329,     0.29429,      0.2953,      0.2963,      0.2973,      0.2983,      0.2993,      0.3003,      0.3013,      0.3023,      0.3033,      0.3043,     0.30531,     0.30631,     0.30731,     0.30831,     0.30931,     0.31031,     0.31131,\n",
       "           0.31231,     0.31331,     0.31431,     0.31532,     0.31632,     0.31732,     0.31832,     0.31932,     0.32032,     0.32132,     0.32232,     0.32332,     0.32432,     0.32533,     0.32633,     0.32733,     0.32833,     0.32933,     0.33033,     0.33133,     0.33233,     0.33333,     0.33433,     0.33534,\n",
       "           0.33634,     0.33734,     0.33834,     0.33934,     0.34034,     0.34134,     0.34234,     0.34334,     0.34434,     0.34535,     0.34635,     0.34735,     0.34835,     0.34935,     0.35035,     0.35135,     0.35235,     0.35335,     0.35435,     0.35536,     0.35636,     0.35736,     0.35836,     0.35936,\n",
       "           0.36036,     0.36136,     0.36236,     0.36336,     0.36436,     0.36537,     0.36637,     0.36737,     0.36837,     0.36937,     0.37037,     0.37137,     0.37237,     0.37337,     0.37437,     0.37538,     0.37638,     0.37738,     0.37838,     0.37938,     0.38038,     0.38138,     0.38238,     0.38338,\n",
       "           0.38438,     0.38539,     0.38639,     0.38739,     0.38839,     0.38939,     0.39039,     0.39139,     0.39239,     0.39339,     0.39439,      0.3954,      0.3964,      0.3974,      0.3984,      0.3994,      0.4004,      0.4014,      0.4024,      0.4034,      0.4044,     0.40541,     0.40641,     0.40741,\n",
       "           0.40841,     0.40941,     0.41041,     0.41141,     0.41241,     0.41341,     0.41441,     0.41542,     0.41642,     0.41742,     0.41842,     0.41942,     0.42042,     0.42142,     0.42242,     0.42342,     0.42442,     0.42543,     0.42643,     0.42743,     0.42843,     0.42943,     0.43043,     0.43143,\n",
       "           0.43243,     0.43343,     0.43443,     0.43544,     0.43644,     0.43744,     0.43844,     0.43944,     0.44044,     0.44144,     0.44244,     0.44344,     0.44444,     0.44545,     0.44645,     0.44745,     0.44845,     0.44945,     0.45045,     0.45145,     0.45245,     0.45345,     0.45445,     0.45546,\n",
       "           0.45646,     0.45746,     0.45846,     0.45946,     0.46046,     0.46146,     0.46246,     0.46346,     0.46446,     0.46547,     0.46647,     0.46747,     0.46847,     0.46947,     0.47047,     0.47147,     0.47247,     0.47347,     0.47447,     0.47548,     0.47648,     0.47748,     0.47848,     0.47948,\n",
       "           0.48048,     0.48148,     0.48248,     0.48348,     0.48448,     0.48549,     0.48649,     0.48749,     0.48849,     0.48949,     0.49049,     0.49149,     0.49249,     0.49349,     0.49449,      0.4955,      0.4965,      0.4975,      0.4985,      0.4995,      0.5005,      0.5015,      0.5025,      0.5035,\n",
       "            0.5045,     0.50551,     0.50651,     0.50751,     0.50851,     0.50951,     0.51051,     0.51151,     0.51251,     0.51351,     0.51451,     0.51552,     0.51652,     0.51752,     0.51852,     0.51952,     0.52052,     0.52152,     0.52252,     0.52352,     0.52452,     0.52553,     0.52653,     0.52753,\n",
       "           0.52853,     0.52953,     0.53053,     0.53153,     0.53253,     0.53353,     0.53453,     0.53554,     0.53654,     0.53754,     0.53854,     0.53954,     0.54054,     0.54154,     0.54254,     0.54354,     0.54454,     0.54555,     0.54655,     0.54755,     0.54855,     0.54955,     0.55055,     0.55155,\n",
       "           0.55255,     0.55355,     0.55455,     0.55556,     0.55656,     0.55756,     0.55856,     0.55956,     0.56056,     0.56156,     0.56256,     0.56356,     0.56456,     0.56557,     0.56657,     0.56757,     0.56857,     0.56957,     0.57057,     0.57157,     0.57257,     0.57357,     0.57457,     0.57558,\n",
       "           0.57658,     0.57758,     0.57858,     0.57958,     0.58058,     0.58158,     0.58258,     0.58358,     0.58458,     0.58559,     0.58659,     0.58759,     0.58859,     0.58959,     0.59059,     0.59159,     0.59259,     0.59359,     0.59459,      0.5956,      0.5966,      0.5976,      0.5986,      0.5996,\n",
       "            0.6006,      0.6016,      0.6026,      0.6036,      0.6046,     0.60561,     0.60661,     0.60761,     0.60861,     0.60961,     0.61061,     0.61161,     0.61261,     0.61361,     0.61461,     0.61562,     0.61662,     0.61762,     0.61862,     0.61962,     0.62062,     0.62162,     0.62262,     0.62362,\n",
       "           0.62462,     0.62563,     0.62663,     0.62763,     0.62863,     0.62963,     0.63063,     0.63163,     0.63263,     0.63363,     0.63463,     0.63564,     0.63664,     0.63764,     0.63864,     0.63964,     0.64064,     0.64164,     0.64264,     0.64364,     0.64464,     0.64565,     0.64665,     0.64765,\n",
       "           0.64865,     0.64965,     0.65065,     0.65165,     0.65265,     0.65365,     0.65465,     0.65566,     0.65666,     0.65766,     0.65866,     0.65966,     0.66066,     0.66166,     0.66266,     0.66366,     0.66466,     0.66567,     0.66667,     0.66767,     0.66867,     0.66967,     0.67067,     0.67167,\n",
       "           0.67267,     0.67367,     0.67467,     0.67568,     0.67668,     0.67768,     0.67868,     0.67968,     0.68068,     0.68168,     0.68268,     0.68368,     0.68468,     0.68569,     0.68669,     0.68769,     0.68869,     0.68969,     0.69069,     0.69169,     0.69269,     0.69369,     0.69469,      0.6957,\n",
       "            0.6967,      0.6977,      0.6987,      0.6997,      0.7007,      0.7017,      0.7027,      0.7037,      0.7047,     0.70571,     0.70671,     0.70771,     0.70871,     0.70971,     0.71071,     0.71171,     0.71271,     0.71371,     0.71471,     0.71572,     0.71672,     0.71772,     0.71872,     0.71972,\n",
       "           0.72072,     0.72172,     0.72272,     0.72372,     0.72472,     0.72573,     0.72673,     0.72773,     0.72873,     0.72973,     0.73073,     0.73173,     0.73273,     0.73373,     0.73473,     0.73574,     0.73674,     0.73774,     0.73874,     0.73974,     0.74074,     0.74174,     0.74274,     0.74374,\n",
       "           0.74474,     0.74575,     0.74675,     0.74775,     0.74875,     0.74975,     0.75075,     0.75175,     0.75275,     0.75375,     0.75475,     0.75576,     0.75676,     0.75776,     0.75876,     0.75976,     0.76076,     0.76176,     0.76276,     0.76376,     0.76476,     0.76577,     0.76677,     0.76777,\n",
       "           0.76877,     0.76977,     0.77077,     0.77177,     0.77277,     0.77377,     0.77477,     0.77578,     0.77678,     0.77778,     0.77878,     0.77978,     0.78078,     0.78178,     0.78278,     0.78378,     0.78478,     0.78579,     0.78679,     0.78779,     0.78879,     0.78979,     0.79079,     0.79179,\n",
       "           0.79279,     0.79379,     0.79479,      0.7958,      0.7968,      0.7978,      0.7988,      0.7998,      0.8008,      0.8018,      0.8028,      0.8038,      0.8048,     0.80581,     0.80681,     0.80781,     0.80881,     0.80981,     0.81081,     0.81181,     0.81281,     0.81381,     0.81481,     0.81582,\n",
       "           0.81682,     0.81782,     0.81882,     0.81982,     0.82082,     0.82182,     0.82282,     0.82382,     0.82482,     0.82583,     0.82683,     0.82783,     0.82883,     0.82983,     0.83083,     0.83183,     0.83283,     0.83383,     0.83483,     0.83584,     0.83684,     0.83784,     0.83884,     0.83984,\n",
       "           0.84084,     0.84184,     0.84284,     0.84384,     0.84484,     0.84585,     0.84685,     0.84785,     0.84885,     0.84985,     0.85085,     0.85185,     0.85285,     0.85385,     0.85485,     0.85586,     0.85686,     0.85786,     0.85886,     0.85986,     0.86086,     0.86186,     0.86286,     0.86386,\n",
       "           0.86486,     0.86587,     0.86687,     0.86787,     0.86887,     0.86987,     0.87087,     0.87187,     0.87287,     0.87387,     0.87487,     0.87588,     0.87688,     0.87788,     0.87888,     0.87988,     0.88088,     0.88188,     0.88288,     0.88388,     0.88488,     0.88589,     0.88689,     0.88789,\n",
       "           0.88889,     0.88989,     0.89089,     0.89189,     0.89289,     0.89389,     0.89489,      0.8959,      0.8969,      0.8979,      0.8989,      0.8999,      0.9009,      0.9019,      0.9029,      0.9039,      0.9049,     0.90591,     0.90691,     0.90791,     0.90891,     0.90991,     0.91091,     0.91191,\n",
       "           0.91291,     0.91391,     0.91491,     0.91592,     0.91692,     0.91792,     0.91892,     0.91992,     0.92092,     0.92192,     0.92292,     0.92392,     0.92492,     0.92593,     0.92693,     0.92793,     0.92893,     0.92993,     0.93093,     0.93193,     0.93293,     0.93393,     0.93493,     0.93594,\n",
       "           0.93694,     0.93794,     0.93894,     0.93994,     0.94094,     0.94194,     0.94294,     0.94394,     0.94494,     0.94595,     0.94695,     0.94795,     0.94895,     0.94995,     0.95095,     0.95195,     0.95295,     0.95395,     0.95495,     0.95596,     0.95696,     0.95796,     0.95896,     0.95996,\n",
       "           0.96096,     0.96196,     0.96296,     0.96396,     0.96496,     0.96597,     0.96697,     0.96797,     0.96897,     0.96997,     0.97097,     0.97197,     0.97297,     0.97397,     0.97497,     0.97598,     0.97698,     0.97798,     0.97898,     0.97998,     0.98098,     0.98198,     0.98298,     0.98398,\n",
       "           0.98498,     0.98599,     0.98699,     0.98799,     0.98899,     0.98999,     0.99099,     0.99199,     0.99299,     0.99399,     0.99499,       0.996,       0.997,       0.998,       0.999,           1]), array([[   0.036384,    0.036384,    0.051944,    0.064348,    0.074611,    0.084321,    0.093105,     0.10107,     0.10893,     0.11616,     0.12328,     0.12946,     0.13558,      0.1413,     0.14737,     0.15309,     0.15821,     0.16374,     0.16905,     0.17485,     0.18001,     0.18495,     0.19033,\n",
       "            0.19527,     0.20013,      0.2045,     0.20868,      0.2133,     0.21719,     0.22164,       0.226,     0.23036,     0.23415,     0.23822,     0.24232,     0.24572,     0.24961,     0.25343,     0.25733,     0.26122,     0.26516,     0.26864,     0.27226,     0.27652,     0.28031,     0.28351,\n",
       "            0.28699,     0.29018,     0.29386,     0.29763,     0.30071,      0.3041,     0.30819,     0.31198,     0.31571,     0.31902,     0.32271,     0.32603,     0.32877,     0.33267,     0.33542,     0.33896,     0.34224,     0.34619,     0.34869,     0.35174,     0.35492,     0.35817,     0.36224,\n",
       "            0.36517,     0.36741,      0.3709,     0.37352,     0.37632,     0.37874,     0.38163,      0.3843,     0.38659,     0.39025,     0.39227,     0.39647,     0.39872,     0.40086,     0.40408,     0.40703,     0.41059,     0.41272,     0.41505,     0.41703,     0.42007,     0.42364,      0.4262,\n",
       "            0.42944,     0.43162,      0.4344,     0.43744,     0.43981,     0.44207,     0.44471,     0.44666,     0.44942,     0.45197,     0.45488,     0.45727,      0.4594,     0.46215,     0.46411,     0.46753,     0.46887,     0.47132,     0.47337,     0.47496,      0.4779,     0.47983,     0.48291,\n",
       "             0.4845,     0.48669,     0.48882,     0.49192,     0.49396,      0.4971,     0.49982,      0.5018,     0.50453,     0.50568,      0.5078,     0.50895,     0.51093,     0.51326,     0.51472,     0.51676,     0.51898,     0.52117,     0.52344,     0.52566,     0.52708,     0.53063,     0.53254,\n",
       "            0.53416,     0.53559,     0.53765,     0.53948,     0.54126,     0.54299,     0.54481,     0.54744,     0.55001,     0.55161,     0.55376,     0.55578,     0.55842,     0.55987,      0.5616,      0.5634,     0.56567,     0.56743,     0.56905,     0.57067,     0.57179,     0.57394,     0.57537,\n",
       "            0.57762,     0.57931,     0.58044,     0.58258,     0.58475,      0.5875,     0.58907,     0.59137,     0.59376,     0.59581,     0.59763,     0.59986,     0.60111,     0.60267,     0.60452,     0.60604,     0.60755,     0.60946,      0.6116,     0.61336,     0.61485,     0.61658,     0.61782,\n",
       "            0.61893,     0.62067,     0.62257,      0.6247,     0.62587,     0.62757,     0.62983,     0.63034,     0.63199,      0.6352,      0.6358,     0.63916,     0.64024,     0.64086,     0.64188,      0.6427,     0.64455,     0.64615,      0.6468,     0.64833,     0.65016,     0.65276,     0.65375,\n",
       "            0.65582,     0.65782,     0.65905,     0.66039,     0.66229,     0.66447,     0.66587,     0.66789,     0.66883,     0.66982,     0.67053,     0.67213,     0.67295,     0.67446,     0.67547,     0.67664,     0.67789,     0.67916,      0.6808,     0.68145,     0.68194,     0.68393,     0.68561,\n",
       "            0.68747,     0.68858,     0.68995,     0.69122,     0.69252,     0.69496,     0.69578,     0.69761,     0.69911,     0.70016,     0.70134,     0.70228,     0.70422,     0.70539,     0.70699,     0.70854,     0.71062,     0.71217,     0.71345,     0.71386,     0.71613,     0.71641,     0.71784,\n",
       "            0.71974,     0.72075,     0.72231,     0.72446,     0.72623,     0.72708,     0.73016,     0.73102,     0.73276,     0.73451,     0.73532,     0.73588,     0.73929,      0.7397,     0.74055,     0.74311,     0.74371,     0.74482,     0.74645,     0.74738,     0.74805,     0.74864,      0.7507,\n",
       "            0.75196,      0.7522,     0.75348,     0.75555,      0.7566,     0.75726,      0.7586,     0.76013,     0.76123,     0.76168,     0.76366,     0.76496,     0.76575,     0.76628,     0.76668,     0.76706,     0.76829,     0.76911,      0.7707,     0.77215,     0.77306,     0.77408,     0.77435,\n",
       "            0.77544,     0.77589,      0.7769,     0.77789,     0.77906,     0.78071,     0.78144,     0.78154,     0.78424,     0.78564,     0.78626,     0.78705,     0.78758,     0.78941,     0.79026,     0.79082,     0.79159,     0.79226,     0.79335,     0.79447,     0.79576,      0.7965,     0.79659,\n",
       "            0.79777,     0.79836,     0.80056,     0.80147,      0.8038,     0.80432,     0.80496,     0.80558,     0.80578,     0.80651,     0.80886,     0.81065,     0.81105,     0.81213,     0.81312,     0.81476,     0.81564,     0.81543,     0.81642,     0.81696,     0.81788,     0.81891,     0.81959,\n",
       "            0.82105,     0.82133,     0.82133,     0.82177,     0.82178,     0.82422,     0.82519,     0.82555,     0.82563,     0.82651,     0.82807,       0.829,     0.82995,     0.83151,     0.83253,     0.83387,     0.83572,     0.83568,     0.83573,     0.83611,     0.83763,     0.83818,      0.8385,\n",
       "            0.83894,     0.83993,     0.84081,     0.84095,     0.84181,     0.84175,     0.84219,      0.8431,     0.84323,     0.84327,     0.84358,       0.845,     0.84526,     0.84575,     0.84816,     0.84919,     0.84968,     0.85031,     0.85095,     0.85158,     0.85225,     0.85311,     0.85373,\n",
       "            0.85407,     0.85479,      0.8553,     0.85556,     0.85678,     0.85677,     0.85826,     0.85906,     0.86012,     0.86063,     0.86181,     0.86174,     0.86244,     0.86291,     0.86382,     0.86425,     0.86552,     0.86607,      0.8661,      0.8671,      0.8678,     0.86853,     0.86927,\n",
       "            0.87014,     0.87045,     0.87126,     0.87283,     0.87298,     0.87306,     0.87361,      0.8753,     0.87551,     0.87699,     0.87728,     0.87756,     0.87803,     0.87864,     0.87892,     0.87992,     0.88025,     0.88104,     0.88171,      0.8827,     0.88393,     0.88465,     0.88579,\n",
       "            0.88654,      0.8879,     0.88873,     0.88928,     0.88948,     0.89105,     0.89096,     0.89163,     0.89249,     0.89302,     0.89319,     0.89379,     0.89393,     0.89511,      0.8965,     0.89748,     0.89746,      0.8975,      0.8977,     0.89789,     0.89864,     0.89881,     0.89998,\n",
       "            0.89978,     0.90002,     0.90012,     0.90092,     0.90108,     0.90133,     0.90211,     0.90226,      0.9029,     0.90397,     0.90498,     0.90572,     0.90542,     0.90592,     0.90589,     0.90588,     0.90653,     0.90678,     0.90744,     0.90835,     0.90861,     0.90888,     0.90997,\n",
       "             0.9102,     0.91016,     0.91117,     0.91143,     0.91136,     0.91166,     0.91236,     0.91268,     0.91382,      0.9142,     0.91559,     0.91586,     0.91561,     0.91592,     0.91582,     0.91609,     0.91717,     0.91703,     0.91689,     0.91759,     0.91784,     0.91806,     0.91805,\n",
       "            0.91858,     0.91933,      0.9196,     0.92029,     0.92105,     0.92167,       0.922,     0.92265,     0.92245,     0.92273,     0.92275,     0.92298,     0.92294,     0.92414,     0.92402,     0.92468,     0.92583,     0.92573,     0.92647,     0.92675,     0.92672,     0.92696,     0.92724,\n",
       "            0.92719,     0.92784,     0.92764,     0.92813,      0.9284,     0.92853,     0.92872,     0.92869,     0.92932,     0.92971,        0.93,     0.93077,     0.93089,     0.93184,     0.93172,     0.93159,     0.93218,     0.93268,     0.93329,      0.9334,     0.93368,     0.93448,     0.93456,\n",
       "            0.93444,     0.93467,     0.93552,     0.93543,      0.9362,     0.93659,     0.93691,     0.93702,     0.93719,     0.93782,     0.93833,     0.93849,     0.93862,     0.93878,     0.93886,     0.93881,      0.9388,     0.94037,     0.94121,     0.94171,     0.94252,     0.94252,     0.94244,\n",
       "            0.94236,     0.94267,     0.94264,     0.94343,      0.9438,     0.94415,     0.94452,     0.94451,     0.94448,     0.94553,      0.9461,      0.9464,     0.94648,     0.94645,     0.94722,     0.94754,       0.949,     0.94892,     0.94924,     0.94967,     0.94963,     0.94996,     0.94991,\n",
       "            0.94984,     0.94977,     0.94976,     0.95059,     0.95091,     0.95086,     0.95203,     0.95208,     0.95251,     0.95279,     0.95267,     0.95318,     0.95352,     0.95349,      0.9534,     0.95355,     0.95379,     0.95369,     0.95359,     0.95401,     0.95391,     0.95429,     0.95466,\n",
       "            0.95561,     0.95657,      0.9565,      0.9564,     0.95625,     0.95697,     0.95807,     0.95892,     0.95898,     0.95885,     0.95979,     0.95965,      0.9596,     0.95954,     0.95999,     0.95993,     0.95986,     0.95985,     0.96033,     0.96029,     0.96024,     0.96023,     0.96019,\n",
       "            0.96041,     0.96106,     0.96095,     0.96199,     0.96193,     0.96234,     0.96275,     0.96333,      0.9636,     0.96423,     0.96415,     0.96515,     0.96513,     0.96608,     0.96594,      0.9659,      0.9658,     0.96631,     0.96624,     0.96613,     0.96611,     0.96593,     0.96592,\n",
       "            0.96642,     0.96638,     0.96624,      0.9667,     0.96683,     0.96694,     0.96687,      0.9668,     0.96679,     0.96725,     0.96716,     0.96712,     0.96756,     0.96752,     0.96807,     0.96794,      0.9685,     0.96843,      0.9684,     0.96836,     0.96827,     0.96823,     0.96815,\n",
       "            0.96808,       0.968,      0.9685,     0.96901,     0.96886,     0.96885,     0.96934,      0.9693,     0.96925,     0.97036,     0.97023,     0.97081,      0.9707,     0.97065,     0.97058,     0.97047,     0.97046,     0.97033,     0.97029,     0.97019,     0.97072,     0.97068,     0.97119,\n",
       "            0.97115,     0.97106,     0.97165,     0.97164,     0.97156,     0.97154,     0.97132,     0.97186,      0.9717,     0.97166,     0.97291,     0.97289,     0.97277,     0.97269,     0.97265,      0.9725,     0.97239,     0.97237,     0.97227,      0.9724,     0.97279,     0.97337,     0.97335,\n",
       "            0.97317,     0.97309,     0.97305,     0.97289,     0.97344,     0.97328,     0.97324,      0.9731,     0.97293,      0.9731,     0.97497,     0.97557,     0.97555,     0.97549,     0.97537,     0.97534,     0.97525,     0.97509,     0.97558,     0.97565,     0.97632,      0.9763,     0.97613,\n",
       "            0.97599,     0.97662,     0.97696,     0.97799,     0.97779,     0.97778,     0.97843,     0.97832,     0.97819,     0.97809,     0.97899,     0.97955,     0.97953,     0.97937,     0.97931,     0.97999,     0.97997,     0.97988,     0.97982,     0.97976,     0.97963,     0.97949,     0.97944,\n",
       "            0.97929,     0.97926,      0.9791,     0.97905,     0.97885,      0.9788,     0.97873,     0.97861,     0.97889,     0.97923,     0.97915,     0.97991,      0.9807,     0.98149,     0.98145,     0.98134,     0.98128,     0.98119,     0.98104,      0.9809,     0.98084,     0.98071,     0.98063,\n",
       "            0.98061,     0.98148,      0.9814,     0.98118,      0.9811,     0.98103,     0.98088,     0.98078,     0.98064,     0.98057,     0.98048,     0.98033,     0.98014,     0.98006,     0.98096,     0.98075,     0.98172,     0.98164,     0.98154,     0.98139,     0.98127,     0.98115,     0.98214,\n",
       "            0.98205,     0.98191,      0.9817,     0.98151,      0.9814,     0.98348,     0.98529,     0.98549,     0.98537,     0.98525,     0.98519,      0.9863,     0.98602,     0.98586,     0.98575,     0.98562,     0.98548,     0.98665,     0.98659,     0.98656,     0.98644,     0.98766,     0.98759,\n",
       "            0.98738,     0.98727,     0.98995,      0.9898,     0.98968,     0.99105,     0.99086,     0.99078,      0.9906,     0.99038,     0.99187,     0.99176,     0.99171,     0.99202,     0.99321,      0.9931,     0.99304,     0.99288,      0.9928,     0.99267,     0.99256,     0.99244,     0.99234,\n",
       "            0.99225,     0.99219,     0.99203,     0.99192,     0.99185,     0.99156,     0.99138,     0.99121,     0.99113,     0.99108,     0.99087,     0.99308,     0.99295,     0.99279,     0.99257,     0.99245,      0.9923,     0.99207,     0.99366,     0.99449,     0.99443,     0.99426,     0.99409,\n",
       "            0.99399,     0.99388,     0.99383,     0.99363,     0.99344,     0.99333,     0.99308,     0.99298,     0.99269,     0.99258,      0.9962,      0.9961,       0.996,     0.99588,     0.99584,     0.99579,     0.99568,     0.99558,     0.99907,           1,           1,           1,           1,\n",
       "                  1,           1,           1,           1,           1,           1,           1,           1,           1,           1,           1,           1,           1,           1,           1,           1,           1,           1,           1,           1,           1,           1,           1,\n",
       "                  1,           1,           1,           1,           1,           1,           1,           1,           1,           1,           1,           1,           1,           1,           1,           1,           1,           1,           1,           1,           1,           1,           1,\n",
       "                  1,           1,           1,           1,           1,           1,           1,           1,           1,           1,           1,           1,           1,           1,           1,           1,           1,           1,           1,           1,           1,           1,           1,\n",
       "                  1,           1,           1,           1,           1,           1,           1,           1,           1,           1,           1]]), 'Confidence', 'Precision'], [array([          0,    0.001001,    0.002002,    0.003003,    0.004004,    0.005005,    0.006006,    0.007007,    0.008008,    0.009009,     0.01001,    0.011011,    0.012012,    0.013013,    0.014014,    0.015015,    0.016016,    0.017017,    0.018018,    0.019019,     0.02002,    0.021021,    0.022022,    0.023023,\n",
       "          0.024024,    0.025025,    0.026026,    0.027027,    0.028028,    0.029029,     0.03003,    0.031031,    0.032032,    0.033033,    0.034034,    0.035035,    0.036036,    0.037037,    0.038038,    0.039039,     0.04004,    0.041041,    0.042042,    0.043043,    0.044044,    0.045045,    0.046046,    0.047047,\n",
       "          0.048048,    0.049049,     0.05005,    0.051051,    0.052052,    0.053053,    0.054054,    0.055055,    0.056056,    0.057057,    0.058058,    0.059059,     0.06006,    0.061061,    0.062062,    0.063063,    0.064064,    0.065065,    0.066066,    0.067067,    0.068068,    0.069069,     0.07007,    0.071071,\n",
       "          0.072072,    0.073073,    0.074074,    0.075075,    0.076076,    0.077077,    0.078078,    0.079079,     0.08008,    0.081081,    0.082082,    0.083083,    0.084084,    0.085085,    0.086086,    0.087087,    0.088088,    0.089089,     0.09009,    0.091091,    0.092092,    0.093093,    0.094094,    0.095095,\n",
       "          0.096096,    0.097097,    0.098098,    0.099099,      0.1001,      0.1011,      0.1021,      0.1031,      0.1041,     0.10511,     0.10611,     0.10711,     0.10811,     0.10911,     0.11011,     0.11111,     0.11211,     0.11311,     0.11411,     0.11512,     0.11612,     0.11712,     0.11812,     0.11912,\n",
       "           0.12012,     0.12112,     0.12212,     0.12312,     0.12412,     0.12513,     0.12613,     0.12713,     0.12813,     0.12913,     0.13013,     0.13113,     0.13213,     0.13313,     0.13413,     0.13514,     0.13614,     0.13714,     0.13814,     0.13914,     0.14014,     0.14114,     0.14214,     0.14314,\n",
       "           0.14414,     0.14515,     0.14615,     0.14715,     0.14815,     0.14915,     0.15015,     0.15115,     0.15215,     0.15315,     0.15415,     0.15516,     0.15616,     0.15716,     0.15816,     0.15916,     0.16016,     0.16116,     0.16216,     0.16316,     0.16416,     0.16517,     0.16617,     0.16717,\n",
       "           0.16817,     0.16917,     0.17017,     0.17117,     0.17217,     0.17317,     0.17417,     0.17518,     0.17618,     0.17718,     0.17818,     0.17918,     0.18018,     0.18118,     0.18218,     0.18318,     0.18418,     0.18519,     0.18619,     0.18719,     0.18819,     0.18919,     0.19019,     0.19119,\n",
       "           0.19219,     0.19319,     0.19419,      0.1952,      0.1962,      0.1972,      0.1982,      0.1992,      0.2002,      0.2012,      0.2022,      0.2032,      0.2042,     0.20521,     0.20621,     0.20721,     0.20821,     0.20921,     0.21021,     0.21121,     0.21221,     0.21321,     0.21421,     0.21522,\n",
       "           0.21622,     0.21722,     0.21822,     0.21922,     0.22022,     0.22122,     0.22222,     0.22322,     0.22422,     0.22523,     0.22623,     0.22723,     0.22823,     0.22923,     0.23023,     0.23123,     0.23223,     0.23323,     0.23423,     0.23524,     0.23624,     0.23724,     0.23824,     0.23924,\n",
       "           0.24024,     0.24124,     0.24224,     0.24324,     0.24424,     0.24525,     0.24625,     0.24725,     0.24825,     0.24925,     0.25025,     0.25125,     0.25225,     0.25325,     0.25425,     0.25526,     0.25626,     0.25726,     0.25826,     0.25926,     0.26026,     0.26126,     0.26226,     0.26326,\n",
       "           0.26426,     0.26527,     0.26627,     0.26727,     0.26827,     0.26927,     0.27027,     0.27127,     0.27227,     0.27327,     0.27427,     0.27528,     0.27628,     0.27728,     0.27828,     0.27928,     0.28028,     0.28128,     0.28228,     0.28328,     0.28428,     0.28529,     0.28629,     0.28729,\n",
       "           0.28829,     0.28929,     0.29029,     0.29129,     0.29229,     0.29329,     0.29429,      0.2953,      0.2963,      0.2973,      0.2983,      0.2993,      0.3003,      0.3013,      0.3023,      0.3033,      0.3043,     0.30531,     0.30631,     0.30731,     0.30831,     0.30931,     0.31031,     0.31131,\n",
       "           0.31231,     0.31331,     0.31431,     0.31532,     0.31632,     0.31732,     0.31832,     0.31932,     0.32032,     0.32132,     0.32232,     0.32332,     0.32432,     0.32533,     0.32633,     0.32733,     0.32833,     0.32933,     0.33033,     0.33133,     0.33233,     0.33333,     0.33433,     0.33534,\n",
       "           0.33634,     0.33734,     0.33834,     0.33934,     0.34034,     0.34134,     0.34234,     0.34334,     0.34434,     0.34535,     0.34635,     0.34735,     0.34835,     0.34935,     0.35035,     0.35135,     0.35235,     0.35335,     0.35435,     0.35536,     0.35636,     0.35736,     0.35836,     0.35936,\n",
       "           0.36036,     0.36136,     0.36236,     0.36336,     0.36436,     0.36537,     0.36637,     0.36737,     0.36837,     0.36937,     0.37037,     0.37137,     0.37237,     0.37337,     0.37437,     0.37538,     0.37638,     0.37738,     0.37838,     0.37938,     0.38038,     0.38138,     0.38238,     0.38338,\n",
       "           0.38438,     0.38539,     0.38639,     0.38739,     0.38839,     0.38939,     0.39039,     0.39139,     0.39239,     0.39339,     0.39439,      0.3954,      0.3964,      0.3974,      0.3984,      0.3994,      0.4004,      0.4014,      0.4024,      0.4034,      0.4044,     0.40541,     0.40641,     0.40741,\n",
       "           0.40841,     0.40941,     0.41041,     0.41141,     0.41241,     0.41341,     0.41441,     0.41542,     0.41642,     0.41742,     0.41842,     0.41942,     0.42042,     0.42142,     0.42242,     0.42342,     0.42442,     0.42543,     0.42643,     0.42743,     0.42843,     0.42943,     0.43043,     0.43143,\n",
       "           0.43243,     0.43343,     0.43443,     0.43544,     0.43644,     0.43744,     0.43844,     0.43944,     0.44044,     0.44144,     0.44244,     0.44344,     0.44444,     0.44545,     0.44645,     0.44745,     0.44845,     0.44945,     0.45045,     0.45145,     0.45245,     0.45345,     0.45445,     0.45546,\n",
       "           0.45646,     0.45746,     0.45846,     0.45946,     0.46046,     0.46146,     0.46246,     0.46346,     0.46446,     0.46547,     0.46647,     0.46747,     0.46847,     0.46947,     0.47047,     0.47147,     0.47247,     0.47347,     0.47447,     0.47548,     0.47648,     0.47748,     0.47848,     0.47948,\n",
       "           0.48048,     0.48148,     0.48248,     0.48348,     0.48448,     0.48549,     0.48649,     0.48749,     0.48849,     0.48949,     0.49049,     0.49149,     0.49249,     0.49349,     0.49449,      0.4955,      0.4965,      0.4975,      0.4985,      0.4995,      0.5005,      0.5015,      0.5025,      0.5035,\n",
       "            0.5045,     0.50551,     0.50651,     0.50751,     0.50851,     0.50951,     0.51051,     0.51151,     0.51251,     0.51351,     0.51451,     0.51552,     0.51652,     0.51752,     0.51852,     0.51952,     0.52052,     0.52152,     0.52252,     0.52352,     0.52452,     0.52553,     0.52653,     0.52753,\n",
       "           0.52853,     0.52953,     0.53053,     0.53153,     0.53253,     0.53353,     0.53453,     0.53554,     0.53654,     0.53754,     0.53854,     0.53954,     0.54054,     0.54154,     0.54254,     0.54354,     0.54454,     0.54555,     0.54655,     0.54755,     0.54855,     0.54955,     0.55055,     0.55155,\n",
       "           0.55255,     0.55355,     0.55455,     0.55556,     0.55656,     0.55756,     0.55856,     0.55956,     0.56056,     0.56156,     0.56256,     0.56356,     0.56456,     0.56557,     0.56657,     0.56757,     0.56857,     0.56957,     0.57057,     0.57157,     0.57257,     0.57357,     0.57457,     0.57558,\n",
       "           0.57658,     0.57758,     0.57858,     0.57958,     0.58058,     0.58158,     0.58258,     0.58358,     0.58458,     0.58559,     0.58659,     0.58759,     0.58859,     0.58959,     0.59059,     0.59159,     0.59259,     0.59359,     0.59459,      0.5956,      0.5966,      0.5976,      0.5986,      0.5996,\n",
       "            0.6006,      0.6016,      0.6026,      0.6036,      0.6046,     0.60561,     0.60661,     0.60761,     0.60861,     0.60961,     0.61061,     0.61161,     0.61261,     0.61361,     0.61461,     0.61562,     0.61662,     0.61762,     0.61862,     0.61962,     0.62062,     0.62162,     0.62262,     0.62362,\n",
       "           0.62462,     0.62563,     0.62663,     0.62763,     0.62863,     0.62963,     0.63063,     0.63163,     0.63263,     0.63363,     0.63463,     0.63564,     0.63664,     0.63764,     0.63864,     0.63964,     0.64064,     0.64164,     0.64264,     0.64364,     0.64464,     0.64565,     0.64665,     0.64765,\n",
       "           0.64865,     0.64965,     0.65065,     0.65165,     0.65265,     0.65365,     0.65465,     0.65566,     0.65666,     0.65766,     0.65866,     0.65966,     0.66066,     0.66166,     0.66266,     0.66366,     0.66466,     0.66567,     0.66667,     0.66767,     0.66867,     0.66967,     0.67067,     0.67167,\n",
       "           0.67267,     0.67367,     0.67467,     0.67568,     0.67668,     0.67768,     0.67868,     0.67968,     0.68068,     0.68168,     0.68268,     0.68368,     0.68468,     0.68569,     0.68669,     0.68769,     0.68869,     0.68969,     0.69069,     0.69169,     0.69269,     0.69369,     0.69469,      0.6957,\n",
       "            0.6967,      0.6977,      0.6987,      0.6997,      0.7007,      0.7017,      0.7027,      0.7037,      0.7047,     0.70571,     0.70671,     0.70771,     0.70871,     0.70971,     0.71071,     0.71171,     0.71271,     0.71371,     0.71471,     0.71572,     0.71672,     0.71772,     0.71872,     0.71972,\n",
       "           0.72072,     0.72172,     0.72272,     0.72372,     0.72472,     0.72573,     0.72673,     0.72773,     0.72873,     0.72973,     0.73073,     0.73173,     0.73273,     0.73373,     0.73473,     0.73574,     0.73674,     0.73774,     0.73874,     0.73974,     0.74074,     0.74174,     0.74274,     0.74374,\n",
       "           0.74474,     0.74575,     0.74675,     0.74775,     0.74875,     0.74975,     0.75075,     0.75175,     0.75275,     0.75375,     0.75475,     0.75576,     0.75676,     0.75776,     0.75876,     0.75976,     0.76076,     0.76176,     0.76276,     0.76376,     0.76476,     0.76577,     0.76677,     0.76777,\n",
       "           0.76877,     0.76977,     0.77077,     0.77177,     0.77277,     0.77377,     0.77477,     0.77578,     0.77678,     0.77778,     0.77878,     0.77978,     0.78078,     0.78178,     0.78278,     0.78378,     0.78478,     0.78579,     0.78679,     0.78779,     0.78879,     0.78979,     0.79079,     0.79179,\n",
       "           0.79279,     0.79379,     0.79479,      0.7958,      0.7968,      0.7978,      0.7988,      0.7998,      0.8008,      0.8018,      0.8028,      0.8038,      0.8048,     0.80581,     0.80681,     0.80781,     0.80881,     0.80981,     0.81081,     0.81181,     0.81281,     0.81381,     0.81481,     0.81582,\n",
       "           0.81682,     0.81782,     0.81882,     0.81982,     0.82082,     0.82182,     0.82282,     0.82382,     0.82482,     0.82583,     0.82683,     0.82783,     0.82883,     0.82983,     0.83083,     0.83183,     0.83283,     0.83383,     0.83483,     0.83584,     0.83684,     0.83784,     0.83884,     0.83984,\n",
       "           0.84084,     0.84184,     0.84284,     0.84384,     0.84484,     0.84585,     0.84685,     0.84785,     0.84885,     0.84985,     0.85085,     0.85185,     0.85285,     0.85385,     0.85485,     0.85586,     0.85686,     0.85786,     0.85886,     0.85986,     0.86086,     0.86186,     0.86286,     0.86386,\n",
       "           0.86486,     0.86587,     0.86687,     0.86787,     0.86887,     0.86987,     0.87087,     0.87187,     0.87287,     0.87387,     0.87487,     0.87588,     0.87688,     0.87788,     0.87888,     0.87988,     0.88088,     0.88188,     0.88288,     0.88388,     0.88488,     0.88589,     0.88689,     0.88789,\n",
       "           0.88889,     0.88989,     0.89089,     0.89189,     0.89289,     0.89389,     0.89489,      0.8959,      0.8969,      0.8979,      0.8989,      0.8999,      0.9009,      0.9019,      0.9029,      0.9039,      0.9049,     0.90591,     0.90691,     0.90791,     0.90891,     0.90991,     0.91091,     0.91191,\n",
       "           0.91291,     0.91391,     0.91491,     0.91592,     0.91692,     0.91792,     0.91892,     0.91992,     0.92092,     0.92192,     0.92292,     0.92392,     0.92492,     0.92593,     0.92693,     0.92793,     0.92893,     0.92993,     0.93093,     0.93193,     0.93293,     0.93393,     0.93493,     0.93594,\n",
       "           0.93694,     0.93794,     0.93894,     0.93994,     0.94094,     0.94194,     0.94294,     0.94394,     0.94494,     0.94595,     0.94695,     0.94795,     0.94895,     0.94995,     0.95095,     0.95195,     0.95295,     0.95395,     0.95495,     0.95596,     0.95696,     0.95796,     0.95896,     0.95996,\n",
       "           0.96096,     0.96196,     0.96296,     0.96396,     0.96496,     0.96597,     0.96697,     0.96797,     0.96897,     0.96997,     0.97097,     0.97197,     0.97297,     0.97397,     0.97497,     0.97598,     0.97698,     0.97798,     0.97898,     0.97998,     0.98098,     0.98198,     0.98298,     0.98398,\n",
       "           0.98498,     0.98599,     0.98699,     0.98799,     0.98899,     0.98999,     0.99099,     0.99199,     0.99299,     0.99399,     0.99499,       0.996,       0.997,       0.998,       0.999,           1]), array([[    0.92541,     0.92541,     0.92073,     0.91581,      0.9126,     0.90916,     0.90645,     0.90399,     0.90226,      0.9003,     0.89808,     0.89513,     0.89316,     0.89045,     0.88848,     0.88676,     0.88479,     0.88331,     0.88306,     0.88109,     0.87986,     0.87912,     0.87765,\n",
       "            0.87666,     0.87642,     0.87494,     0.87272,     0.87174,     0.87051,     0.86878,     0.86706,     0.86632,     0.86558,      0.8646,     0.86337,     0.86115,     0.85992,     0.85894,     0.85844,     0.85795,     0.85598,     0.85475,     0.85377,     0.85303,     0.85278,     0.85204,\n",
       "            0.85106,     0.85007,     0.84835,     0.84761,     0.84712,     0.84638,     0.84564,     0.84466,     0.84466,     0.84417,     0.84417,     0.84318,     0.84146,     0.84097,     0.83973,      0.8385,     0.83801,     0.83776,     0.83727,     0.83653,     0.83604,      0.8353,     0.83407,\n",
       "            0.83333,     0.83259,      0.8321,      0.8321,     0.83063,     0.82939,      0.8289,     0.82841,     0.82767,     0.82718,     0.82546,     0.82496,     0.82422,     0.82275,     0.82053,     0.81955,     0.81905,     0.81758,     0.81585,     0.81561,     0.81388,     0.81339,     0.81315,\n",
       "            0.81265,     0.81167,     0.81142,     0.81031,     0.80964,     0.80847,     0.80773,     0.80724,      0.8065,     0.80478,     0.80305,     0.80158,     0.80108,     0.80059,     0.79936,     0.79887,     0.79813,     0.79739,     0.79641,     0.79542,     0.79478,     0.79444,     0.79419,\n",
       "            0.79394,     0.79321,     0.79247,     0.79197,     0.79025,        0.79,     0.78918,     0.78853,     0.78779,      0.7868,     0.78557,     0.78459,     0.78341,     0.78213,     0.78114,      0.7804,     0.77942,     0.77917,     0.77893,     0.77819,     0.77745,     0.77622,     0.77573,\n",
       "             0.7745,      0.7734,     0.77253,     0.77154,     0.77154,     0.77105,     0.77056,     0.76982,     0.76908,     0.76859,     0.76736,     0.76711,     0.76662,     0.76613,     0.76588,     0.76531,     0.76465,     0.76366,     0.76194,     0.76145,     0.76071,     0.76046,     0.75997,\n",
       "            0.75997,     0.75849,       0.758,     0.75751,     0.75714,     0.75628,     0.75603,     0.75554,     0.75491,     0.75445,     0.75382,     0.75357,     0.75357,     0.75258,     0.75209,     0.75209,      0.7516,      0.7507,     0.75037,     0.74938,     0.74914,      0.7484,     0.74766,\n",
       "            0.74692,       0.746,     0.74446,     0.74372,     0.74348,     0.74323,     0.74298,     0.74225,     0.74114,     0.74072,     0.74009,     0.73929,      0.7378,     0.73683,     0.73683,     0.73609,     0.73461,     0.73363,     0.73363,     0.73338,     0.73295,      0.7324,     0.73215,\n",
       "            0.73141,     0.73067,     0.73018,     0.72846,     0.72821,     0.72692,     0.72624,      0.7255,      0.7255,     0.72403,     0.72403,     0.72354,     0.72284,     0.72206,     0.72206,     0.72157,     0.72132,     0.72107,     0.72058,     0.72033,      0.7196,      0.7191,      0.7191,\n",
       "            0.71861,     0.71812,     0.71765,     0.71738,     0.71713,     0.71615,      0.7159,     0.71443,     0.71418,     0.71398,     0.71339,      0.7127,      0.7127,      0.7127,     0.71246,     0.71147,     0.71123,     0.71098,     0.71041,      0.7095,     0.70925,     0.70876,     0.70852,\n",
       "            0.70803,     0.70753,     0.70704,     0.70606,     0.70556,     0.70507,     0.70458,     0.70409,     0.70335,     0.70286,     0.70212,     0.70167,     0.70158,       0.701,     0.70064,      0.6999,     0.69916,     0.69867,     0.69793,     0.69744,     0.69645,     0.69596,     0.69522,\n",
       "            0.69484,     0.69449,     0.69376,     0.69244,     0.69202,     0.69153,     0.69079,     0.69044,      0.6899,     0.68858,     0.68729,      0.6871,     0.68646,     0.68612,     0.68439,      0.6839,     0.68322,     0.68242,     0.68168,     0.68159,      0.6807,     0.67996,     0.67923,\n",
       "            0.67841,     0.67799,      0.6775,     0.67701,     0.67528,     0.67454,     0.67381,     0.67258,     0.67208,      0.6711,     0.66987,     0.66876,     0.66839,     0.66813,     0.66787,     0.66732,     0.66716,     0.66691,     0.66642,     0.66617,     0.66544,     0.66486,      0.6647,\n",
       "            0.66427,     0.66396,     0.66297,     0.66273,     0.66224,     0.66224,     0.66174,       0.661,     0.65977,     0.65953,     0.65903,     0.65854,     0.65854,      0.6578,      0.6578,     0.65707,     0.65675,     0.65584,     0.65472,     0.65411,     0.65362,     0.65237,      0.6519,\n",
       "            0.65062,     0.64958,     0.64894,     0.64845,     0.64704,     0.64525,     0.64499,     0.64424,     0.64344,     0.64303,     0.64205,     0.64131,     0.64082,     0.64032,     0.64008,     0.63885,     0.63836,     0.63729,     0.63628,      0.6355,       0.635,     0.63417,     0.63271,\n",
       "            0.63221,     0.63171,     0.63048,     0.63048,     0.63016,     0.62988,     0.62851,     0.62752,     0.62678,     0.62531,     0.62408,     0.62408,      0.6226,     0.62228,     0.62112,     0.62104,     0.62014,     0.61952,     0.61891,     0.61726,     0.61669,     0.61626,     0.61497,\n",
       "            0.61374,     0.61298,     0.61251,     0.61226,     0.61118,     0.61054,     0.61054,     0.61004,     0.60931,     0.60857,     0.60832,     0.60763,     0.60684,     0.60611,     0.60611,     0.60512,      0.6034,     0.60335,     0.60315,     0.60235,     0.60069,     0.60012,     0.59913,\n",
       "            0.59798,     0.59774,       0.597,       0.597,     0.59559,     0.59478,     0.59386,     0.59306,     0.59212,     0.59133,     0.59131,     0.59084,     0.58986,     0.58961,     0.58936,     0.58808,     0.58764,     0.58708,     0.58666,     0.58666,     0.58616,      0.5853,     0.58493,\n",
       "            0.58346,     0.58304,     0.58204,      0.5813,     0.58055,     0.58026,     0.57931,     0.57755,     0.57635,     0.57558,     0.57436,     0.57386,     0.57263,     0.57139,     0.57139,     0.57114,     0.57101,      0.5709,     0.57031,     0.56932,     0.56869,     0.56857,     0.56709,\n",
       "            0.56585,     0.56511,      0.5645,     0.56411,     0.56376,     0.56302,     0.56261,     0.56204,     0.56088,     0.55908,     0.55859,     0.55815,     0.55618,     0.55469,     0.55455,     0.55442,     0.55394,     0.55319,     0.55269,     0.55146,     0.55071,     0.54998,     0.54973,\n",
       "            0.54897,     0.54872,     0.54797,     0.54723,     0.54673,     0.54623,      0.5453,     0.54481,     0.54481,     0.54481,     0.54472,     0.54398,     0.54225,     0.54175,     0.54101,     0.54026,     0.53976,     0.53877,     0.53778,     0.53728,     0.53629,     0.53619,     0.53505,\n",
       "            0.53422,     0.53307,     0.53299,     0.53225,     0.53132,     0.53009,     0.52959,      0.5286,     0.52711,     0.52659,     0.52636,     0.52513,     0.52487,     0.52486,     0.52388,     0.52289,     0.52239,     0.52164,     0.52114,     0.52015,     0.51945,     0.51866,     0.51767,\n",
       "            0.51649,     0.51594,     0.51445,     0.51403,     0.51395,     0.51379,      0.5132,     0.51295,     0.51146,     0.51121,     0.51022,     0.50972,     0.50886,     0.50823,     0.50724,     0.50625,     0.50542,     0.50476,     0.50394,     0.50376,     0.50345,     0.50295,     0.50276,\n",
       "            0.50177,     0.50074,     0.50003,     0.49929,     0.49854,     0.49817,     0.49718,     0.49631,     0.49593,     0.49557,     0.49445,      0.4936,      0.4932,     0.49212,     0.49147,     0.49105,     0.49093,     0.49015,     0.48966,     0.48922,     0.48917,     0.48847,     0.48772,\n",
       "            0.48698,     0.48574,     0.48549,      0.4845,     0.48375,     0.48276,     0.48202,     0.48185,     0.48164,     0.48031,     0.47966,     0.47957,      0.4789,     0.47865,     0.47717,     0.47686,     0.47642,     0.47567,     0.47489,      0.4744,     0.47344,     0.47208,     0.47158,\n",
       "            0.47084,     0.47015,     0.47003,     0.46885,     0.46736,     0.46687,     0.46603,     0.46464,     0.46414,     0.46204,      0.4608,     0.45987,     0.45956,     0.45931,     0.45832,     0.45815,     0.45732,     0.45633,     0.45524,     0.45447,     0.45348,     0.45224,     0.45101,\n",
       "            0.45051,     0.45001,     0.44926,     0.44824,     0.44667,     0.44535,     0.44444,     0.44412,      0.4432,     0.44171,     0.44072,     0.43911,     0.43862,     0.43787,     0.43713,     0.43638,     0.43567,     0.43551,     0.43501,     0.43464,     0.43402,     0.43389,     0.43349,\n",
       "             0.4323,      0.4314,     0.43017,     0.42991,     0.42917,     0.42781,     0.42633,      0.4259,      0.4259,     0.42475,     0.42372,     0.42344,     0.42247,     0.42074,     0.41889,     0.41839,     0.41715,     0.41666,     0.41571,     0.41431,     0.41405,     0.41184,     0.41167,\n",
       "            0.41096,     0.41046,     0.40873,     0.40737,     0.40694,     0.40317,     0.40234,     0.40142,     0.40129,      0.3999,     0.39871,     0.39821,     0.39652,     0.39586,     0.39561,     0.39388,      0.3936,     0.39276,     0.39226,     0.39176,     0.39065,     0.39015,      0.3891,\n",
       "            0.38829,      0.3873,     0.38606,     0.38495,       0.383,     0.38283,     0.38136,     0.38086,     0.38024,     0.37876,     0.37715,     0.37665,     0.37515,     0.37455,     0.37356,     0.37221,     0.37209,     0.37041,     0.36984,      0.3686,     0.36724,     0.36674,     0.36518,\n",
       "            0.36464,      0.3634,     0.36281,     0.36264,     0.36166,     0.36141,     0.35857,     0.35709,     0.35499,     0.35447,     0.35362,     0.35337,     0.35176,     0.35073,     0.35015,      0.3483,     0.34681,      0.3465,     0.34527,     0.34417,     0.34326,     0.34198,     0.34173,\n",
       "            0.33938,     0.33828,     0.33777,     0.33567,     0.33382,     0.33183,     0.33122,     0.32949,      0.3274,     0.32693,     0.32603,     0.32442,     0.32412,     0.32336,      0.3217,     0.32137,     0.32008,     0.31799,     0.31733,     0.31563,     0.31466,     0.31439,     0.31205,\n",
       "            0.31019,     0.30846,     0.30748,     0.30624,     0.30352,     0.30207,      0.3015,     0.29993,     0.29808,     0.29679,     0.29542,      0.2948,     0.29449,     0.29214,     0.29131,     0.28942,     0.28907,     0.28781,     0.28683,     0.28607,      0.2841,     0.28212,      0.2815,\n",
       "            0.27938,     0.27903,      0.2768,     0.27606,     0.27343,     0.27285,     0.27193,     0.27037,     0.26785,     0.26691,     0.26592,     0.26419,     0.26274,     0.26243,      0.2605,     0.25888,     0.25813,     0.25689,     0.25479,     0.25282,     0.25206,     0.25032,     0.24923,\n",
       "            0.24898,     0.24787,     0.24683,     0.24386,      0.2428,     0.24187,     0.23996,     0.23864,     0.23691,       0.236,     0.23491,     0.23318,     0.23081,     0.22995,     0.22846,     0.22575,     0.22474,     0.22375,      0.2225,     0.22067,     0.21928,     0.21779,     0.21659,\n",
       "            0.21555,     0.21381,     0.21134,     0.20911,     0.20782,     0.20515,     0.20212,     0.20069,     0.19896,     0.19733,     0.19647,     0.19498,     0.19103,      0.1888,     0.18731,     0.18558,     0.18384,     0.18189,     0.18111,     0.18077,     0.17911,     0.17738,     0.17638,\n",
       "            0.17341,     0.17188,      0.1697,     0.16722,     0.16524,      0.1635,     0.16005,      0.1588,     0.15559,     0.15213,     0.15015,     0.14817,     0.14717,     0.14549,     0.14395,     0.14172,     0.14047,     0.13726,     0.13577,      0.1333,     0.13132,     0.12933,      0.1276,\n",
       "            0.12611,     0.12511,     0.12264,      0.1209,     0.11991,     0.11571,     0.11323,     0.11101,     0.11001,      0.1094,     0.10681,     0.10603,     0.10397,     0.10175,     0.09861,    0.097121,    0.095139,    0.092419,    0.090842,     0.08891,    0.087951,     0.08523,    0.082756,\n",
       "           0.081377,    0.080023,    0.079272,    0.076798,    0.074582,    0.073327,    0.070631,     0.06961,    0.066889,    0.065892,    0.064575,    0.062913,    0.061239,    0.059509,    0.058938,    0.058187,    0.056697,    0.055454,    0.053914,    0.052333,    0.051232,     0.04925,    0.048622,\n",
       "            0.04701,    0.044043,    0.042308,    0.040572,    0.039083,    0.038052,    0.037089,    0.035107,    0.033617,    0.033113,    0.031869,    0.030134,    0.029383,    0.028386,    0.027389,    0.025653,    0.023425,    0.022329,    0.022161,    0.021419,    0.020176,    0.018932,    0.018076,\n",
       "           0.017209,    0.015972,    0.014698,    0.013455,    0.012933,      0.0125,    0.012022,    0.011854,    0.010931,    0.010629,   0.0098846,    0.009263,   0.0089124,   0.0084077,   0.0078337,   0.0077327,   0.0076318,   0.0067641,   0.0063766,   0.0060133,   0.0054039,   0.0052777,   0.0046628,\n",
       "          0.0045619,   0.0044609,    0.004253,   0.0040007,   0.0031666,   0.0030405,   0.0026681,   0.0025419,   0.0022775,   0.0019942,   0.0018178,    0.001502,   0.0009973,  0.00049249,  0.00036626,           0,           0,           0,           0,           0,           0,           0,           0,\n",
       "                  0,           0,           0,           0,           0,           0,           0,           0,           0,           0,           0]]), 'Confidence', 'Recall']]\n",
       "fitness: 0.5308569119383943\n",
       "keys: ['metrics/precision(B)', 'metrics/recall(B)', 'metrics/mAP50(B)', 'metrics/mAP50-95(B)']\n",
       "maps: array([    0.50596])\n",
       "names: {0: 'car'}\n",
       "plot: True\n",
       "results_dict: {'metrics/precision(B)': 0.795756679315793, 'metrics/recall(B)': 0.6654357459379616, 'metrics/mAP50(B)': 0.7549004091507865, 'metrics/mAP50-95(B)': 0.5059631900259064, 'fitness': 0.5308569119383943}\n",
       "save_dir: WindowsPath('runs/detect/train2')\n",
       "speed: {'preprocess': 0.12958562619121036, 'inference': 1.1973120464989884, 'loss': 0.00026078028113547455, 'postprocess': 1.105487474259805}\n",
       "task: 'detect'"
      ]
     },
     "execution_count": 14,
     "metadata": {},
     "output_type": "execute_result"
    }
   ],
   "source": [
    "#Train model\n",
    "\n",
    "model = YOLO(\"yolo11n.pt\")\n",
    "model.train(\n",
    "    data = 'data.yaml',\n",
    "    epochs = 50\n",
    ")"
   ]
  },
  {
   "cell_type": "code",
   "execution_count": null,
   "metadata": {},
   "outputs": [],
   "source": [
    "model = YOLO(\"yolo11n.pt\")\n",
    "\n",
    "results = model.track(\n",
    "  source=\"car_video_3.mp4\",\n",
    "  save=True,\n",
    "  project=\"bytetrack\",\n",
    "  tracker=\"bytetrack.yaml\",\n",
    "  conf=0.5,\n",
    "  classes = [2]\n",
    ") "
   ]
  },
  {
   "cell_type": "code",
   "execution_count": null,
   "metadata": {},
   "outputs": [],
   "source": [
    "model = YOLO(r\"runs\\detect\\train2\\weights\\best.pt\")\n",
    "\n",
    "results = model.track(\n",
    "  source=\"car_video_3.mp4\",\n",
    "  save=True,\n",
    "  project=\"bytetrack\",\n",
    "  tracker=\"bytetrack.yaml\",\n",
    "  conf=0.5,\n",
    "  classes = [0]\n",
    ") "
   ]
  }
 ],
 "metadata": {
  "kernelspec": {
   "display_name": "Python 3",
   "language": "python",
   "name": "python3"
  },
  "language_info": {
   "codemirror_mode": {
    "name": "ipython",
    "version": 3
   },
   "file_extension": ".py",
   "mimetype": "text/x-python",
   "name": "python",
   "nbconvert_exporter": "python",
   "pygments_lexer": "ipython3",
   "version": "3.11.9"
  }
 },
 "nbformat": 4,
 "nbformat_minor": 2
}
